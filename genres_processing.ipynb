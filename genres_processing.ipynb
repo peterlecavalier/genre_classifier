{
 "cells": [
  {
   "cell_type": "code",
   "execution_count": 69,
   "metadata": {},
   "outputs": [],
   "source": [
    "import pandas as pd\n",
    "import plotly.express as px\n",
    "from glob import glob\n",
    "import pandas as pd\n",
    "import os\n",
    "import matplotlib.pyplot as plt\n",
    "import tensorflow_io as tfio\n",
    "from tqdm import tqdm"
   ]
  },
  {
   "cell_type": "code",
   "execution_count": 70,
   "metadata": {},
   "outputs": [],
   "source": [
    "# Read in data\n",
    "genres = pd.read_csv('./data/fma_metadata/genres.csv')\n",
    "\n",
    "# Insert a genre_id with number 0 to make a top-level.\n",
    "genres.loc[len(genres.index)] = [0, 0, None, 'All Genres', 0]\n",
    "\n",
    "# Get important info only\n",
    "genres = genres[['genre_id', '#tracks', 'parent', 'title']]\n",
    "\n",
    "### Set parent column to title of parent column.\n",
    "# Create a mapping DataFrame with 'genre_id' and 'title'\n",
    "genre_mapping = genres[['genre_id', 'title']]\n",
    "\n",
    "# Merge the original DataFrame with the mapping DataFrame\n",
    "genres = genres.merge(genre_mapping, left_on='parent', right_on='genre_id', suffixes=('', '_parent'))\n",
    "\n",
    "# Drop the 'genre_id' column of the parent\n",
    "genres = genres.drop(columns=['genre_id_parent', 'parent', 'genre_id'])\n",
    "\n",
    "# Rename the 'title' column to 'parent_title'\n",
    "genres = genres.rename(columns={'title_parent': 'parent'})"
   ]
  },
  {
   "cell_type": "code",
   "execution_count": 71,
   "metadata": {},
   "outputs": [
    {
     "data": {
      "text/html": [
       "<div>\n",
       "<style scoped>\n",
       "    .dataframe tbody tr th:only-of-type {\n",
       "        vertical-align: middle;\n",
       "    }\n",
       "\n",
       "    .dataframe tbody tr th {\n",
       "        vertical-align: top;\n",
       "    }\n",
       "\n",
       "    .dataframe thead th {\n",
       "        text-align: right;\n",
       "    }\n",
       "</style>\n",
       "<table border=\"1\" class=\"dataframe\">\n",
       "  <thead>\n",
       "    <tr style=\"text-align: right;\">\n",
       "      <th></th>\n",
       "      <th>#tracks</th>\n",
       "      <th>title</th>\n",
       "      <th>parent</th>\n",
       "    </tr>\n",
       "  </thead>\n",
       "  <tbody>\n",
       "    <tr>\n",
       "      <th>0</th>\n",
       "      <td>8693</td>\n",
       "      <td>Avant-Garde</td>\n",
       "      <td>Experimental</td>\n",
       "    </tr>\n",
       "    <tr>\n",
       "      <th>1</th>\n",
       "      <td>914</td>\n",
       "      <td>Novelty</td>\n",
       "      <td>Experimental</td>\n",
       "    </tr>\n",
       "    <tr>\n",
       "      <th>2</th>\n",
       "      <td>774</td>\n",
       "      <td>Audio Collage</td>\n",
       "      <td>Experimental</td>\n",
       "    </tr>\n",
       "    <tr>\n",
       "      <th>3</th>\n",
       "      <td>3237</td>\n",
       "      <td>Field Recordings</td>\n",
       "      <td>Experimental</td>\n",
       "    </tr>\n",
       "    <tr>\n",
       "      <th>4</th>\n",
       "      <td>7268</td>\n",
       "      <td>Noise</td>\n",
       "      <td>Experimental</td>\n",
       "    </tr>\n",
       "  </tbody>\n",
       "</table>\n",
       "</div>"
      ],
      "text/plain": [
       "   #tracks             title        parent\n",
       "0     8693       Avant-Garde  Experimental\n",
       "1      914           Novelty  Experimental\n",
       "2      774     Audio Collage  Experimental\n",
       "3     3237  Field Recordings  Experimental\n",
       "4     7268             Noise  Experimental"
      ]
     },
     "execution_count": 71,
     "metadata": {},
     "output_type": "execute_result"
    }
   ],
   "source": [
    "genres.head()"
   ]
  },
  {
   "cell_type": "code",
   "execution_count": 72,
   "metadata": {},
   "outputs": [
    {
     "data": {
      "application/vnd.plotly.v1+json": {
       "config": {
        "plotlyServerURL": "https://plot.ly"
       },
       "data": [
        {
         "domain": {
          "x": [
           0,
           1
          ],
          "y": [
           0,
           1
          ]
         },
         "hovertemplate": "title=%{label}<br>parent=%{parent}<extra></extra>",
         "labels": [
          "Avant-Garde",
          "Novelty",
          "Audio Collage",
          "Field Recordings",
          "Noise",
          "Electroacoustic",
          "Drone",
          "Unclassifiable",
          "Sound Poetry",
          "Sound Collage",
          "Musique Concrete",
          "Improv",
          "Minimalism",
          "Sound Art",
          "International",
          "Blues",
          "Jazz",
          "Classical",
          "Old-Time / Historic",
          "Country",
          "Pop",
          "Rock",
          "Easy Listening",
          "Soul-RnB",
          "Electronic",
          "Folk",
          "Spoken",
          "Hip-Hop",
          "Experimental",
          "Instrumental",
          "Comedy",
          "Radio",
          "Spoken Weird",
          "Poetry",
          "Banter",
          "Spoken Word",
          "Radio Theater",
          "Musical Theater",
          "Disco",
          "Funk",
          "Sound Effects",
          "Kid-Friendly",
          "Soundtrack",
          "Ambient",
          "New Age",
          "Punk",
          "Post-Rock",
          "Lo-Fi",
          "Metal",
          "Krautrock",
          "Loud-Rock",
          "Psych-Rock",
          "Indie-Rock",
          "Industrial",
          "Garage",
          "New Wave",
          "Progressive",
          "Goth",
          "Shoegaze",
          "Rock Opera",
          "Psych-Folk",
          "Free-Folk",
          "Freak-Folk",
          "Singer-Songwriter",
          "British Folk",
          "Jazz: Vocal",
          "Free-Jazz",
          "Jazz: Out",
          "Be-Bop",
          "Big Band/Swing",
          "Modern Jazz",
          "Ambient Electronic",
          "Techno",
          "House",
          "Glitch",
          "Minimal Electronic",
          "Breakcore - Hard",
          "IDM",
          "Trip-Hop",
          "Dance",
          "Chip Music",
          "Drum & Bass",
          "Dubstep",
          "Downtempo",
          "Jungle",
          "Radio Art",
          "Interview",
          "Talk Radio",
          "Latin America",
          "French",
          "Reggae - Dub",
          "Indian",
          "African",
          "Middle East",
          "Polka",
          "Balkan",
          "Europe",
          "Brazilian",
          "Asia-Far East",
          "Pacific",
          "Celtic",
          "Flamenco",
          "Latin",
          "Noise-Rock",
          "Bluegrass",
          "Americana",
          "Rockabilly",
          "Country & Western",
          "Electro-Punk",
          "No Wave",
          "Post-Punk",
          "Hardcore",
          "Power-Pop",
          "Experimental Pop",
          "Synth Pop",
          "Afrobeat",
          "North African",
          "Nerdcore",
          "Alternative Hip-Hop",
          "Rap",
          "Breakbeat",
          "Abstract Hip-Hop",
          "Wonky",
          "Hip-Hop Beats",
          "Sludge",
          "Death-Metal",
          "Black-Metal",
          "Grindcore",
          "Space-Rock",
          "Easy Listening: Vocal",
          "Lounge",
          "Nu-Jazz",
          "N. Indian Traditional",
          "South Indian Traditional",
          "Bollywood",
          "20th Century Classical",
          "Composed Music",
          "Opera",
          "Chamber Music",
          "Choral Music",
          "Symphony",
          "Contemporary Classical",
          "Chiptune",
          "Thrash",
          "Deep Funk",
          "Chill-out",
          "Bigbeat",
          "Surf",
          "Skweee",
          "Western Swing",
          "Cumbia",
          "Salsa",
          "Tango",
          "Romany (Gypsy)",
          "Spanish",
          "Klezmer",
          "Fado",
          "Compilation",
          "Gospel",
          "Reggae - Dancehall",
          "Holiday",
          "Turkish",
          "Christmas"
         ],
         "name": "",
         "parents": [
          "Experimental",
          "Experimental",
          "Experimental",
          "Experimental",
          "Experimental",
          "Experimental",
          "Experimental",
          "Experimental",
          "Experimental",
          "Experimental",
          "Experimental",
          "Experimental",
          "Experimental",
          "Experimental",
          "All Genres",
          "All Genres",
          "All Genres",
          "All Genres",
          "All Genres",
          "All Genres",
          "All Genres",
          "All Genres",
          "All Genres",
          "All Genres",
          "All Genres",
          "All Genres",
          "All Genres",
          "All Genres",
          "All Genres",
          "All Genres",
          "Spoken",
          "Spoken",
          "Spoken",
          "Spoken",
          "Spoken",
          "Spoken",
          "Spoken",
          "Spoken",
          "Soul-RnB",
          "Soul-RnB",
          "Novelty",
          "Novelty",
          "Instrumental",
          "Instrumental",
          "Instrumental",
          "Rock",
          "Rock",
          "Rock",
          "Rock",
          "Rock",
          "Rock",
          "Rock",
          "Rock",
          "Rock",
          "Rock",
          "Rock",
          "Rock",
          "Rock",
          "Rock",
          "Rock",
          "Folk",
          "Folk",
          "Folk",
          "Folk",
          "Folk",
          "Jazz",
          "Jazz",
          "Jazz",
          "Jazz",
          "Jazz",
          "Jazz",
          "Electronic",
          "Electronic",
          "Electronic",
          "Electronic",
          "Electronic",
          "Electronic",
          "Electronic",
          "Electronic",
          "Electronic",
          "Electronic",
          "Electronic",
          "Electronic",
          "Electronic",
          "Electronic",
          "Radio",
          "Radio",
          "Radio",
          "International",
          "International",
          "International",
          "International",
          "International",
          "International",
          "International",
          "International",
          "International",
          "International",
          "International",
          "International",
          "International",
          "International",
          "International",
          "Loud-Rock",
          "Country",
          "Country",
          "Country",
          "Country",
          "Punk",
          "Punk",
          "Punk",
          "Punk",
          "Punk",
          "Pop",
          "Pop",
          "African",
          "African",
          "Hip-Hop",
          "Hip-Hop",
          "Hip-Hop",
          "Hip-Hop",
          "Hip-Hop",
          "Hip-Hop",
          "Hip-Hop",
          "Noise-Rock",
          "Metal",
          "Metal",
          "Metal",
          "Post-Rock",
          "Easy Listening",
          "Easy Listening",
          "Easy Listening",
          "Indian",
          "Indian",
          "Indian",
          "Classical",
          "Classical",
          "Classical",
          "Classical",
          "Classical",
          "Classical",
          "Classical",
          "Chip Music",
          "Hardcore",
          "Funk",
          "House",
          "Techno",
          "Garage",
          "Dubstep",
          "Country & Western",
          "Latin America",
          "Latin America",
          "Latin America",
          "Europe",
          "Europe",
          "Europe",
          "Europe",
          "Soundtrack",
          "Blues",
          "Reggae - Dub",
          "Sound Effects",
          "Middle East",
          "Holiday"
         ],
         "type": "sunburst"
        }
       ],
       "layout": {
        "legend": {
         "tracegroupgap": 0
        },
        "margin": {
         "t": 60
        },
        "template": {
         "data": {
          "bar": [
           {
            "error_x": {
             "color": "#2a3f5f"
            },
            "error_y": {
             "color": "#2a3f5f"
            },
            "marker": {
             "line": {
              "color": "#E5ECF6",
              "width": 0.5
             },
             "pattern": {
              "fillmode": "overlay",
              "size": 10,
              "solidity": 0.2
             }
            },
            "type": "bar"
           }
          ],
          "barpolar": [
           {
            "marker": {
             "line": {
              "color": "#E5ECF6",
              "width": 0.5
             },
             "pattern": {
              "fillmode": "overlay",
              "size": 10,
              "solidity": 0.2
             }
            },
            "type": "barpolar"
           }
          ],
          "carpet": [
           {
            "aaxis": {
             "endlinecolor": "#2a3f5f",
             "gridcolor": "white",
             "linecolor": "white",
             "minorgridcolor": "white",
             "startlinecolor": "#2a3f5f"
            },
            "baxis": {
             "endlinecolor": "#2a3f5f",
             "gridcolor": "white",
             "linecolor": "white",
             "minorgridcolor": "white",
             "startlinecolor": "#2a3f5f"
            },
            "type": "carpet"
           }
          ],
          "choropleth": [
           {
            "colorbar": {
             "outlinewidth": 0,
             "ticks": ""
            },
            "type": "choropleth"
           }
          ],
          "contour": [
           {
            "colorbar": {
             "outlinewidth": 0,
             "ticks": ""
            },
            "colorscale": [
             [
              0,
              "#0d0887"
             ],
             [
              0.1111111111111111,
              "#46039f"
             ],
             [
              0.2222222222222222,
              "#7201a8"
             ],
             [
              0.3333333333333333,
              "#9c179e"
             ],
             [
              0.4444444444444444,
              "#bd3786"
             ],
             [
              0.5555555555555556,
              "#d8576b"
             ],
             [
              0.6666666666666666,
              "#ed7953"
             ],
             [
              0.7777777777777778,
              "#fb9f3a"
             ],
             [
              0.8888888888888888,
              "#fdca26"
             ],
             [
              1,
              "#f0f921"
             ]
            ],
            "type": "contour"
           }
          ],
          "contourcarpet": [
           {
            "colorbar": {
             "outlinewidth": 0,
             "ticks": ""
            },
            "type": "contourcarpet"
           }
          ],
          "heatmap": [
           {
            "colorbar": {
             "outlinewidth": 0,
             "ticks": ""
            },
            "colorscale": [
             [
              0,
              "#0d0887"
             ],
             [
              0.1111111111111111,
              "#46039f"
             ],
             [
              0.2222222222222222,
              "#7201a8"
             ],
             [
              0.3333333333333333,
              "#9c179e"
             ],
             [
              0.4444444444444444,
              "#bd3786"
             ],
             [
              0.5555555555555556,
              "#d8576b"
             ],
             [
              0.6666666666666666,
              "#ed7953"
             ],
             [
              0.7777777777777778,
              "#fb9f3a"
             ],
             [
              0.8888888888888888,
              "#fdca26"
             ],
             [
              1,
              "#f0f921"
             ]
            ],
            "type": "heatmap"
           }
          ],
          "heatmapgl": [
           {
            "colorbar": {
             "outlinewidth": 0,
             "ticks": ""
            },
            "colorscale": [
             [
              0,
              "#0d0887"
             ],
             [
              0.1111111111111111,
              "#46039f"
             ],
             [
              0.2222222222222222,
              "#7201a8"
             ],
             [
              0.3333333333333333,
              "#9c179e"
             ],
             [
              0.4444444444444444,
              "#bd3786"
             ],
             [
              0.5555555555555556,
              "#d8576b"
             ],
             [
              0.6666666666666666,
              "#ed7953"
             ],
             [
              0.7777777777777778,
              "#fb9f3a"
             ],
             [
              0.8888888888888888,
              "#fdca26"
             ],
             [
              1,
              "#f0f921"
             ]
            ],
            "type": "heatmapgl"
           }
          ],
          "histogram": [
           {
            "marker": {
             "pattern": {
              "fillmode": "overlay",
              "size": 10,
              "solidity": 0.2
             }
            },
            "type": "histogram"
           }
          ],
          "histogram2d": [
           {
            "colorbar": {
             "outlinewidth": 0,
             "ticks": ""
            },
            "colorscale": [
             [
              0,
              "#0d0887"
             ],
             [
              0.1111111111111111,
              "#46039f"
             ],
             [
              0.2222222222222222,
              "#7201a8"
             ],
             [
              0.3333333333333333,
              "#9c179e"
             ],
             [
              0.4444444444444444,
              "#bd3786"
             ],
             [
              0.5555555555555556,
              "#d8576b"
             ],
             [
              0.6666666666666666,
              "#ed7953"
             ],
             [
              0.7777777777777778,
              "#fb9f3a"
             ],
             [
              0.8888888888888888,
              "#fdca26"
             ],
             [
              1,
              "#f0f921"
             ]
            ],
            "type": "histogram2d"
           }
          ],
          "histogram2dcontour": [
           {
            "colorbar": {
             "outlinewidth": 0,
             "ticks": ""
            },
            "colorscale": [
             [
              0,
              "#0d0887"
             ],
             [
              0.1111111111111111,
              "#46039f"
             ],
             [
              0.2222222222222222,
              "#7201a8"
             ],
             [
              0.3333333333333333,
              "#9c179e"
             ],
             [
              0.4444444444444444,
              "#bd3786"
             ],
             [
              0.5555555555555556,
              "#d8576b"
             ],
             [
              0.6666666666666666,
              "#ed7953"
             ],
             [
              0.7777777777777778,
              "#fb9f3a"
             ],
             [
              0.8888888888888888,
              "#fdca26"
             ],
             [
              1,
              "#f0f921"
             ]
            ],
            "type": "histogram2dcontour"
           }
          ],
          "mesh3d": [
           {
            "colorbar": {
             "outlinewidth": 0,
             "ticks": ""
            },
            "type": "mesh3d"
           }
          ],
          "parcoords": [
           {
            "line": {
             "colorbar": {
              "outlinewidth": 0,
              "ticks": ""
             }
            },
            "type": "parcoords"
           }
          ],
          "pie": [
           {
            "automargin": true,
            "type": "pie"
           }
          ],
          "scatter": [
           {
            "fillpattern": {
             "fillmode": "overlay",
             "size": 10,
             "solidity": 0.2
            },
            "type": "scatter"
           }
          ],
          "scatter3d": [
           {
            "line": {
             "colorbar": {
              "outlinewidth": 0,
              "ticks": ""
             }
            },
            "marker": {
             "colorbar": {
              "outlinewidth": 0,
              "ticks": ""
             }
            },
            "type": "scatter3d"
           }
          ],
          "scattercarpet": [
           {
            "marker": {
             "colorbar": {
              "outlinewidth": 0,
              "ticks": ""
             }
            },
            "type": "scattercarpet"
           }
          ],
          "scattergeo": [
           {
            "marker": {
             "colorbar": {
              "outlinewidth": 0,
              "ticks": ""
             }
            },
            "type": "scattergeo"
           }
          ],
          "scattergl": [
           {
            "marker": {
             "colorbar": {
              "outlinewidth": 0,
              "ticks": ""
             }
            },
            "type": "scattergl"
           }
          ],
          "scattermapbox": [
           {
            "marker": {
             "colorbar": {
              "outlinewidth": 0,
              "ticks": ""
             }
            },
            "type": "scattermapbox"
           }
          ],
          "scatterpolar": [
           {
            "marker": {
             "colorbar": {
              "outlinewidth": 0,
              "ticks": ""
             }
            },
            "type": "scatterpolar"
           }
          ],
          "scatterpolargl": [
           {
            "marker": {
             "colorbar": {
              "outlinewidth": 0,
              "ticks": ""
             }
            },
            "type": "scatterpolargl"
           }
          ],
          "scatterternary": [
           {
            "marker": {
             "colorbar": {
              "outlinewidth": 0,
              "ticks": ""
             }
            },
            "type": "scatterternary"
           }
          ],
          "surface": [
           {
            "colorbar": {
             "outlinewidth": 0,
             "ticks": ""
            },
            "colorscale": [
             [
              0,
              "#0d0887"
             ],
             [
              0.1111111111111111,
              "#46039f"
             ],
             [
              0.2222222222222222,
              "#7201a8"
             ],
             [
              0.3333333333333333,
              "#9c179e"
             ],
             [
              0.4444444444444444,
              "#bd3786"
             ],
             [
              0.5555555555555556,
              "#d8576b"
             ],
             [
              0.6666666666666666,
              "#ed7953"
             ],
             [
              0.7777777777777778,
              "#fb9f3a"
             ],
             [
              0.8888888888888888,
              "#fdca26"
             ],
             [
              1,
              "#f0f921"
             ]
            ],
            "type": "surface"
           }
          ],
          "table": [
           {
            "cells": {
             "fill": {
              "color": "#EBF0F8"
             },
             "line": {
              "color": "white"
             }
            },
            "header": {
             "fill": {
              "color": "#C8D4E3"
             },
             "line": {
              "color": "white"
             }
            },
            "type": "table"
           }
          ]
         },
         "layout": {
          "annotationdefaults": {
           "arrowcolor": "#2a3f5f",
           "arrowhead": 0,
           "arrowwidth": 1
          },
          "autotypenumbers": "strict",
          "coloraxis": {
           "colorbar": {
            "outlinewidth": 0,
            "ticks": ""
           }
          },
          "colorscale": {
           "diverging": [
            [
             0,
             "#8e0152"
            ],
            [
             0.1,
             "#c51b7d"
            ],
            [
             0.2,
             "#de77ae"
            ],
            [
             0.3,
             "#f1b6da"
            ],
            [
             0.4,
             "#fde0ef"
            ],
            [
             0.5,
             "#f7f7f7"
            ],
            [
             0.6,
             "#e6f5d0"
            ],
            [
             0.7,
             "#b8e186"
            ],
            [
             0.8,
             "#7fbc41"
            ],
            [
             0.9,
             "#4d9221"
            ],
            [
             1,
             "#276419"
            ]
           ],
           "sequential": [
            [
             0,
             "#0d0887"
            ],
            [
             0.1111111111111111,
             "#46039f"
            ],
            [
             0.2222222222222222,
             "#7201a8"
            ],
            [
             0.3333333333333333,
             "#9c179e"
            ],
            [
             0.4444444444444444,
             "#bd3786"
            ],
            [
             0.5555555555555556,
             "#d8576b"
            ],
            [
             0.6666666666666666,
             "#ed7953"
            ],
            [
             0.7777777777777778,
             "#fb9f3a"
            ],
            [
             0.8888888888888888,
             "#fdca26"
            ],
            [
             1,
             "#f0f921"
            ]
           ],
           "sequentialminus": [
            [
             0,
             "#0d0887"
            ],
            [
             0.1111111111111111,
             "#46039f"
            ],
            [
             0.2222222222222222,
             "#7201a8"
            ],
            [
             0.3333333333333333,
             "#9c179e"
            ],
            [
             0.4444444444444444,
             "#bd3786"
            ],
            [
             0.5555555555555556,
             "#d8576b"
            ],
            [
             0.6666666666666666,
             "#ed7953"
            ],
            [
             0.7777777777777778,
             "#fb9f3a"
            ],
            [
             0.8888888888888888,
             "#fdca26"
            ],
            [
             1,
             "#f0f921"
            ]
           ]
          },
          "colorway": [
           "#636efa",
           "#EF553B",
           "#00cc96",
           "#ab63fa",
           "#FFA15A",
           "#19d3f3",
           "#FF6692",
           "#B6E880",
           "#FF97FF",
           "#FECB52"
          ],
          "font": {
           "color": "#2a3f5f"
          },
          "geo": {
           "bgcolor": "white",
           "lakecolor": "white",
           "landcolor": "#E5ECF6",
           "showlakes": true,
           "showland": true,
           "subunitcolor": "white"
          },
          "hoverlabel": {
           "align": "left"
          },
          "hovermode": "closest",
          "mapbox": {
           "style": "light"
          },
          "paper_bgcolor": "white",
          "plot_bgcolor": "#E5ECF6",
          "polar": {
           "angularaxis": {
            "gridcolor": "white",
            "linecolor": "white",
            "ticks": ""
           },
           "bgcolor": "#E5ECF6",
           "radialaxis": {
            "gridcolor": "white",
            "linecolor": "white",
            "ticks": ""
           }
          },
          "scene": {
           "xaxis": {
            "backgroundcolor": "#E5ECF6",
            "gridcolor": "white",
            "gridwidth": 2,
            "linecolor": "white",
            "showbackground": true,
            "ticks": "",
            "zerolinecolor": "white"
           },
           "yaxis": {
            "backgroundcolor": "#E5ECF6",
            "gridcolor": "white",
            "gridwidth": 2,
            "linecolor": "white",
            "showbackground": true,
            "ticks": "",
            "zerolinecolor": "white"
           },
           "zaxis": {
            "backgroundcolor": "#E5ECF6",
            "gridcolor": "white",
            "gridwidth": 2,
            "linecolor": "white",
            "showbackground": true,
            "ticks": "",
            "zerolinecolor": "white"
           }
          },
          "shapedefaults": {
           "line": {
            "color": "#2a3f5f"
           }
          },
          "ternary": {
           "aaxis": {
            "gridcolor": "white",
            "linecolor": "white",
            "ticks": ""
           },
           "baxis": {
            "gridcolor": "white",
            "linecolor": "white",
            "ticks": ""
           },
           "bgcolor": "#E5ECF6",
           "caxis": {
            "gridcolor": "white",
            "linecolor": "white",
            "ticks": ""
           }
          },
          "title": {
           "x": 0.05
          },
          "xaxis": {
           "automargin": true,
           "gridcolor": "white",
           "linecolor": "white",
           "ticks": "",
           "title": {
            "standoff": 15
           },
           "zerolinecolor": "white",
           "zerolinewidth": 2
          },
          "yaxis": {
           "automargin": true,
           "gridcolor": "white",
           "linecolor": "white",
           "ticks": "",
           "title": {
            "standoff": 15
           },
           "zerolinecolor": "white",
           "zerolinewidth": 2
          }
         }
        }
       }
      }
     },
     "metadata": {},
     "output_type": "display_data"
    }
   ],
   "source": [
    "# Make a sunburst plot of the genres\n",
    "fig2 = px.sunburst(genres, names='title', parents='parent')#, values='#tracks')\n",
    "# fig2.update_layout(title_text=\"Two-level Sunburst Diagram\", font_size=10)\n",
    "fig2.show()\n",
    "#fig2.write_image('./visualizations/hierarchy.png', scale=4)"
   ]
  },
  {
   "cell_type": "markdown",
   "metadata": {},
   "source": [
    "Additionally, we can visualize counts of genres."
   ]
  },
  {
   "cell_type": "code",
   "execution_count": 73,
   "metadata": {},
   "outputs": [
    {
     "data": {
      "text/html": [
       "<div>\n",
       "<style scoped>\n",
       "    .dataframe tbody tr th:only-of-type {\n",
       "        vertical-align: middle;\n",
       "    }\n",
       "\n",
       "    .dataframe tbody tr th {\n",
       "        vertical-align: top;\n",
       "    }\n",
       "\n",
       "    .dataframe thead th {\n",
       "        text-align: right;\n",
       "    }\n",
       "</style>\n",
       "<table border=\"1\" class=\"dataframe\">\n",
       "  <thead>\n",
       "    <tr style=\"text-align: right;\">\n",
       "      <th></th>\n",
       "      <th>track_id</th>\n",
       "      <th>track_genres</th>\n",
       "    </tr>\n",
       "  </thead>\n",
       "  <tbody>\n",
       "    <tr>\n",
       "      <th>0</th>\n",
       "      <td>2</td>\n",
       "      <td>[{'genre_id': '21', 'genre_title': 'Hip-Hop', ...</td>\n",
       "    </tr>\n",
       "    <tr>\n",
       "      <th>1</th>\n",
       "      <td>3</td>\n",
       "      <td>[{'genre_id': '21', 'genre_title': 'Hip-Hop', ...</td>\n",
       "    </tr>\n",
       "    <tr>\n",
       "      <th>2</th>\n",
       "      <td>5</td>\n",
       "      <td>[{'genre_id': '21', 'genre_title': 'Hip-Hop', ...</td>\n",
       "    </tr>\n",
       "    <tr>\n",
       "      <th>3</th>\n",
       "      <td>10</td>\n",
       "      <td>[{'genre_id': '10', 'genre_title': 'Pop', 'gen...</td>\n",
       "    </tr>\n",
       "    <tr>\n",
       "      <th>9</th>\n",
       "      <td>134</td>\n",
       "      <td>[{'genre_id': '21', 'genre_title': 'Hip-Hop', ...</td>\n",
       "    </tr>\n",
       "  </tbody>\n",
       "</table>\n",
       "</div>"
      ],
      "text/plain": [
       "   track_id                                       track_genres\n",
       "0         2  [{'genre_id': '21', 'genre_title': 'Hip-Hop', ...\n",
       "1         3  [{'genre_id': '21', 'genre_title': 'Hip-Hop', ...\n",
       "2         5  [{'genre_id': '21', 'genre_title': 'Hip-Hop', ...\n",
       "3        10  [{'genre_id': '10', 'genre_title': 'Pop', 'gen...\n",
       "9       134  [{'genre_id': '21', 'genre_title': 'Hip-Hop', ..."
      ]
     },
     "execution_count": 73,
     "metadata": {},
     "output_type": "execute_result"
    }
   ],
   "source": [
    "files = glob(\"./data/fma_medium/**/*.mp3\")\n",
    "\n",
    "medium_track_ids = [int(os.path.basename(file)[:-4]) for file in files]\n",
    "\n",
    "# Get all track ids and their respective genres\n",
    "tracks = pd.read_csv('./data/fma_metadata/raw_tracks.csv')[['track_id', 'track_genres']]\n",
    "\n",
    "tracks = tracks[tracks['track_id'].isin(medium_track_ids)]\n",
    "\n",
    "tracks.head()\n",
    "\n",
    "# [{'genre_id': '76', 'genre_title': 'Experimental Pop', 'genre_url': 'http://freemusicarchive.org/genre/Experimental_Pop/'}, {'genre_id': '103', 'genre_title': 'Singer-Songwriter', 'genre_url': 'http://freemusicarchive.org/genre/Singer-Songwriter/'}]"
   ]
  },
  {
   "cell_type": "code",
   "execution_count": 74,
   "metadata": {},
   "outputs": [],
   "source": [
    "tracks['parsed_genres'] = tracks['track_genres'].apply(eval)\n",
    "tracks['num_genres'] = tracks['parsed_genres'].apply(len)\n",
    "\n",
    "tracks['num_genres'].value_counts().plot(kind='bar')\n",
    "plt.title('Number of Individual Genres in Each Track')\n",
    "plt.xlabel('Number of Genres')\n",
    "plt.ylabel('Count')\n",
    "plt.savefig('./visualizations/track_genres_count')\n",
    "plt.close()"
   ]
  },
  {
   "cell_type": "markdown",
   "metadata": {},
   "source": [
    "Now, here's an important part of the workflow. For the purposes of this project, we only care about the **highest-level parent** genre for each song.\n",
    "\n",
    "We could delve into trying to predict genres based of a hierarchical structure (as this data has), but that's out of the scope of this project.\n",
    "\n",
    "If you want to learn more about hierarchical loss functions and the complications that come with them using gradient descent, the following paper is very interesting: https://arxiv.org/abs/1709.01062#:%7E:text=A%20hierarchical%20loss%20and%20its%20problems%20when%20classifying%20non%2Dhierarchically,-Cinna%20Wu%2C%20Mark&text=Failing%20to%20distinguish%20between%20a,are%20both%20breeds%20of%20dogs."
   ]
  },
  {
   "cell_type": "code",
   "execution_count": 75,
   "metadata": {},
   "outputs": [],
   "source": [
    "##### Make a new column in our dataframe with ONLY parents.\n",
    "# First, reload in genre metadata\n",
    "genres = pd.read_csv('./data/fma_metadata/genres.csv')\n",
    "genres\n",
    "\n",
    "genre_parents = []\n",
    "# Loop through all tracks\n",
    "for cur_track in tracks['parsed_genres']:\n",
    "    cur_track_parents = []\n",
    "    # Loop through all genres in track, making new parents column\n",
    "    for cur_genre in cur_track:\n",
    "        if int(cur_genre['genre_id']) in genres['genre_id'].unique():\n",
    "            # This appends the value of the top level parent to our current track list\n",
    "            cur_track_parents.append(genres.loc[genres['genre_id'] == int(cur_genre['genre_id'])]['top_level'].values[0])\n",
    "        else:\n",
    "            # If it couldn't be found...\n",
    "            cur_track_parents.append(None)\n",
    "    genre_parents.append(cur_track_parents)"
   ]
  },
  {
   "cell_type": "code",
   "execution_count": 76,
   "metadata": {},
   "outputs": [
    {
     "name": "stdout",
     "output_type": "stream",
     "text": [
      "5\n"
     ]
    }
   ],
   "source": [
    "bad_tracks = []\n",
    "for idx, track in enumerate(genre_parents):\n",
    "    # If any value is None\n",
    "    if None in track:\n",
    "        bad_tracks.append(idx)\n",
    "\n",
    "print(len(bad_tracks))"
   ]
  },
  {
   "cell_type": "code",
   "execution_count": 77,
   "metadata": {},
   "outputs": [
    {
     "name": "stdout",
     "output_type": "stream",
     "text": [
      "[21, 21, None]: [{'genre_id': '21', 'genre_title': 'Hip-Hop', 'genre_url': 'http://freemusicarchive.org/genre/Hip-Hop/'}, {'genre_id': '539', 'genre_title': 'Rap', 'genre_url': 'http://freemusicarchive.org/genre/rap/'}, {'genre_id': '806', 'genre_title': 'hiphop', 'genre_url': 'http://freemusicarchive.org/genre/hiphop/'}]\n",
      "[21, 21, None]: [{'genre_id': '21', 'genre_title': 'Hip-Hop', 'genre_url': 'http://freemusicarchive.org/genre/Hip-Hop/'}, {'genre_id': '539', 'genre_title': 'Rap', 'genre_url': 'http://freemusicarchive.org/genre/rap/'}, {'genre_id': '806', 'genre_title': 'hiphop', 'genre_url': 'http://freemusicarchive.org/genre/hiphop/'}]\n",
      "[21, 21, None]: [{'genre_id': '21', 'genre_title': 'Hip-Hop', 'genre_url': 'http://freemusicarchive.org/genre/Hip-Hop/'}, {'genre_id': '539', 'genre_title': 'Rap', 'genre_url': 'http://freemusicarchive.org/genre/rap/'}, {'genre_id': '806', 'genre_title': 'hiphop', 'genre_url': 'http://freemusicarchive.org/genre/hiphop/'}]\n",
      "[21, 21, None]: [{'genre_id': '21', 'genre_title': 'Hip-Hop', 'genre_url': 'http://freemusicarchive.org/genre/Hip-Hop/'}, {'genre_id': '539', 'genre_title': 'Rap', 'genre_url': 'http://freemusicarchive.org/genre/rap/'}, {'genre_id': '806', 'genre_title': 'hiphop', 'genre_url': 'http://freemusicarchive.org/genre/hiphop/'}]\n",
      "[21, 21, None]: [{'genre_id': '21', 'genre_title': 'Hip-Hop', 'genre_url': 'http://freemusicarchive.org/genre/Hip-Hop/'}, {'genre_id': '539', 'genre_title': 'Rap', 'genre_url': 'http://freemusicarchive.org/genre/rap/'}, {'genre_id': '806', 'genre_title': 'hiphop', 'genre_url': 'http://freemusicarchive.org/genre/hiphop/'}]\n"
     ]
    }
   ],
   "source": [
    "for track_idx in bad_tracks:\n",
    "    print(f\"{genre_parents[track_idx]}: {tracks['parsed_genres'].iloc[track_idx]}\")"
   ]
  },
  {
   "cell_type": "markdown",
   "metadata": {},
   "source": [
    "We can see above that the only invalid genres are \"hiphop\", which all of these tracks already have the valid genre for.\n",
    "\n",
    "So we can just ignore these.\n",
    "\n",
    "Now, let's investigate the tracks that have multiple top-level genres."
   ]
  },
  {
   "cell_type": "code",
   "execution_count": 78,
   "metadata": {},
   "outputs": [
    {
     "name": "stdout",
     "output_type": "stream",
     "text": [
      "0\n"
     ]
    }
   ],
   "source": [
    "# First, fix the Nones\n",
    "for track_idx in bad_tracks:\n",
    "    genre_parents[track_idx] = genre_parents[track_idx][:2]\n",
    "\n",
    "# Then, look at all tracks that have multiple top-level genres:\n",
    "test = [track for track in genre_parents if len(set(track)) > 1]\n",
    "\n",
    "print(len(test))"
   ]
  },
  {
   "cell_type": "markdown",
   "metadata": {},
   "source": [
    "Amazing! (but maybe concerning for other reasons...) - There are no tracks which fall under multiple top-level genres.\n",
    "\n",
    "This makes our analysis a lot easier.\n",
    "\n",
    "Now, let's incorporate this info into our original dataframe:"
   ]
  },
  {
   "cell_type": "code",
   "execution_count": 79,
   "metadata": {},
   "outputs": [],
   "source": [
    "genre_parents = [track[0] for track in genre_parents]"
   ]
  },
  {
   "cell_type": "code",
   "execution_count": 80,
   "metadata": {},
   "outputs": [
    {
     "data": {
      "text/html": [
       "<div>\n",
       "<style scoped>\n",
       "    .dataframe tbody tr th:only-of-type {\n",
       "        vertical-align: middle;\n",
       "    }\n",
       "\n",
       "    .dataframe tbody tr th {\n",
       "        vertical-align: top;\n",
       "    }\n",
       "\n",
       "    .dataframe thead th {\n",
       "        text-align: right;\n",
       "    }\n",
       "</style>\n",
       "<table border=\"1\" class=\"dataframe\">\n",
       "  <thead>\n",
       "    <tr style=\"text-align: right;\">\n",
       "      <th></th>\n",
       "      <th>track_id</th>\n",
       "      <th>track_genres</th>\n",
       "      <th>parsed_genres</th>\n",
       "      <th>num_genres</th>\n",
       "      <th>parent_genre_id</th>\n",
       "      <th>parent_genre_title</th>\n",
       "    </tr>\n",
       "  </thead>\n",
       "  <tbody>\n",
       "    <tr>\n",
       "      <th>0</th>\n",
       "      <td>2</td>\n",
       "      <td>[{'genre_id': '21', 'genre_title': 'Hip-Hop', ...</td>\n",
       "      <td>[{'genre_id': '21', 'genre_title': 'Hip-Hop', ...</td>\n",
       "      <td>1</td>\n",
       "      <td>21</td>\n",
       "      <td>Hip-Hop</td>\n",
       "    </tr>\n",
       "    <tr>\n",
       "      <th>1</th>\n",
       "      <td>3</td>\n",
       "      <td>[{'genre_id': '21', 'genre_title': 'Hip-Hop', ...</td>\n",
       "      <td>[{'genre_id': '21', 'genre_title': 'Hip-Hop', ...</td>\n",
       "      <td>1</td>\n",
       "      <td>21</td>\n",
       "      <td>Hip-Hop</td>\n",
       "    </tr>\n",
       "    <tr>\n",
       "      <th>2</th>\n",
       "      <td>5</td>\n",
       "      <td>[{'genre_id': '21', 'genre_title': 'Hip-Hop', ...</td>\n",
       "      <td>[{'genre_id': '21', 'genre_title': 'Hip-Hop', ...</td>\n",
       "      <td>1</td>\n",
       "      <td>21</td>\n",
       "      <td>Hip-Hop</td>\n",
       "    </tr>\n",
       "    <tr>\n",
       "      <th>3</th>\n",
       "      <td>10</td>\n",
       "      <td>[{'genre_id': '10', 'genre_title': 'Pop', 'gen...</td>\n",
       "      <td>[{'genre_id': '10', 'genre_title': 'Pop', 'gen...</td>\n",
       "      <td>1</td>\n",
       "      <td>10</td>\n",
       "      <td>Pop</td>\n",
       "    </tr>\n",
       "    <tr>\n",
       "      <th>9</th>\n",
       "      <td>134</td>\n",
       "      <td>[{'genre_id': '21', 'genre_title': 'Hip-Hop', ...</td>\n",
       "      <td>[{'genre_id': '21', 'genre_title': 'Hip-Hop', ...</td>\n",
       "      <td>1</td>\n",
       "      <td>21</td>\n",
       "      <td>Hip-Hop</td>\n",
       "    </tr>\n",
       "    <tr>\n",
       "      <th>...</th>\n",
       "      <td>...</td>\n",
       "      <td>...</td>\n",
       "      <td>...</td>\n",
       "      <td>...</td>\n",
       "      <td>...</td>\n",
       "      <td>...</td>\n",
       "    </tr>\n",
       "    <tr>\n",
       "      <th>109704</th>\n",
       "      <td>155297</td>\n",
       "      <td>[{'genre_id': '18', 'genre_title': 'Soundtrack...</td>\n",
       "      <td>[{'genre_id': '18', 'genre_title': 'Soundtrack...</td>\n",
       "      <td>3</td>\n",
       "      <td>1235</td>\n",
       "      <td>Instrumental</td>\n",
       "    </tr>\n",
       "    <tr>\n",
       "      <th>109705</th>\n",
       "      <td>155298</td>\n",
       "      <td>[{'genre_id': '17', 'genre_title': 'Folk', 'ge...</td>\n",
       "      <td>[{'genre_id': '17', 'genre_title': 'Folk', 'ge...</td>\n",
       "      <td>2</td>\n",
       "      <td>17</td>\n",
       "      <td>Folk</td>\n",
       "    </tr>\n",
       "    <tr>\n",
       "      <th>109713</th>\n",
       "      <td>155306</td>\n",
       "      <td>[{'genre_id': '17', 'genre_title': 'Folk', 'ge...</td>\n",
       "      <td>[{'genre_id': '17', 'genre_title': 'Folk', 'ge...</td>\n",
       "      <td>2</td>\n",
       "      <td>17</td>\n",
       "      <td>Folk</td>\n",
       "    </tr>\n",
       "    <tr>\n",
       "      <th>109714</th>\n",
       "      <td>155307</td>\n",
       "      <td>[{'genre_id': '1', 'genre_title': 'Avant-Garde...</td>\n",
       "      <td>[{'genre_id': '1', 'genre_title': 'Avant-Garde...</td>\n",
       "      <td>1</td>\n",
       "      <td>38</td>\n",
       "      <td>Experimental</td>\n",
       "    </tr>\n",
       "    <tr>\n",
       "      <th>109720</th>\n",
       "      <td>155314</td>\n",
       "      <td>[{'genre_id': '25', 'genre_title': 'Punk', 'ge...</td>\n",
       "      <td>[{'genre_id': '25', 'genre_title': 'Punk', 'ge...</td>\n",
       "      <td>1</td>\n",
       "      <td>12</td>\n",
       "      <td>Rock</td>\n",
       "    </tr>\n",
       "  </tbody>\n",
       "</table>\n",
       "<p>25000 rows × 6 columns</p>\n",
       "</div>"
      ],
      "text/plain": [
       "        track_id                                       track_genres  \\\n",
       "0              2  [{'genre_id': '21', 'genre_title': 'Hip-Hop', ...   \n",
       "1              3  [{'genre_id': '21', 'genre_title': 'Hip-Hop', ...   \n",
       "2              5  [{'genre_id': '21', 'genre_title': 'Hip-Hop', ...   \n",
       "3             10  [{'genre_id': '10', 'genre_title': 'Pop', 'gen...   \n",
       "9            134  [{'genre_id': '21', 'genre_title': 'Hip-Hop', ...   \n",
       "...          ...                                                ...   \n",
       "109704    155297  [{'genre_id': '18', 'genre_title': 'Soundtrack...   \n",
       "109705    155298  [{'genre_id': '17', 'genre_title': 'Folk', 'ge...   \n",
       "109713    155306  [{'genre_id': '17', 'genre_title': 'Folk', 'ge...   \n",
       "109714    155307  [{'genre_id': '1', 'genre_title': 'Avant-Garde...   \n",
       "109720    155314  [{'genre_id': '25', 'genre_title': 'Punk', 'ge...   \n",
       "\n",
       "                                            parsed_genres  num_genres  \\\n",
       "0       [{'genre_id': '21', 'genre_title': 'Hip-Hop', ...           1   \n",
       "1       [{'genre_id': '21', 'genre_title': 'Hip-Hop', ...           1   \n",
       "2       [{'genre_id': '21', 'genre_title': 'Hip-Hop', ...           1   \n",
       "3       [{'genre_id': '10', 'genre_title': 'Pop', 'gen...           1   \n",
       "9       [{'genre_id': '21', 'genre_title': 'Hip-Hop', ...           1   \n",
       "...                                                   ...         ...   \n",
       "109704  [{'genre_id': '18', 'genre_title': 'Soundtrack...           3   \n",
       "109705  [{'genre_id': '17', 'genre_title': 'Folk', 'ge...           2   \n",
       "109713  [{'genre_id': '17', 'genre_title': 'Folk', 'ge...           2   \n",
       "109714  [{'genre_id': '1', 'genre_title': 'Avant-Garde...           1   \n",
       "109720  [{'genre_id': '25', 'genre_title': 'Punk', 'ge...           1   \n",
       "\n",
       "        parent_genre_id parent_genre_title  \n",
       "0                    21            Hip-Hop  \n",
       "1                    21            Hip-Hop  \n",
       "2                    21            Hip-Hop  \n",
       "3                    10                Pop  \n",
       "9                    21            Hip-Hop  \n",
       "...                 ...                ...  \n",
       "109704             1235       Instrumental  \n",
       "109705               17               Folk  \n",
       "109713               17               Folk  \n",
       "109714               38       Experimental  \n",
       "109720               12               Rock  \n",
       "\n",
       "[25000 rows x 6 columns]"
      ]
     },
     "execution_count": 80,
     "metadata": {},
     "output_type": "execute_result"
    }
   ],
   "source": [
    "# Make a new column for these parent values\n",
    "tracks['parent_genre_id'] = genre_parents\n",
    "# Do a join for the value in our genres dataframe to get the genre title\n",
    "new_df = tracks.merge(genres, how='left', left_on='parent_genre_id', right_on='genre_id')\n",
    "new_df['title']\n",
    "tracks['parent_genre_title'] = list(new_df['title'])\n",
    "\n",
    "tracks"
   ]
  },
  {
   "cell_type": "markdown",
   "metadata": {},
   "source": [
    "Great! Now, we don't really need the `track_genres`, `parsed_genres`, or `num_genres` columns anymore."
   ]
  },
  {
   "cell_type": "code",
   "execution_count": 81,
   "metadata": {},
   "outputs": [
    {
     "data": {
      "text/html": [
       "<div>\n",
       "<style scoped>\n",
       "    .dataframe tbody tr th:only-of-type {\n",
       "        vertical-align: middle;\n",
       "    }\n",
       "\n",
       "    .dataframe tbody tr th {\n",
       "        vertical-align: top;\n",
       "    }\n",
       "\n",
       "    .dataframe thead th {\n",
       "        text-align: right;\n",
       "    }\n",
       "</style>\n",
       "<table border=\"1\" class=\"dataframe\">\n",
       "  <thead>\n",
       "    <tr style=\"text-align: right;\">\n",
       "      <th></th>\n",
       "      <th>track_id</th>\n",
       "      <th>parent_genre_id</th>\n",
       "      <th>parent_genre_title</th>\n",
       "    </tr>\n",
       "  </thead>\n",
       "  <tbody>\n",
       "    <tr>\n",
       "      <th>0</th>\n",
       "      <td>2</td>\n",
       "      <td>21</td>\n",
       "      <td>Hip-Hop</td>\n",
       "    </tr>\n",
       "    <tr>\n",
       "      <th>1</th>\n",
       "      <td>3</td>\n",
       "      <td>21</td>\n",
       "      <td>Hip-Hop</td>\n",
       "    </tr>\n",
       "    <tr>\n",
       "      <th>2</th>\n",
       "      <td>5</td>\n",
       "      <td>21</td>\n",
       "      <td>Hip-Hop</td>\n",
       "    </tr>\n",
       "    <tr>\n",
       "      <th>3</th>\n",
       "      <td>10</td>\n",
       "      <td>10</td>\n",
       "      <td>Pop</td>\n",
       "    </tr>\n",
       "    <tr>\n",
       "      <th>9</th>\n",
       "      <td>134</td>\n",
       "      <td>21</td>\n",
       "      <td>Hip-Hop</td>\n",
       "    </tr>\n",
       "    <tr>\n",
       "      <th>...</th>\n",
       "      <td>...</td>\n",
       "      <td>...</td>\n",
       "      <td>...</td>\n",
       "    </tr>\n",
       "    <tr>\n",
       "      <th>109704</th>\n",
       "      <td>155297</td>\n",
       "      <td>1235</td>\n",
       "      <td>Instrumental</td>\n",
       "    </tr>\n",
       "    <tr>\n",
       "      <th>109705</th>\n",
       "      <td>155298</td>\n",
       "      <td>17</td>\n",
       "      <td>Folk</td>\n",
       "    </tr>\n",
       "    <tr>\n",
       "      <th>109713</th>\n",
       "      <td>155306</td>\n",
       "      <td>17</td>\n",
       "      <td>Folk</td>\n",
       "    </tr>\n",
       "    <tr>\n",
       "      <th>109714</th>\n",
       "      <td>155307</td>\n",
       "      <td>38</td>\n",
       "      <td>Experimental</td>\n",
       "    </tr>\n",
       "    <tr>\n",
       "      <th>109720</th>\n",
       "      <td>155314</td>\n",
       "      <td>12</td>\n",
       "      <td>Rock</td>\n",
       "    </tr>\n",
       "  </tbody>\n",
       "</table>\n",
       "<p>25000 rows × 3 columns</p>\n",
       "</div>"
      ],
      "text/plain": [
       "        track_id  parent_genre_id parent_genre_title\n",
       "0              2               21            Hip-Hop\n",
       "1              3               21            Hip-Hop\n",
       "2              5               21            Hip-Hop\n",
       "3             10               10                Pop\n",
       "9            134               21            Hip-Hop\n",
       "...          ...              ...                ...\n",
       "109704    155297             1235       Instrumental\n",
       "109705    155298               17               Folk\n",
       "109713    155306               17               Folk\n",
       "109714    155307               38       Experimental\n",
       "109720    155314               12               Rock\n",
       "\n",
       "[25000 rows x 3 columns]"
      ]
     },
     "execution_count": 81,
     "metadata": {},
     "output_type": "execute_result"
    }
   ],
   "source": [
    "tracks = tracks.drop(columns=['track_genres', 'parsed_genres', 'num_genres'])\n",
    "tracks"
   ]
  },
  {
   "cell_type": "markdown",
   "metadata": {},
   "source": [
    "Additionally, we don't really care about the original genre IDs anymore.\n",
    "\n",
    "It will be easier to have classes starting from 0 and incrementing by 1 for the network itself:"
   ]
  },
  {
   "cell_type": "code",
   "execution_count": 82,
   "metadata": {},
   "outputs": [
    {
     "name": "stdout",
     "output_type": "stream",
     "text": [
      "Unique values in current IDs: [  21   10   12   17   38    4   15    2   14    3   20    9    5    8\n",
      " 1235   13]\n",
      "Unique values in genre titles: ['Hip-Hop' 'Pop' 'Rock' 'Folk' 'Experimental' 'Jazz' 'Electronic'\n",
      " 'International' 'Soul-RnB' 'Blues' 'Spoken' 'Country' 'Classical'\n",
      " 'Old-Time / Historic' 'Instrumental' 'Easy Listening']\n"
     ]
    },
    {
     "data": {
      "text/html": [
       "<div>\n",
       "<style scoped>\n",
       "    .dataframe tbody tr th:only-of-type {\n",
       "        vertical-align: middle;\n",
       "    }\n",
       "\n",
       "    .dataframe tbody tr th {\n",
       "        vertical-align: top;\n",
       "    }\n",
       "\n",
       "    .dataframe thead th {\n",
       "        text-align: right;\n",
       "    }\n",
       "</style>\n",
       "<table border=\"1\" class=\"dataframe\">\n",
       "  <thead>\n",
       "    <tr style=\"text-align: right;\">\n",
       "      <th></th>\n",
       "      <th>track_id</th>\n",
       "      <th>parent_genre_id</th>\n",
       "      <th>parent_genre_title</th>\n",
       "    </tr>\n",
       "  </thead>\n",
       "  <tbody>\n",
       "    <tr>\n",
       "      <th>0</th>\n",
       "      <td>2</td>\n",
       "      <td>0</td>\n",
       "      <td>Hip-Hop</td>\n",
       "    </tr>\n",
       "    <tr>\n",
       "      <th>1</th>\n",
       "      <td>3</td>\n",
       "      <td>0</td>\n",
       "      <td>Hip-Hop</td>\n",
       "    </tr>\n",
       "    <tr>\n",
       "      <th>2</th>\n",
       "      <td>5</td>\n",
       "      <td>0</td>\n",
       "      <td>Hip-Hop</td>\n",
       "    </tr>\n",
       "    <tr>\n",
       "      <th>3</th>\n",
       "      <td>10</td>\n",
       "      <td>1</td>\n",
       "      <td>Pop</td>\n",
       "    </tr>\n",
       "    <tr>\n",
       "      <th>9</th>\n",
       "      <td>134</td>\n",
       "      <td>0</td>\n",
       "      <td>Hip-Hop</td>\n",
       "    </tr>\n",
       "    <tr>\n",
       "      <th>11</th>\n",
       "      <td>136</td>\n",
       "      <td>2</td>\n",
       "      <td>Rock</td>\n",
       "    </tr>\n",
       "    <tr>\n",
       "      <th>14</th>\n",
       "      <td>139</td>\n",
       "      <td>3</td>\n",
       "      <td>Folk</td>\n",
       "    </tr>\n",
       "    <tr>\n",
       "      <th>15</th>\n",
       "      <td>140</td>\n",
       "      <td>3</td>\n",
       "      <td>Folk</td>\n",
       "    </tr>\n",
       "    <tr>\n",
       "      <th>16</th>\n",
       "      <td>141</td>\n",
       "      <td>3</td>\n",
       "      <td>Folk</td>\n",
       "    </tr>\n",
       "    <tr>\n",
       "      <th>22</th>\n",
       "      <td>148</td>\n",
       "      <td>4</td>\n",
       "      <td>Experimental</td>\n",
       "    </tr>\n",
       "    <tr>\n",
       "      <th>54</th>\n",
       "      <td>181</td>\n",
       "      <td>2</td>\n",
       "      <td>Rock</td>\n",
       "    </tr>\n",
       "    <tr>\n",
       "      <th>55</th>\n",
       "      <td>182</td>\n",
       "      <td>2</td>\n",
       "      <td>Rock</td>\n",
       "    </tr>\n",
       "    <tr>\n",
       "      <th>61</th>\n",
       "      <td>190</td>\n",
       "      <td>3</td>\n",
       "      <td>Folk</td>\n",
       "    </tr>\n",
       "    <tr>\n",
       "      <th>64</th>\n",
       "      <td>193</td>\n",
       "      <td>3</td>\n",
       "      <td>Folk</td>\n",
       "    </tr>\n",
       "    <tr>\n",
       "      <th>65</th>\n",
       "      <td>194</td>\n",
       "      <td>3</td>\n",
       "      <td>Folk</td>\n",
       "    </tr>\n",
       "    <tr>\n",
       "      <th>68</th>\n",
       "      <td>197</td>\n",
       "      <td>3</td>\n",
       "      <td>Folk</td>\n",
       "    </tr>\n",
       "    <tr>\n",
       "      <th>69</th>\n",
       "      <td>198</td>\n",
       "      <td>3</td>\n",
       "      <td>Folk</td>\n",
       "    </tr>\n",
       "    <tr>\n",
       "      <th>71</th>\n",
       "      <td>200</td>\n",
       "      <td>3</td>\n",
       "      <td>Folk</td>\n",
       "    </tr>\n",
       "    <tr>\n",
       "      <th>74</th>\n",
       "      <td>203</td>\n",
       "      <td>3</td>\n",
       "      <td>Folk</td>\n",
       "    </tr>\n",
       "    <tr>\n",
       "      <th>75</th>\n",
       "      <td>204</td>\n",
       "      <td>3</td>\n",
       "      <td>Folk</td>\n",
       "    </tr>\n",
       "  </tbody>\n",
       "</table>\n",
       "</div>"
      ],
      "text/plain": [
       "    track_id  parent_genre_id parent_genre_title\n",
       "0          2                0            Hip-Hop\n",
       "1          3                0            Hip-Hop\n",
       "2          5                0            Hip-Hop\n",
       "3         10                1                Pop\n",
       "9        134                0            Hip-Hop\n",
       "11       136                2               Rock\n",
       "14       139                3               Folk\n",
       "15       140                3               Folk\n",
       "16       141                3               Folk\n",
       "22       148                4       Experimental\n",
       "54       181                2               Rock\n",
       "55       182                2               Rock\n",
       "61       190                3               Folk\n",
       "64       193                3               Folk\n",
       "65       194                3               Folk\n",
       "68       197                3               Folk\n",
       "69       198                3               Folk\n",
       "71       200                3               Folk\n",
       "74       203                3               Folk\n",
       "75       204                3               Folk"
      ]
     },
     "execution_count": 82,
     "metadata": {},
     "output_type": "execute_result"
    }
   ],
   "source": [
    "print(f\"Unique values in current IDs: {tracks['parent_genre_id'].unique()}\")\n",
    "print(f\"Unique values in genre titles: {tracks['parent_genre_title'].unique()}\")\n",
    "\n",
    "# Let's just do it based on the titles list:\n",
    "for idx, title in enumerate(tracks['parent_genre_title'].unique()):\n",
    "    tracks.loc[tracks['parent_genre_title'] == title, 'parent_genre_id'] = idx\n",
    "\n",
    "tracks.head(20)"
   ]
  },
  {
   "cell_type": "markdown",
   "metadata": {},
   "source": [
    "We can now visualize how many tracks have each genre:"
   ]
  },
  {
   "cell_type": "code",
   "execution_count": 83,
   "metadata": {},
   "outputs": [
    {
     "data": {
      "image/png": "[encoded data removed]",
      "text/plain": [
       "<Figure size 640x480 with 1 Axes>"
      ]
     },
     "metadata": {},
     "output_type": "display_data"
    }
   ],
   "source": [
    "ax = tracks.parent_genre_title.value_counts().sort_values().plot(kind='barh')\n",
    "plt.title('Counts of Track Genres')\n",
    "plt.xlabel('Count')\n",
    "plt.ylabel('Genre Name')\n",
    "# Add value labels to the bars\n",
    "for p in ax.patches:\n",
    "    ax.annotate(str(p.get_width()), (p.get_width(), p.get_y() + p.get_height() / 2.),\n",
    "                ha='left', va='center', xytext=(5, 0), textcoords='offset points')\n",
    "plt.xlim(0, 7999)\n",
    "plt.tight_layout()\n",
    "plt.savefig('./visualizations/genres_count.png')"
   ]
  },
  {
   "cell_type": "markdown",
   "metadata": {},
   "source": [
    "Let's investigate the sample rates of our files."
   ]
  },
  {
   "cell_type": "code",
   "execution_count": 84,
   "metadata": {},
   "outputs": [
    {
     "name": "stderr",
     "output_type": "stream",
     "text": [
      "100%|██████████| 25000/25000 [02:20<00:00, 178.14it/s]\n"
     ]
    }
   ],
   "source": [
    "def load_mp3(fpath):\n",
    "    audio = tfio.audio.AudioIOTensor(fpath)\n",
    "\n",
    "    return audio\n",
    "\n",
    "rates = {}\n",
    "for idx, file in enumerate(tqdm(files)):\n",
    "    mp3 = load_mp3(file)\n",
    "    rates[medium_track_ids[idx]] = mp3.rate.numpy()"
   ]
  },
  {
   "cell_type": "code",
   "execution_count": 85,
   "metadata": {},
   "outputs": [
    {
     "name": "stdout",
     "output_type": "stream",
     "text": [
      "{48000, 32000, 22050, 44100}\n",
      "Count of sample rate 48000: 1090\n",
      "Count of sample rate 32000: 17\n",
      "Count of sample rate 22050: 38\n",
      "Count of sample rate 44100: 23855\n"
     ]
    }
   ],
   "source": [
    "# This will give the unique sample rate values\n",
    "print(set(rates.values()))\n",
    "\n",
    "for rate in set(rates.values()):\n",
    "    print(f\"Count of sample rate {rate}: {list(rates.values()).count(rate)}\")"
   ]
  },
  {
   "cell_type": "markdown",
   "metadata": {},
   "source": [
    "We can see from above that there are 4 different sample rates in our data:\n",
    "48000, 32000, 22050, and 44100.\n",
    "\n",
    "Since 32000 and 22050 only have 17 and 38 respectively, I'm comfortable with removing these.\n",
    "This allows me to avoid downsampling everything else for consistency.\n",
    "\n",
    "In the music world, 44100Hz sample rate is standard (used for CDs), so being versatile to lower sample rates is not worth the loss in data quality.\n",
    "\n",
    "Read this for more info: https://www.adobe.com/uk/creativecloud/video/discover/audio-sampling.html\n",
    "\n",
    "There's only 55 tracks that are lower, so we can easily remove them without causing issues."
   ]
  },
  {
   "cell_type": "code",
   "execution_count": 86,
   "metadata": {},
   "outputs": [
    {
     "data": {
      "text/plain": [
       "24945"
      ]
     },
     "execution_count": 86,
     "metadata": {},
     "output_type": "execute_result"
    }
   ],
   "source": [
    "bad_sample_rates = []\n",
    "\n",
    "for track in rates:\n",
    "    if rates[track] < 44100:\n",
    "        bad_sample_rates.append(track)\n",
    "\n",
    "# Remove these from the dataset\n",
    "tracks = tracks[~tracks['track_id'].isin(bad_sample_rates)]\n",
    "len(tracks)"
   ]
  },
  {
   "cell_type": "markdown",
   "metadata": {},
   "source": [
    "As a last step, let's make another column with the filename of each track."
   ]
  },
  {
   "cell_type": "code",
   "execution_count": 87,
   "metadata": {},
   "outputs": [
    {
     "name": "stderr",
     "output_type": "stream",
     "text": [
      "C:\\Users\\Peter\\AppData\\Local\\Packages\\PythonSoftwareFoundation.Python.3.10_qbz5n2kfra8p0\\LocalCache\\local-packages\\Python310\\site-packages\\pandas\\core\\indexing.py:1817: SettingWithCopyWarning:\n",
      "\n",
      "\n",
      "A value is trying to be set on a copy of a slice from a DataFrame.\n",
      "Try using .loc[row_indexer,col_indexer] = value instead\n",
      "\n",
      "See the caveats in the documentation: https://pandas.pydata.org/pandas-docs/stable/user_guide/indexing.html#returning-a-view-versus-a-copy\n",
      "\n"
     ]
    },
    {
     "data": {
      "text/html": [
       "<div>\n",
       "<style scoped>\n",
       "    .dataframe tbody tr th:only-of-type {\n",
       "        vertical-align: middle;\n",
       "    }\n",
       "\n",
       "    .dataframe tbody tr th {\n",
       "        vertical-align: top;\n",
       "    }\n",
       "\n",
       "    .dataframe thead th {\n",
       "        text-align: right;\n",
       "    }\n",
       "</style>\n",
       "<table border=\"1\" class=\"dataframe\">\n",
       "  <thead>\n",
       "    <tr style=\"text-align: right;\">\n",
       "      <th></th>\n",
       "      <th>track_id</th>\n",
       "      <th>parent_genre_id</th>\n",
       "      <th>parent_genre_title</th>\n",
       "      <th>fpath</th>\n",
       "    </tr>\n",
       "  </thead>\n",
       "  <tbody>\n",
       "    <tr>\n",
       "      <th>0</th>\n",
       "      <td>2</td>\n",
       "      <td>0</td>\n",
       "      <td>Hip-Hop</td>\n",
       "      <td>\\000\\000002.mp3</td>\n",
       "    </tr>\n",
       "    <tr>\n",
       "      <th>1</th>\n",
       "      <td>3</td>\n",
       "      <td>0</td>\n",
       "      <td>Hip-Hop</td>\n",
       "      <td>\\000\\000003.mp3</td>\n",
       "    </tr>\n",
       "    <tr>\n",
       "      <th>2</th>\n",
       "      <td>5</td>\n",
       "      <td>0</td>\n",
       "      <td>Hip-Hop</td>\n",
       "      <td>\\000\\000005.mp3</td>\n",
       "    </tr>\n",
       "    <tr>\n",
       "      <th>3</th>\n",
       "      <td>10</td>\n",
       "      <td>1</td>\n",
       "      <td>Pop</td>\n",
       "      <td>\\000\\000010.mp3</td>\n",
       "    </tr>\n",
       "    <tr>\n",
       "      <th>9</th>\n",
       "      <td>134</td>\n",
       "      <td>0</td>\n",
       "      <td>Hip-Hop</td>\n",
       "      <td>\\000\\000134.mp3</td>\n",
       "    </tr>\n",
       "    <tr>\n",
       "      <th>11</th>\n",
       "      <td>136</td>\n",
       "      <td>2</td>\n",
       "      <td>Rock</td>\n",
       "      <td>\\000\\000136.mp3</td>\n",
       "    </tr>\n",
       "    <tr>\n",
       "      <th>14</th>\n",
       "      <td>139</td>\n",
       "      <td>3</td>\n",
       "      <td>Folk</td>\n",
       "      <td>\\000\\000139.mp3</td>\n",
       "    </tr>\n",
       "    <tr>\n",
       "      <th>15</th>\n",
       "      <td>140</td>\n",
       "      <td>3</td>\n",
       "      <td>Folk</td>\n",
       "      <td>\\000\\000140.mp3</td>\n",
       "    </tr>\n",
       "    <tr>\n",
       "      <th>16</th>\n",
       "      <td>141</td>\n",
       "      <td>3</td>\n",
       "      <td>Folk</td>\n",
       "      <td>\\000\\000141.mp3</td>\n",
       "    </tr>\n",
       "    <tr>\n",
       "      <th>22</th>\n",
       "      <td>148</td>\n",
       "      <td>4</td>\n",
       "      <td>Experimental</td>\n",
       "      <td>\\000\\000148.mp3</td>\n",
       "    </tr>\n",
       "    <tr>\n",
       "      <th>54</th>\n",
       "      <td>181</td>\n",
       "      <td>2</td>\n",
       "      <td>Rock</td>\n",
       "      <td>\\000\\000181.mp3</td>\n",
       "    </tr>\n",
       "    <tr>\n",
       "      <th>55</th>\n",
       "      <td>182</td>\n",
       "      <td>2</td>\n",
       "      <td>Rock</td>\n",
       "      <td>\\000\\000182.mp3</td>\n",
       "    </tr>\n",
       "    <tr>\n",
       "      <th>61</th>\n",
       "      <td>190</td>\n",
       "      <td>3</td>\n",
       "      <td>Folk</td>\n",
       "      <td>\\000\\000190.mp3</td>\n",
       "    </tr>\n",
       "    <tr>\n",
       "      <th>64</th>\n",
       "      <td>193</td>\n",
       "      <td>3</td>\n",
       "      <td>Folk</td>\n",
       "      <td>\\000\\000193.mp3</td>\n",
       "    </tr>\n",
       "    <tr>\n",
       "      <th>65</th>\n",
       "      <td>194</td>\n",
       "      <td>3</td>\n",
       "      <td>Folk</td>\n",
       "      <td>\\000\\000194.mp3</td>\n",
       "    </tr>\n",
       "    <tr>\n",
       "      <th>68</th>\n",
       "      <td>197</td>\n",
       "      <td>3</td>\n",
       "      <td>Folk</td>\n",
       "      <td>\\000\\000197.mp3</td>\n",
       "    </tr>\n",
       "    <tr>\n",
       "      <th>69</th>\n",
       "      <td>198</td>\n",
       "      <td>3</td>\n",
       "      <td>Folk</td>\n",
       "      <td>\\000\\000198.mp3</td>\n",
       "    </tr>\n",
       "    <tr>\n",
       "      <th>71</th>\n",
       "      <td>200</td>\n",
       "      <td>3</td>\n",
       "      <td>Folk</td>\n",
       "      <td>\\000\\000200.mp3</td>\n",
       "    </tr>\n",
       "    <tr>\n",
       "      <th>74</th>\n",
       "      <td>203</td>\n",
       "      <td>3</td>\n",
       "      <td>Folk</td>\n",
       "      <td>\\000\\000203.mp3</td>\n",
       "    </tr>\n",
       "    <tr>\n",
       "      <th>75</th>\n",
       "      <td>204</td>\n",
       "      <td>3</td>\n",
       "      <td>Folk</td>\n",
       "      <td>\\000\\000204.mp3</td>\n",
       "    </tr>\n",
       "  </tbody>\n",
       "</table>\n",
       "</div>"
      ],
      "text/plain": [
       "    track_id  parent_genre_id parent_genre_title            fpath\n",
       "0          2                0            Hip-Hop  \\000\\000002.mp3\n",
       "1          3                0            Hip-Hop  \\000\\000003.mp3\n",
       "2          5                0            Hip-Hop  \\000\\000005.mp3\n",
       "3         10                1                Pop  \\000\\000010.mp3\n",
       "9        134                0            Hip-Hop  \\000\\000134.mp3\n",
       "11       136                2               Rock  \\000\\000136.mp3\n",
       "14       139                3               Folk  \\000\\000139.mp3\n",
       "15       140                3               Folk  \\000\\000140.mp3\n",
       "16       141                3               Folk  \\000\\000141.mp3\n",
       "22       148                4       Experimental  \\000\\000148.mp3\n",
       "54       181                2               Rock  \\000\\000181.mp3\n",
       "55       182                2               Rock  \\000\\000182.mp3\n",
       "61       190                3               Folk  \\000\\000190.mp3\n",
       "64       193                3               Folk  \\000\\000193.mp3\n",
       "65       194                3               Folk  \\000\\000194.mp3\n",
       "68       197                3               Folk  \\000\\000197.mp3\n",
       "69       198                3               Folk  \\000\\000198.mp3\n",
       "71       200                3               Folk  \\000\\000200.mp3\n",
       "74       203                3               Folk  \\000\\000203.mp3\n",
       "75       204                3               Folk  \\000\\000204.mp3"
      ]
     },
     "execution_count": 87,
     "metadata": {},
     "output_type": "execute_result"
    }
   ],
   "source": [
    "# Make new column\n",
    "tracks.loc[:, ['fpath']] = None\n",
    "\n",
    "# Get the paths relative to the fma_medium folder\n",
    "rel_paths = [file[file.find('fma_medium') + 10:] for file in files]\n",
    "\n",
    "for path in rel_paths:\n",
    "    # Find the id (without leading zeros)\n",
    "    id = int(path.split(os.sep)[-1][:-4].lstrip(\"0\"))\n",
    "    tracks.loc[tracks['track_id'] == id, 'fpath'] = path\n",
    "\n",
    "tracks.head(20)"
   ]
  },
  {
   "cell_type": "markdown",
   "metadata": {},
   "source": [
    "Awesome! Let's save our data to a CSV for future use."
   ]
  },
  {
   "cell_type": "code",
   "execution_count": 88,
   "metadata": {},
   "outputs": [],
   "source": [
    "tracks.to_csv('./data/processed_genres.csv')"
   ]
  }
 ],
 "metadata": {
  "kernelspec": {
   "display_name": "Python 3",
   "language": "python",
   "name": "python3"
  },
  "language_info": {
   "codemirror_mode": {
    "name": "ipython",
    "version": 3
   },
   "file_extension": ".py",
   "mimetype": "text/x-python",
   "name": "python",
   "nbconvert_exporter": "python",
   "pygments_lexer": "ipython3",
   "version": "3.10.11"
  }
 },
 "nbformat": 4,
 "nbformat_minor": 2
}
