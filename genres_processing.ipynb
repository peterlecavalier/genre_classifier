{
 "cells": [
  {
   "cell_type": "code",
   "execution_count": 60,
   "metadata": {},
   "outputs": [],
   "source": [
    "import pandas as pd\n",
    "import plotly.express as px\n",
    "from glob import glob\n",
    "import pandas as pd\n",
    "import os\n",
    "import matplotlib.pyplot as plt\n",
    "import tensorflow_io as tfio\n",
    "from tqdm import tqdm"
   ]
  },
  {
   "cell_type": "code",
   "execution_count": 61,
   "metadata": {},
   "outputs": [],
   "source": [
    "# Read in data\n",
    "genres = pd.read_csv('./data/fma_metadata/genres.csv')\n",
    "\n",
    "# Insert a genre_id with number 0 to make a top-level.\n",
    "genres.loc[len(genres.index)] = [0, 0, None, 'All Genres', 0]\n",
    "\n",
    "# Get important info only\n",
    "genres = genres[['genre_id', '#tracks', 'parent', 'title']]\n",
    "\n",
    "### Set parent column to title of parent column.\n",
    "# Create a mapping DataFrame with 'genre_id' and 'title'\n",
    "genre_mapping = genres[['genre_id', 'title']]\n",
    "\n",
    "# Merge the original DataFrame with the mapping DataFrame\n",
    "genres = genres.merge(genre_mapping, left_on='parent', right_on='genre_id', suffixes=('', '_parent'))\n",
    "\n",
    "# Drop the 'genre_id' column of the parent\n",
    "genres = genres.drop(columns=['genre_id_parent', 'parent', 'genre_id'])\n",
    "\n",
    "# Rename the 'title' column to 'parent_title'\n",
    "genres = genres.rename(columns={'title_parent': 'parent'})"
   ]
  },
  {
   "cell_type": "code",
   "execution_count": 62,
   "metadata": {},
   "outputs": [
    {
     "data": {
      "text/html": [
       "<div>\n",
       "<style scoped>\n",
       "    .dataframe tbody tr th:only-of-type {\n",
       "        vertical-align: middle;\n",
       "    }\n",
       "\n",
       "    .dataframe tbody tr th {\n",
       "        vertical-align: top;\n",
       "    }\n",
       "\n",
       "    .dataframe thead th {\n",
       "        text-align: right;\n",
       "    }\n",
       "</style>\n",
       "<table border=\"1\" class=\"dataframe\">\n",
       "  <thead>\n",
       "    <tr style=\"text-align: right;\">\n",
       "      <th></th>\n",
       "      <th>#tracks</th>\n",
       "      <th>title</th>\n",
       "      <th>parent</th>\n",
       "    </tr>\n",
       "  </thead>\n",
       "  <tbody>\n",
       "    <tr>\n",
       "      <th>0</th>\n",
       "      <td>8693</td>\n",
       "      <td>Avant-Garde</td>\n",
       "      <td>Experimental</td>\n",
       "    </tr>\n",
       "    <tr>\n",
       "      <th>1</th>\n",
       "      <td>914</td>\n",
       "      <td>Novelty</td>\n",
       "      <td>Experimental</td>\n",
       "    </tr>\n",
       "    <tr>\n",
       "      <th>2</th>\n",
       "      <td>774</td>\n",
       "      <td>Audio Collage</td>\n",
       "      <td>Experimental</td>\n",
       "    </tr>\n",
       "    <tr>\n",
       "      <th>3</th>\n",
       "      <td>3237</td>\n",
       "      <td>Field Recordings</td>\n",
       "      <td>Experimental</td>\n",
       "    </tr>\n",
       "    <tr>\n",
       "      <th>4</th>\n",
       "      <td>7268</td>\n",
       "      <td>Noise</td>\n",
       "      <td>Experimental</td>\n",
       "    </tr>\n",
       "  </tbody>\n",
       "</table>\n",
       "</div>"
      ],
      "text/plain": [
       "   #tracks             title        parent\n",
       "0     8693       Avant-Garde  Experimental\n",
       "1      914           Novelty  Experimental\n",
       "2      774     Audio Collage  Experimental\n",
       "3     3237  Field Recordings  Experimental\n",
       "4     7268             Noise  Experimental"
      ]
     },
     "execution_count": 62,
     "metadata": {},
     "output_type": "execute_result"
    }
   ],
   "source": [
    "genres.head()"
   ]
  },
  {
   "cell_type": "code",
   "execution_count": 63,
   "metadata": {},
   "outputs": [
    {
     "data": {
      "application/vnd.plotly.v1+json": {
       "config": {
        "plotlyServerURL": "https://plot.ly"
       },
       "data": [
        {
         "domain": {
          "x": [
           0,
           1
          ],
          "y": [
           0,
           1
          ]
         },
         "hovertemplate": "title=%{label}<br>parent=%{parent}<extra></extra>",
         "labels": [
          "Avant-Garde",
          "Novelty",
          "Audio Collage",
          "Field Recordings",
          "Noise",
          "Electroacoustic",
          "Drone",
          "Unclassifiable",
          "Sound Poetry",
          "Sound Collage",
          "Musique Concrete",
          "Improv",
          "Minimalism",
          "Sound Art",
          "International",
          "Blues",
          "Jazz",
          "Classical",
          "Old-Time / Historic",
          "Country",
          "Pop",
          "Rock",
          "Easy Listening",
          "Soul-RnB",
          "Electronic",
          "Folk",
          "Spoken",
          "Hip-Hop",
          "Experimental",
          "Instrumental",
          "Comedy",
          "Radio",
          "Spoken Weird",
          "Poetry",
          "Banter",
          "Spoken Word",
          "Radio Theater",
          "Musical Theater",
          "Disco",
          "Funk",
          "Sound Effects",
          "Kid-Friendly",
          "Soundtrack",
          "Ambient",
          "New Age",
          "Punk",
          "Post-Rock",
          "Lo-Fi",
          "Metal",
          "Krautrock",
          "Loud-Rock",
          "Psych-Rock",
          "Indie-Rock",
          "Industrial",
          "Garage",
          "New Wave",
          "Progressive",
          "Goth",
          "Shoegaze",
          "Rock Opera",
          "Psych-Folk",
          "Free-Folk",
          "Freak-Folk",
          "Singer-Songwriter",
          "British Folk",
          "Jazz: Vocal",
          "Free-Jazz",
          "Jazz: Out",
          "Be-Bop",
          "Big Band/Swing",
          "Modern Jazz",
          "Ambient Electronic",
          "Techno",
          "House",
          "Glitch",
          "Minimal Electronic",
          "Breakcore - Hard",
          "IDM",
          "Trip-Hop",
          "Dance",
          "Chip Music",
          "Drum & Bass",
          "Dubstep",
          "Downtempo",
          "Jungle",
          "Radio Art",
          "Interview",
          "Talk Radio",
          "Latin America",
          "French",
          "Reggae - Dub",
          "Indian",
          "African",
          "Middle East",
          "Polka",
          "Balkan",
          "Europe",
          "Brazilian",
          "Asia-Far East",
          "Pacific",
          "Celtic",
          "Flamenco",
          "Latin",
          "Noise-Rock",
          "Bluegrass",
          "Americana",
          "Rockabilly",
          "Country & Western",
          "Electro-Punk",
          "No Wave",
          "Post-Punk",
          "Hardcore",
          "Power-Pop",
          "Experimental Pop",
          "Synth Pop",
          "Afrobeat",
          "North African",
          "Nerdcore",
          "Alternative Hip-Hop",
          "Rap",
          "Breakbeat",
          "Abstract Hip-Hop",
          "Wonky",
          "Hip-Hop Beats",
          "Sludge",
          "Death-Metal",
          "Black-Metal",
          "Grindcore",
          "Space-Rock",
          "Easy Listening: Vocal",
          "Lounge",
          "Nu-Jazz",
          "N. Indian Traditional",
          "South Indian Traditional",
          "Bollywood",
          "20th Century Classical",
          "Composed Music",
          "Opera",
          "Chamber Music",
          "Choral Music",
          "Symphony",
          "Contemporary Classical",
          "Chiptune",
          "Thrash",
          "Deep Funk",
          "Chill-out",
          "Bigbeat",
          "Surf",
          "Skweee",
          "Western Swing",
          "Cumbia",
          "Salsa",
          "Tango",
          "Romany (Gypsy)",
          "Spanish",
          "Klezmer",
          "Fado",
          "Compilation",
          "Gospel",
          "Reggae - Dancehall",
          "Holiday",
          "Turkish",
          "Christmas"
         ],
         "name": "",
         "parents": [
          "Experimental",
          "Experimental",
          "Experimental",
          "Experimental",
          "Experimental",
          "Experimental",
          "Experimental",
          "Experimental",
          "Experimental",
          "Experimental",
          "Experimental",
          "Experimental",
          "Experimental",
          "Experimental",
          "All Genres",
          "All Genres",
          "All Genres",
          "All Genres",
          "All Genres",
          "All Genres",
          "All Genres",
          "All Genres",
          "All Genres",
          "All Genres",
          "All Genres",
          "All Genres",
          "All Genres",
          "All Genres",
          "All Genres",
          "All Genres",
          "Spoken",
          "Spoken",
          "Spoken",
          "Spoken",
          "Spoken",
          "Spoken",
          "Spoken",
          "Spoken",
          "Soul-RnB",
          "Soul-RnB",
          "Novelty",
          "Novelty",
          "Instrumental",
          "Instrumental",
          "Instrumental",
          "Rock",
          "Rock",
          "Rock",
          "Rock",
          "Rock",
          "Rock",
          "Rock",
          "Rock",
          "Rock",
          "Rock",
          "Rock",
          "Rock",
          "Rock",
          "Rock",
          "Rock",
          "Folk",
          "Folk",
          "Folk",
          "Folk",
          "Folk",
          "Jazz",
          "Jazz",
          "Jazz",
          "Jazz",
          "Jazz",
          "Jazz",
          "Electronic",
          "Electronic",
          "Electronic",
          "Electronic",
          "Electronic",
          "Electronic",
          "Electronic",
          "Electronic",
          "Electronic",
          "Electronic",
          "Electronic",
          "Electronic",
          "Electronic",
          "Electronic",
          "Radio",
          "Radio",
          "Radio",
          "International",
          "International",
          "International",
          "International",
          "International",
          "International",
          "International",
          "International",
          "International",
          "International",
          "International",
          "International",
          "International",
          "International",
          "International",
          "Loud-Rock",
          "Country",
          "Country",
          "Country",
          "Country",
          "Punk",
          "Punk",
          "Punk",
          "Punk",
          "Punk",
          "Pop",
          "Pop",
          "African",
          "African",
          "Hip-Hop",
          "Hip-Hop",
          "Hip-Hop",
          "Hip-Hop",
          "Hip-Hop",
          "Hip-Hop",
          "Hip-Hop",
          "Noise-Rock",
          "Metal",
          "Metal",
          "Metal",
          "Post-Rock",
          "Easy Listening",
          "Easy Listening",
          "Easy Listening",
          "Indian",
          "Indian",
          "Indian",
          "Classical",
          "Classical",
          "Classical",
          "Classical",
          "Classical",
          "Classical",
          "Classical",
          "Chip Music",
          "Hardcore",
          "Funk",
          "House",
          "Techno",
          "Garage",
          "Dubstep",
          "Country & Western",
          "Latin America",
          "Latin America",
          "Latin America",
          "Europe",
          "Europe",
          "Europe",
          "Europe",
          "Soundtrack",
          "Blues",
          "Reggae - Dub",
          "Sound Effects",
          "Middle East",
          "Holiday"
         ],
         "type": "sunburst"
        }
       ],
       "layout": {
        "legend": {
         "tracegroupgap": 0
        },
        "margin": {
         "t": 60
        },
        "template": {
         "data": {
          "bar": [
           {
            "error_x": {
             "color": "#2a3f5f"
            },
            "error_y": {
             "color": "#2a3f5f"
            },
            "marker": {
             "line": {
              "color": "#E5ECF6",
              "width": 0.5
             },
             "pattern": {
              "fillmode": "overlay",
              "size": 10,
              "solidity": 0.2
             }
            },
            "type": "bar"
           }
          ],
          "barpolar": [
           {
            "marker": {
             "line": {
              "color": "#E5ECF6",
              "width": 0.5
             },
             "pattern": {
              "fillmode": "overlay",
              "size": 10,
              "solidity": 0.2
             }
            },
            "type": "barpolar"
           }
          ],
          "carpet": [
           {
            "aaxis": {
             "endlinecolor": "#2a3f5f",
             "gridcolor": "white",
             "linecolor": "white",
             "minorgridcolor": "white",
             "startlinecolor": "#2a3f5f"
            },
            "baxis": {
             "endlinecolor": "#2a3f5f",
             "gridcolor": "white",
             "linecolor": "white",
             "minorgridcolor": "white",
             "startlinecolor": "#2a3f5f"
            },
            "type": "carpet"
           }
          ],
          "choropleth": [
           {
            "colorbar": {
             "outlinewidth": 0,
             "ticks": ""
            },
            "type": "choropleth"
           }
          ],
          "contour": [
           {
            "colorbar": {
             "outlinewidth": 0,
             "ticks": ""
            },
            "colorscale": [
             [
              0,
              "#0d0887"
             ],
             [
              0.1111111111111111,
              "#46039f"
             ],
             [
              0.2222222222222222,
              "#7201a8"
             ],
             [
              0.3333333333333333,
              "#9c179e"
             ],
             [
              0.4444444444444444,
              "#bd3786"
             ],
             [
              0.5555555555555556,
              "#d8576b"
             ],
             [
              0.6666666666666666,
              "#ed7953"
             ],
             [
              0.7777777777777778,
              "#fb9f3a"
             ],
             [
              0.8888888888888888,
              "#fdca26"
             ],
             [
              1,
              "#f0f921"
             ]
            ],
            "type": "contour"
           }
          ],
          "contourcarpet": [
           {
            "colorbar": {
             "outlinewidth": 0,
             "ticks": ""
            },
            "type": "contourcarpet"
           }
          ],
          "heatmap": [
           {
            "colorbar": {
             "outlinewidth": 0,
             "ticks": ""
            },
            "colorscale": [
             [
              0,
              "#0d0887"
             ],
             [
              0.1111111111111111,
              "#46039f"
             ],
             [
              0.2222222222222222,
              "#7201a8"
             ],
             [
              0.3333333333333333,
              "#9c179e"
             ],
             [
              0.4444444444444444,
              "#bd3786"
             ],
             [
              0.5555555555555556,
              "#d8576b"
             ],
             [
              0.6666666666666666,
              "#ed7953"
             ],
             [
              0.7777777777777778,
              "#fb9f3a"
             ],
             [
              0.8888888888888888,
              "#fdca26"
             ],
             [
              1,
              "#f0f921"
             ]
            ],
            "type": "heatmap"
           }
          ],
          "heatmapgl": [
           {
            "colorbar": {
             "outlinewidth": 0,
             "ticks": ""
            },
            "colorscale": [
             [
              0,
              "#0d0887"
             ],
             [
              0.1111111111111111,
              "#46039f"
             ],
             [
              0.2222222222222222,
              "#7201a8"
             ],
             [
              0.3333333333333333,
              "#9c179e"
             ],
             [
              0.4444444444444444,
              "#bd3786"
             ],
             [
              0.5555555555555556,
              "#d8576b"
             ],
             [
              0.6666666666666666,
              "#ed7953"
             ],
             [
              0.7777777777777778,
              "#fb9f3a"
             ],
             [
              0.8888888888888888,
              "#fdca26"
             ],
             [
              1,
              "#f0f921"
             ]
            ],
            "type": "heatmapgl"
           }
          ],
          "histogram": [
           {
            "marker": {
             "pattern": {
              "fillmode": "overlay",
              "size": 10,
              "solidity": 0.2
             }
            },
            "type": "histogram"
           }
          ],
          "histogram2d": [
           {
            "colorbar": {
             "outlinewidth": 0,
             "ticks": ""
            },
            "colorscale": [
             [
              0,
              "#0d0887"
             ],
             [
              0.1111111111111111,
              "#46039f"
             ],
             [
              0.2222222222222222,
              "#7201a8"
             ],
             [
              0.3333333333333333,
              "#9c179e"
             ],
             [
              0.4444444444444444,
              "#bd3786"
             ],
             [
              0.5555555555555556,
              "#d8576b"
             ],
             [
              0.6666666666666666,
              "#ed7953"
             ],
             [
              0.7777777777777778,
              "#fb9f3a"
             ],
             [
              0.8888888888888888,
              "#fdca26"
             ],
             [
              1,
              "#f0f921"
             ]
            ],
            "type": "histogram2d"
           }
          ],
          "histogram2dcontour": [
           {
            "colorbar": {
             "outlinewidth": 0,
             "ticks": ""
            },
            "colorscale": [
             [
              0,
              "#0d0887"
             ],
             [
              0.1111111111111111,
              "#46039f"
             ],
             [
              0.2222222222222222,
              "#7201a8"
             ],
             [
              0.3333333333333333,
              "#9c179e"
             ],
             [
              0.4444444444444444,
              "#bd3786"
             ],
             [
              0.5555555555555556,
              "#d8576b"
             ],
             [
              0.6666666666666666,
              "#ed7953"
             ],
             [
              0.7777777777777778,
              "#fb9f3a"
             ],
             [
              0.8888888888888888,
              "#fdca26"
             ],
             [
              1,
              "#f0f921"
             ]
            ],
            "type": "histogram2dcontour"
           }
          ],
          "mesh3d": [
           {
            "colorbar": {
             "outlinewidth": 0,
             "ticks": ""
            },
            "type": "mesh3d"
           }
          ],
          "parcoords": [
           {
            "line": {
             "colorbar": {
              "outlinewidth": 0,
              "ticks": ""
             }
            },
            "type": "parcoords"
           }
          ],
          "pie": [
           {
            "automargin": true,
            "type": "pie"
           }
          ],
          "scatter": [
           {
            "fillpattern": {
             "fillmode": "overlay",
             "size": 10,
             "solidity": 0.2
            },
            "type": "scatter"
           }
          ],
          "scatter3d": [
           {
            "line": {
             "colorbar": {
              "outlinewidth": 0,
              "ticks": ""
             }
            },
            "marker": {
             "colorbar": {
              "outlinewidth": 0,
              "ticks": ""
             }
            },
            "type": "scatter3d"
           }
          ],
          "scattercarpet": [
           {
            "marker": {
             "colorbar": {
              "outlinewidth": 0,
              "ticks": ""
             }
            },
            "type": "scattercarpet"
           }
          ],
          "scattergeo": [
           {
            "marker": {
             "colorbar": {
              "outlinewidth": 0,
              "ticks": ""
             }
            },
            "type": "scattergeo"
           }
          ],
          "scattergl": [
           {
            "marker": {
             "colorbar": {
              "outlinewidth": 0,
              "ticks": ""
             }
            },
            "type": "scattergl"
           }
          ],
          "scattermapbox": [
           {
            "marker": {
             "colorbar": {
              "outlinewidth": 0,
              "ticks": ""
             }
            },
            "type": "scattermapbox"
           }
          ],
          "scatterpolar": [
           {
            "marker": {
             "colorbar": {
              "outlinewidth": 0,
              "ticks": ""
             }
            },
            "type": "scatterpolar"
           }
          ],
          "scatterpolargl": [
           {
            "marker": {
             "colorbar": {
              "outlinewidth": 0,
              "ticks": ""
             }
            },
            "type": "scatterpolargl"
           }
          ],
          "scatterternary": [
           {
            "marker": {
             "colorbar": {
              "outlinewidth": 0,
              "ticks": ""
             }
            },
            "type": "scatterternary"
           }
          ],
          "surface": [
           {
            "colorbar": {
             "outlinewidth": 0,
             "ticks": ""
            },
            "colorscale": [
             [
              0,
              "#0d0887"
             ],
             [
              0.1111111111111111,
              "#46039f"
             ],
             [
              0.2222222222222222,
              "#7201a8"
             ],
             [
              0.3333333333333333,
              "#9c179e"
             ],
             [
              0.4444444444444444,
              "#bd3786"
             ],
             [
              0.5555555555555556,
              "#d8576b"
             ],
             [
              0.6666666666666666,
              "#ed7953"
             ],
             [
              0.7777777777777778,
              "#fb9f3a"
             ],
             [
              0.8888888888888888,
              "#fdca26"
             ],
             [
              1,
              "#f0f921"
             ]
            ],
            "type": "surface"
           }
          ],
          "table": [
           {
            "cells": {
             "fill": {
              "color": "#EBF0F8"
             },
             "line": {
              "color": "white"
             }
            },
            "header": {
             "fill": {
              "color": "#C8D4E3"
             },
             "line": {
              "color": "white"
             }
            },
            "type": "table"
           }
          ]
         },
         "layout": {
          "annotationdefaults": {
           "arrowcolor": "#2a3f5f",
           "arrowhead": 0,
           "arrowwidth": 1
          },
          "autotypenumbers": "strict",
          "coloraxis": {
           "colorbar": {
            "outlinewidth": 0,
            "ticks": ""
           }
          },
          "colorscale": {
           "diverging": [
            [
             0,
             "#8e0152"
            ],
            [
             0.1,
             "#c51b7d"
            ],
            [
             0.2,
             "#de77ae"
            ],
            [
             0.3,
             "#f1b6da"
            ],
            [
             0.4,
             "#fde0ef"
            ],
            [
             0.5,
             "#f7f7f7"
            ],
            [
             0.6,
             "#e6f5d0"
            ],
            [
             0.7,
             "#b8e186"
            ],
            [
             0.8,
             "#7fbc41"
            ],
            [
             0.9,
             "#4d9221"
            ],
            [
             1,
             "#276419"
            ]
           ],
           "sequential": [
            [
             0,
             "#0d0887"
            ],
            [
             0.1111111111111111,
             "#46039f"
            ],
            [
             0.2222222222222222,
             "#7201a8"
            ],
            [
             0.3333333333333333,
             "#9c179e"
            ],
            [
             0.4444444444444444,
             "#bd3786"
            ],
            [
             0.5555555555555556,
             "#d8576b"
            ],
            [
             0.6666666666666666,
             "#ed7953"
            ],
            [
             0.7777777777777778,
             "#fb9f3a"
            ],
            [
             0.8888888888888888,
             "#fdca26"
            ],
            [
             1,
             "#f0f921"
            ]
           ],
           "sequentialminus": [
            [
             0,
             "#0d0887"
            ],
            [
             0.1111111111111111,
             "#46039f"
            ],
            [
             0.2222222222222222,
             "#7201a8"
            ],
            [
             0.3333333333333333,
             "#9c179e"
            ],
            [
             0.4444444444444444,
             "#bd3786"
            ],
            [
             0.5555555555555556,
             "#d8576b"
            ],
            [
             0.6666666666666666,
             "#ed7953"
            ],
            [
             0.7777777777777778,
             "#fb9f3a"
            ],
            [
             0.8888888888888888,
             "#fdca26"
            ],
            [
             1,
             "#f0f921"
            ]
           ]
          },
          "colorway": [
           "#636efa",
           "#EF553B",
           "#00cc96",
           "#ab63fa",
           "#FFA15A",
           "#19d3f3",
           "#FF6692",
           "#B6E880",
           "#FF97FF",
           "#FECB52"
          ],
          "font": {
           "color": "#2a3f5f"
          },
          "geo": {
           "bgcolor": "white",
           "lakecolor": "white",
           "landcolor": "#E5ECF6",
           "showlakes": true,
           "showland": true,
           "subunitcolor": "white"
          },
          "hoverlabel": {
           "align": "left"
          },
          "hovermode": "closest",
          "mapbox": {
           "style": "light"
          },
          "paper_bgcolor": "white",
          "plot_bgcolor": "#E5ECF6",
          "polar": {
           "angularaxis": {
            "gridcolor": "white",
            "linecolor": "white",
            "ticks": ""
           },
           "bgcolor": "#E5ECF6",
           "radialaxis": {
            "gridcolor": "white",
            "linecolor": "white",
            "ticks": ""
           }
          },
          "scene": {
           "xaxis": {
            "backgroundcolor": "#E5ECF6",
            "gridcolor": "white",
            "gridwidth": 2,
            "linecolor": "white",
            "showbackground": true,
            "ticks": "",
            "zerolinecolor": "white"
           },
           "yaxis": {
            "backgroundcolor": "#E5ECF6",
            "gridcolor": "white",
            "gridwidth": 2,
            "linecolor": "white",
            "showbackground": true,
            "ticks": "",
            "zerolinecolor": "white"
           },
           "zaxis": {
            "backgroundcolor": "#E5ECF6",
            "gridcolor": "white",
            "gridwidth": 2,
            "linecolor": "white",
            "showbackground": true,
            "ticks": "",
            "zerolinecolor": "white"
           }
          },
          "shapedefaults": {
           "line": {
            "color": "#2a3f5f"
           }
          },
          "ternary": {
           "aaxis": {
            "gridcolor": "white",
            "linecolor": "white",
            "ticks": ""
           },
           "baxis": {
            "gridcolor": "white",
            "linecolor": "white",
            "ticks": ""
           },
           "bgcolor": "#E5ECF6",
           "caxis": {
            "gridcolor": "white",
            "linecolor": "white",
            "ticks": ""
           }
          },
          "title": {
           "x": 0.05
          },
          "xaxis": {
           "automargin": true,
           "gridcolor": "white",
           "linecolor": "white",
           "ticks": "",
           "title": {
            "standoff": 15
           },
           "zerolinecolor": "white",
           "zerolinewidth": 2
          },
          "yaxis": {
           "automargin": true,
           "gridcolor": "white",
           "linecolor": "white",
           "ticks": "",
           "title": {
            "standoff": 15
           },
           "zerolinecolor": "white",
           "zerolinewidth": 2
          }
         }
        }
       }
      }
     },
     "metadata": {},
     "output_type": "display_data"
    }
   ],
   "source": [
    "# Make a sunburst plot of the genres\n",
    "fig2 = px.sunburst(genres, names='title', parents='parent')#, values='#tracks')\n",
    "# fig2.update_layout(title_text=\"Two-level Sunburst Diagram\", font_size=10)\n",
    "fig2.show()\n",
    "#fig2.write_image('./visualizations/hierarchy.png', scale=4)"
   ]
  },
  {
   "cell_type": "markdown",
   "metadata": {},
   "source": [
    "Additionally, we can visualize counts of genres."
   ]
  },
  {
   "cell_type": "code",
   "execution_count": 64,
   "metadata": {},
   "outputs": [
    {
     "data": {
      "text/html": [
       "<div>\n",
       "<style scoped>\n",
       "    .dataframe tbody tr th:only-of-type {\n",
       "        vertical-align: middle;\n",
       "    }\n",
       "\n",
       "    .dataframe tbody tr th {\n",
       "        vertical-align: top;\n",
       "    }\n",
       "\n",
       "    .dataframe thead th {\n",
       "        text-align: right;\n",
       "    }\n",
       "</style>\n",
       "<table border=\"1\" class=\"dataframe\">\n",
       "  <thead>\n",
       "    <tr style=\"text-align: right;\">\n",
       "      <th></th>\n",
       "      <th>track_id</th>\n",
       "      <th>track_genres</th>\n",
       "    </tr>\n",
       "  </thead>\n",
       "  <tbody>\n",
       "    <tr>\n",
       "      <th>0</th>\n",
       "      <td>2</td>\n",
       "      <td>[{'genre_id': '21', 'genre_title': 'Hip-Hop', ...</td>\n",
       "    </tr>\n",
       "    <tr>\n",
       "      <th>1</th>\n",
       "      <td>3</td>\n",
       "      <td>[{'genre_id': '21', 'genre_title': 'Hip-Hop', ...</td>\n",
       "    </tr>\n",
       "    <tr>\n",
       "      <th>2</th>\n",
       "      <td>5</td>\n",
       "      <td>[{'genre_id': '21', 'genre_title': 'Hip-Hop', ...</td>\n",
       "    </tr>\n",
       "    <tr>\n",
       "      <th>3</th>\n",
       "      <td>10</td>\n",
       "      <td>[{'genre_id': '10', 'genre_title': 'Pop', 'gen...</td>\n",
       "    </tr>\n",
       "    <tr>\n",
       "      <th>9</th>\n",
       "      <td>134</td>\n",
       "      <td>[{'genre_id': '21', 'genre_title': 'Hip-Hop', ...</td>\n",
       "    </tr>\n",
       "  </tbody>\n",
       "</table>\n",
       "</div>"
      ],
      "text/plain": [
       "   track_id                                       track_genres\n",
       "0         2  [{'genre_id': '21', 'genre_title': 'Hip-Hop', ...\n",
       "1         3  [{'genre_id': '21', 'genre_title': 'Hip-Hop', ...\n",
       "2         5  [{'genre_id': '21', 'genre_title': 'Hip-Hop', ...\n",
       "3        10  [{'genre_id': '10', 'genre_title': 'Pop', 'gen...\n",
       "9       134  [{'genre_id': '21', 'genre_title': 'Hip-Hop', ..."
      ]
     },
     "execution_count": 64,
     "metadata": {},
     "output_type": "execute_result"
    }
   ],
   "source": [
    "files = glob(\"./data/fma_medium/**/*.mp3\")\n",
    "\n",
    "medium_track_ids = [int(os.path.basename(file)[:-4]) for file in files]\n",
    "\n",
    "# Get all track ids and their respective genres\n",
    "tracks = pd.read_csv('./data/fma_metadata/raw_tracks.csv')[['track_id', 'track_genres']]\n",
    "\n",
    "tracks = tracks[tracks['track_id'].isin(medium_track_ids)]\n",
    "\n",
    "tracks.head()\n",
    "\n",
    "# [{'genre_id': '76', 'genre_title': 'Experimental Pop', 'genre_url': 'http://freemusicarchive.org/genre/Experimental_Pop/'}, {'genre_id': '103', 'genre_title': 'Singer-Songwriter', 'genre_url': 'http://freemusicarchive.org/genre/Singer-Songwriter/'}]"
   ]
  },
  {
   "cell_type": "code",
   "execution_count": 65,
   "metadata": {},
   "outputs": [],
   "source": [
    "tracks['parsed_genres'] = tracks['track_genres'].apply(eval)\n",
    "tracks['num_genres'] = tracks['parsed_genres'].apply(len)\n",
    "\n",
    "tracks['num_genres'].value_counts().plot(kind='bar')\n",
    "plt.title('Number of Individual Genres in Each Track')\n",
    "plt.xlabel('Number of Genres')\n",
    "plt.ylabel('Count')\n",
    "plt.savefig('./visualizations/track_genres_count')\n",
    "plt.close()"
   ]
  },
  {
   "cell_type": "markdown",
   "metadata": {},
   "source": [
    "Now, here's an important part of the workflow. For the purposes of this project, we only care about the **highest-level parent** genre for each song.\n",
    "\n",
    "We could delve into trying to predict genres based of a hierarchical structure (as this data has), but that's out of the scope of this project.\n",
    "\n",
    "If you want to learn more about hierarchical loss functions and the complications that come with them using gradient descent, the following paper is very interesting: https://arxiv.org/abs/1709.01062#:%7E:text=A%20hierarchical%20loss%20and%20its%20problems%20when%20classifying%20non%2Dhierarchically,-Cinna%20Wu%2C%20Mark&text=Failing%20to%20distinguish%20between%20a,are%20both%20breeds%20of%20dogs."
   ]
  },
  {
   "cell_type": "code",
   "execution_count": 66,
   "metadata": {},
   "outputs": [],
   "source": [
    "##### Make a new column in our dataframe with ONLY parents.\n",
    "# First, reload in genre metadata\n",
    "genres = pd.read_csv('./data/fma_metadata/genres.csv')\n",
    "genres\n",
    "\n",
    "genre_parents = []\n",
    "# Loop through all tracks\n",
    "for cur_track in tracks['parsed_genres']:\n",
    "    cur_track_parents = []\n",
    "    # Loop through all genres in track, making new parents column\n",
    "    for cur_genre in cur_track:\n",
    "        if int(cur_genre['genre_id']) in genres['genre_id'].unique():\n",
    "            # This appends the value of the top level parent to our current track list\n",
    "            cur_track_parents.append(genres.loc[genres['genre_id'] == int(cur_genre['genre_id'])]['top_level'].values[0])\n",
    "        else:\n",
    "            # If it couldn't be found...\n",
    "            cur_track_parents.append(None)\n",
    "    genre_parents.append(cur_track_parents)"
   ]
  },
  {
   "cell_type": "code",
   "execution_count": 67,
   "metadata": {},
   "outputs": [
    {
     "name": "stdout",
     "output_type": "stream",
     "text": [
      "5\n"
     ]
    }
   ],
   "source": [
    "bad_tracks = []\n",
    "for idx, track in enumerate(genre_parents):\n",
    "    # If any value is None\n",
    "    if None in track:\n",
    "        bad_tracks.append(idx)\n",
    "\n",
    "print(len(bad_tracks))"
   ]
  },
  {
   "cell_type": "code",
   "execution_count": 68,
   "metadata": {},
   "outputs": [
    {
     "name": "stdout",
     "output_type": "stream",
     "text": [
      "[21, 21, None]: [{'genre_id': '21', 'genre_title': 'Hip-Hop', 'genre_url': 'http://freemusicarchive.org/genre/Hip-Hop/'}, {'genre_id': '539', 'genre_title': 'Rap', 'genre_url': 'http://freemusicarchive.org/genre/rap/'}, {'genre_id': '806', 'genre_title': 'hiphop', 'genre_url': 'http://freemusicarchive.org/genre/hiphop/'}]\n",
      "[21, 21, None]: [{'genre_id': '21', 'genre_title': 'Hip-Hop', 'genre_url': 'http://freemusicarchive.org/genre/Hip-Hop/'}, {'genre_id': '539', 'genre_title': 'Rap', 'genre_url': 'http://freemusicarchive.org/genre/rap/'}, {'genre_id': '806', 'genre_title': 'hiphop', 'genre_url': 'http://freemusicarchive.org/genre/hiphop/'}]\n",
      "[21, 21, None]: [{'genre_id': '21', 'genre_title': 'Hip-Hop', 'genre_url': 'http://freemusicarchive.org/genre/Hip-Hop/'}, {'genre_id': '539', 'genre_title': 'Rap', 'genre_url': 'http://freemusicarchive.org/genre/rap/'}, {'genre_id': '806', 'genre_title': 'hiphop', 'genre_url': 'http://freemusicarchive.org/genre/hiphop/'}]\n",
      "[21, 21, None]: [{'genre_id': '21', 'genre_title': 'Hip-Hop', 'genre_url': 'http://freemusicarchive.org/genre/Hip-Hop/'}, {'genre_id': '539', 'genre_title': 'Rap', 'genre_url': 'http://freemusicarchive.org/genre/rap/'}, {'genre_id': '806', 'genre_title': 'hiphop', 'genre_url': 'http://freemusicarchive.org/genre/hiphop/'}]\n",
      "[21, 21, None]: [{'genre_id': '21', 'genre_title': 'Hip-Hop', 'genre_url': 'http://freemusicarchive.org/genre/Hip-Hop/'}, {'genre_id': '539', 'genre_title': 'Rap', 'genre_url': 'http://freemusicarchive.org/genre/rap/'}, {'genre_id': '806', 'genre_title': 'hiphop', 'genre_url': 'http://freemusicarchive.org/genre/hiphop/'}]\n"
     ]
    }
   ],
   "source": [
    "for track_idx in bad_tracks:\n",
    "    print(f\"{genre_parents[track_idx]}: {tracks['parsed_genres'].iloc[track_idx]}\")"
   ]
  },
  {
   "cell_type": "markdown",
   "metadata": {},
   "source": [
    "We can see above that the only invalid genres are \"hiphop\", which all of these tracks already have the valid genre for.\n",
    "\n",
    "So we can just ignore these.\n",
    "\n",
    "Now, let's investigate the tracks that have multiple top-level genres."
   ]
  },
  {
   "cell_type": "code",
   "execution_count": 69,
   "metadata": {},
   "outputs": [
    {
     "name": "stdout",
     "output_type": "stream",
     "text": [
      "0\n"
     ]
    }
   ],
   "source": [
    "# First, fix the Nones\n",
    "for track_idx in bad_tracks:\n",
    "    genre_parents[track_idx] = genre_parents[track_idx][:2]\n",
    "\n",
    "# Then, look at all tracks that have multiple top-level genres:\n",
    "test = [track for track in genre_parents if len(set(track)) > 1]\n",
    "\n",
    "print(len(test))"
   ]
  },
  {
   "cell_type": "markdown",
   "metadata": {},
   "source": [
    "Amazing! (but maybe concerning for other reasons...) - There are no tracks which fall under multiple top-level genres.\n",
    "\n",
    "This makes our analysis a lot easier.\n",
    "\n",
    "Now, let's incorporate this info into our original dataframe:"
   ]
  },
  {
   "cell_type": "code",
   "execution_count": 70,
   "metadata": {},
   "outputs": [],
   "source": [
    "genre_parents = [track[0] for track in genre_parents]"
   ]
  },
  {
   "cell_type": "code",
   "execution_count": 71,
   "metadata": {},
   "outputs": [
    {
     "data": {
      "text/html": [
       "<div>\n",
       "<style scoped>\n",
       "    .dataframe tbody tr th:only-of-type {\n",
       "        vertical-align: middle;\n",
       "    }\n",
       "\n",
       "    .dataframe tbody tr th {\n",
       "        vertical-align: top;\n",
       "    }\n",
       "\n",
       "    .dataframe thead th {\n",
       "        text-align: right;\n",
       "    }\n",
       "</style>\n",
       "<table border=\"1\" class=\"dataframe\">\n",
       "  <thead>\n",
       "    <tr style=\"text-align: right;\">\n",
       "      <th></th>\n",
       "      <th>track_id</th>\n",
       "      <th>track_genres</th>\n",
       "      <th>parsed_genres</th>\n",
       "      <th>num_genres</th>\n",
       "      <th>parent_genre_id</th>\n",
       "      <th>parent_genre_title</th>\n",
       "    </tr>\n",
       "  </thead>\n",
       "  <tbody>\n",
       "    <tr>\n",
       "      <th>0</th>\n",
       "      <td>2</td>\n",
       "      <td>[{'genre_id': '21', 'genre_title': 'Hip-Hop', ...</td>\n",
       "      <td>[{'genre_id': '21', 'genre_title': 'Hip-Hop', ...</td>\n",
       "      <td>1</td>\n",
       "      <td>21</td>\n",
       "      <td>Hip-Hop</td>\n",
       "    </tr>\n",
       "    <tr>\n",
       "      <th>1</th>\n",
       "      <td>3</td>\n",
       "      <td>[{'genre_id': '21', 'genre_title': 'Hip-Hop', ...</td>\n",
       "      <td>[{'genre_id': '21', 'genre_title': 'Hip-Hop', ...</td>\n",
       "      <td>1</td>\n",
       "      <td>21</td>\n",
       "      <td>Hip-Hop</td>\n",
       "    </tr>\n",
       "    <tr>\n",
       "      <th>2</th>\n",
       "      <td>5</td>\n",
       "      <td>[{'genre_id': '21', 'genre_title': 'Hip-Hop', ...</td>\n",
       "      <td>[{'genre_id': '21', 'genre_title': 'Hip-Hop', ...</td>\n",
       "      <td>1</td>\n",
       "      <td>21</td>\n",
       "      <td>Hip-Hop</td>\n",
       "    </tr>\n",
       "    <tr>\n",
       "      <th>3</th>\n",
       "      <td>10</td>\n",
       "      <td>[{'genre_id': '10', 'genre_title': 'Pop', 'gen...</td>\n",
       "      <td>[{'genre_id': '10', 'genre_title': 'Pop', 'gen...</td>\n",
       "      <td>1</td>\n",
       "      <td>10</td>\n",
       "      <td>Pop</td>\n",
       "    </tr>\n",
       "    <tr>\n",
       "      <th>9</th>\n",
       "      <td>134</td>\n",
       "      <td>[{'genre_id': '21', 'genre_title': 'Hip-Hop', ...</td>\n",
       "      <td>[{'genre_id': '21', 'genre_title': 'Hip-Hop', ...</td>\n",
       "      <td>1</td>\n",
       "      <td>21</td>\n",
       "      <td>Hip-Hop</td>\n",
       "    </tr>\n",
       "    <tr>\n",
       "      <th>...</th>\n",
       "      <td>...</td>\n",
       "      <td>...</td>\n",
       "      <td>...</td>\n",
       "      <td>...</td>\n",
       "      <td>...</td>\n",
       "      <td>...</td>\n",
       "    </tr>\n",
       "    <tr>\n",
       "      <th>109704</th>\n",
       "      <td>155297</td>\n",
       "      <td>[{'genre_id': '18', 'genre_title': 'Soundtrack...</td>\n",
       "      <td>[{'genre_id': '18', 'genre_title': 'Soundtrack...</td>\n",
       "      <td>3</td>\n",
       "      <td>1235</td>\n",
       "      <td>Instrumental</td>\n",
       "    </tr>\n",
       "    <tr>\n",
       "      <th>109705</th>\n",
       "      <td>155298</td>\n",
       "      <td>[{'genre_id': '17', 'genre_title': 'Folk', 'ge...</td>\n",
       "      <td>[{'genre_id': '17', 'genre_title': 'Folk', 'ge...</td>\n",
       "      <td>2</td>\n",
       "      <td>17</td>\n",
       "      <td>Folk</td>\n",
       "    </tr>\n",
       "    <tr>\n",
       "      <th>109713</th>\n",
       "      <td>155306</td>\n",
       "      <td>[{'genre_id': '17', 'genre_title': 'Folk', 'ge...</td>\n",
       "      <td>[{'genre_id': '17', 'genre_title': 'Folk', 'ge...</td>\n",
       "      <td>2</td>\n",
       "      <td>17</td>\n",
       "      <td>Folk</td>\n",
       "    </tr>\n",
       "    <tr>\n",
       "      <th>109714</th>\n",
       "      <td>155307</td>\n",
       "      <td>[{'genre_id': '1', 'genre_title': 'Avant-Garde...</td>\n",
       "      <td>[{'genre_id': '1', 'genre_title': 'Avant-Garde...</td>\n",
       "      <td>1</td>\n",
       "      <td>38</td>\n",
       "      <td>Experimental</td>\n",
       "    </tr>\n",
       "    <tr>\n",
       "      <th>109720</th>\n",
       "      <td>155314</td>\n",
       "      <td>[{'genre_id': '25', 'genre_title': 'Punk', 'ge...</td>\n",
       "      <td>[{'genre_id': '25', 'genre_title': 'Punk', 'ge...</td>\n",
       "      <td>1</td>\n",
       "      <td>12</td>\n",
       "      <td>Rock</td>\n",
       "    </tr>\n",
       "  </tbody>\n",
       "</table>\n",
       "<p>25000 rows × 6 columns</p>\n",
       "</div>"
      ],
      "text/plain": [
       "        track_id                                       track_genres  \\\n",
       "0              2  [{'genre_id': '21', 'genre_title': 'Hip-Hop', ...   \n",
       "1              3  [{'genre_id': '21', 'genre_title': 'Hip-Hop', ...   \n",
       "2              5  [{'genre_id': '21', 'genre_title': 'Hip-Hop', ...   \n",
       "3             10  [{'genre_id': '10', 'genre_title': 'Pop', 'gen...   \n",
       "9            134  [{'genre_id': '21', 'genre_title': 'Hip-Hop', ...   \n",
       "...          ...                                                ...   \n",
       "109704    155297  [{'genre_id': '18', 'genre_title': 'Soundtrack...   \n",
       "109705    155298  [{'genre_id': '17', 'genre_title': 'Folk', 'ge...   \n",
       "109713    155306  [{'genre_id': '17', 'genre_title': 'Folk', 'ge...   \n",
       "109714    155307  [{'genre_id': '1', 'genre_title': 'Avant-Garde...   \n",
       "109720    155314  [{'genre_id': '25', 'genre_title': 'Punk', 'ge...   \n",
       "\n",
       "                                            parsed_genres  num_genres  \\\n",
       "0       [{'genre_id': '21', 'genre_title': 'Hip-Hop', ...           1   \n",
       "1       [{'genre_id': '21', 'genre_title': 'Hip-Hop', ...           1   \n",
       "2       [{'genre_id': '21', 'genre_title': 'Hip-Hop', ...           1   \n",
       "3       [{'genre_id': '10', 'genre_title': 'Pop', 'gen...           1   \n",
       "9       [{'genre_id': '21', 'genre_title': 'Hip-Hop', ...           1   \n",
       "...                                                   ...         ...   \n",
       "109704  [{'genre_id': '18', 'genre_title': 'Soundtrack...           3   \n",
       "109705  [{'genre_id': '17', 'genre_title': 'Folk', 'ge...           2   \n",
       "109713  [{'genre_id': '17', 'genre_title': 'Folk', 'ge...           2   \n",
       "109714  [{'genre_id': '1', 'genre_title': 'Avant-Garde...           1   \n",
       "109720  [{'genre_id': '25', 'genre_title': 'Punk', 'ge...           1   \n",
       "\n",
       "        parent_genre_id parent_genre_title  \n",
       "0                    21            Hip-Hop  \n",
       "1                    21            Hip-Hop  \n",
       "2                    21            Hip-Hop  \n",
       "3                    10                Pop  \n",
       "9                    21            Hip-Hop  \n",
       "...                 ...                ...  \n",
       "109704             1235       Instrumental  \n",
       "109705               17               Folk  \n",
       "109713               17               Folk  \n",
       "109714               38       Experimental  \n",
       "109720               12               Rock  \n",
       "\n",
       "[25000 rows x 6 columns]"
      ]
     },
     "execution_count": 71,
     "metadata": {},
     "output_type": "execute_result"
    }
   ],
   "source": [
    "# Make a new column for these parent values\n",
    "tracks['parent_genre_id'] = genre_parents\n",
    "# Do a join for the value in our genres dataframe to get the genre title\n",
    "new_df = tracks.merge(genres, how='left', left_on='parent_genre_id', right_on='genre_id')\n",
    "new_df['title']\n",
    "tracks['parent_genre_title'] = list(new_df['title'])\n",
    "\n",
    "tracks"
   ]
  },
  {
   "cell_type": "markdown",
   "metadata": {},
   "source": [
    "Great! Now, we don't really need the `track_genres`, `parsed_genres`, or `num_genres` columns anymore."
   ]
  },
  {
   "cell_type": "code",
   "execution_count": 72,
   "metadata": {},
   "outputs": [
    {
     "data": {
      "text/html": [
       "<div>\n",
       "<style scoped>\n",
       "    .dataframe tbody tr th:only-of-type {\n",
       "        vertical-align: middle;\n",
       "    }\n",
       "\n",
       "    .dataframe tbody tr th {\n",
       "        vertical-align: top;\n",
       "    }\n",
       "\n",
       "    .dataframe thead th {\n",
       "        text-align: right;\n",
       "    }\n",
       "</style>\n",
       "<table border=\"1\" class=\"dataframe\">\n",
       "  <thead>\n",
       "    <tr style=\"text-align: right;\">\n",
       "      <th></th>\n",
       "      <th>track_id</th>\n",
       "      <th>parent_genre_id</th>\n",
       "      <th>parent_genre_title</th>\n",
       "    </tr>\n",
       "  </thead>\n",
       "  <tbody>\n",
       "    <tr>\n",
       "      <th>0</th>\n",
       "      <td>2</td>\n",
       "      <td>21</td>\n",
       "      <td>Hip-Hop</td>\n",
       "    </tr>\n",
       "    <tr>\n",
       "      <th>1</th>\n",
       "      <td>3</td>\n",
       "      <td>21</td>\n",
       "      <td>Hip-Hop</td>\n",
       "    </tr>\n",
       "    <tr>\n",
       "      <th>2</th>\n",
       "      <td>5</td>\n",
       "      <td>21</td>\n",
       "      <td>Hip-Hop</td>\n",
       "    </tr>\n",
       "    <tr>\n",
       "      <th>3</th>\n",
       "      <td>10</td>\n",
       "      <td>10</td>\n",
       "      <td>Pop</td>\n",
       "    </tr>\n",
       "    <tr>\n",
       "      <th>9</th>\n",
       "      <td>134</td>\n",
       "      <td>21</td>\n",
       "      <td>Hip-Hop</td>\n",
       "    </tr>\n",
       "    <tr>\n",
       "      <th>...</th>\n",
       "      <td>...</td>\n",
       "      <td>...</td>\n",
       "      <td>...</td>\n",
       "    </tr>\n",
       "    <tr>\n",
       "      <th>109704</th>\n",
       "      <td>155297</td>\n",
       "      <td>1235</td>\n",
       "      <td>Instrumental</td>\n",
       "    </tr>\n",
       "    <tr>\n",
       "      <th>109705</th>\n",
       "      <td>155298</td>\n",
       "      <td>17</td>\n",
       "      <td>Folk</td>\n",
       "    </tr>\n",
       "    <tr>\n",
       "      <th>109713</th>\n",
       "      <td>155306</td>\n",
       "      <td>17</td>\n",
       "      <td>Folk</td>\n",
       "    </tr>\n",
       "    <tr>\n",
       "      <th>109714</th>\n",
       "      <td>155307</td>\n",
       "      <td>38</td>\n",
       "      <td>Experimental</td>\n",
       "    </tr>\n",
       "    <tr>\n",
       "      <th>109720</th>\n",
       "      <td>155314</td>\n",
       "      <td>12</td>\n",
       "      <td>Rock</td>\n",
       "    </tr>\n",
       "  </tbody>\n",
       "</table>\n",
       "<p>25000 rows × 3 columns</p>\n",
       "</div>"
      ],
      "text/plain": [
       "        track_id  parent_genre_id parent_genre_title\n",
       "0              2               21            Hip-Hop\n",
       "1              3               21            Hip-Hop\n",
       "2              5               21            Hip-Hop\n",
       "3             10               10                Pop\n",
       "9            134               21            Hip-Hop\n",
       "...          ...              ...                ...\n",
       "109704    155297             1235       Instrumental\n",
       "109705    155298               17               Folk\n",
       "109713    155306               17               Folk\n",
       "109714    155307               38       Experimental\n",
       "109720    155314               12               Rock\n",
       "\n",
       "[25000 rows x 3 columns]"
      ]
     },
     "execution_count": 72,
     "metadata": {},
     "output_type": "execute_result"
    }
   ],
   "source": [
    "tracks = tracks.drop(columns=['track_genres', 'parsed_genres', 'num_genres'])\n",
    "tracks"
   ]
  },
  {
   "cell_type": "markdown",
   "metadata": {},
   "source": [
    "Additionally, we don't really care about the original genre IDs anymore.\n",
    "\n",
    "It will be easier to have classes starting from 0 and incrementing by 1 for the network itself:"
   ]
  },
  {
   "cell_type": "code",
   "execution_count": 73,
   "metadata": {},
   "outputs": [
    {
     "name": "stdout",
     "output_type": "stream",
     "text": [
      "Unique values in current IDs: [  21   10   12   17   38    4   15    2   14    3   20    9    5    8\n",
      " 1235   13]\n",
      "Unique values in genre titles: ['Hip-Hop' 'Pop' 'Rock' 'Folk' 'Experimental' 'Jazz' 'Electronic'\n",
      " 'International' 'Soul-RnB' 'Blues' 'Spoken' 'Country' 'Classical'\n",
      " 'Old-Time / Historic' 'Instrumental' 'Easy Listening']\n"
     ]
    },
    {
     "data": {
      "text/html": [
       "<div>\n",
       "<style scoped>\n",
       "    .dataframe tbody tr th:only-of-type {\n",
       "        vertical-align: middle;\n",
       "    }\n",
       "\n",
       "    .dataframe tbody tr th {\n",
       "        vertical-align: top;\n",
       "    }\n",
       "\n",
       "    .dataframe thead th {\n",
       "        text-align: right;\n",
       "    }\n",
       "</style>\n",
       "<table border=\"1\" class=\"dataframe\">\n",
       "  <thead>\n",
       "    <tr style=\"text-align: right;\">\n",
       "      <th></th>\n",
       "      <th>track_id</th>\n",
       "      <th>parent_genre_id</th>\n",
       "      <th>parent_genre_title</th>\n",
       "    </tr>\n",
       "  </thead>\n",
       "  <tbody>\n",
       "    <tr>\n",
       "      <th>0</th>\n",
       "      <td>2</td>\n",
       "      <td>0</td>\n",
       "      <td>Hip-Hop</td>\n",
       "    </tr>\n",
       "    <tr>\n",
       "      <th>1</th>\n",
       "      <td>3</td>\n",
       "      <td>0</td>\n",
       "      <td>Hip-Hop</td>\n",
       "    </tr>\n",
       "    <tr>\n",
       "      <th>2</th>\n",
       "      <td>5</td>\n",
       "      <td>0</td>\n",
       "      <td>Hip-Hop</td>\n",
       "    </tr>\n",
       "    <tr>\n",
       "      <th>3</th>\n",
       "      <td>10</td>\n",
       "      <td>1</td>\n",
       "      <td>Pop</td>\n",
       "    </tr>\n",
       "    <tr>\n",
       "      <th>9</th>\n",
       "      <td>134</td>\n",
       "      <td>0</td>\n",
       "      <td>Hip-Hop</td>\n",
       "    </tr>\n",
       "    <tr>\n",
       "      <th>11</th>\n",
       "      <td>136</td>\n",
       "      <td>2</td>\n",
       "      <td>Rock</td>\n",
       "    </tr>\n",
       "    <tr>\n",
       "      <th>14</th>\n",
       "      <td>139</td>\n",
       "      <td>3</td>\n",
       "      <td>Folk</td>\n",
       "    </tr>\n",
       "    <tr>\n",
       "      <th>15</th>\n",
       "      <td>140</td>\n",
       "      <td>3</td>\n",
       "      <td>Folk</td>\n",
       "    </tr>\n",
       "    <tr>\n",
       "      <th>16</th>\n",
       "      <td>141</td>\n",
       "      <td>3</td>\n",
       "      <td>Folk</td>\n",
       "    </tr>\n",
       "    <tr>\n",
       "      <th>22</th>\n",
       "      <td>148</td>\n",
       "      <td>4</td>\n",
       "      <td>Experimental</td>\n",
       "    </tr>\n",
       "    <tr>\n",
       "      <th>54</th>\n",
       "      <td>181</td>\n",
       "      <td>2</td>\n",
       "      <td>Rock</td>\n",
       "    </tr>\n",
       "    <tr>\n",
       "      <th>55</th>\n",
       "      <td>182</td>\n",
       "      <td>2</td>\n",
       "      <td>Rock</td>\n",
       "    </tr>\n",
       "    <tr>\n",
       "      <th>61</th>\n",
       "      <td>190</td>\n",
       "      <td>3</td>\n",
       "      <td>Folk</td>\n",
       "    </tr>\n",
       "    <tr>\n",
       "      <th>64</th>\n",
       "      <td>193</td>\n",
       "      <td>3</td>\n",
       "      <td>Folk</td>\n",
       "    </tr>\n",
       "    <tr>\n",
       "      <th>65</th>\n",
       "      <td>194</td>\n",
       "      <td>3</td>\n",
       "      <td>Folk</td>\n",
       "    </tr>\n",
       "    <tr>\n",
       "      <th>68</th>\n",
       "      <td>197</td>\n",
       "      <td>3</td>\n",
       "      <td>Folk</td>\n",
       "    </tr>\n",
       "    <tr>\n",
       "      <th>69</th>\n",
       "      <td>198</td>\n",
       "      <td>3</td>\n",
       "      <td>Folk</td>\n",
       "    </tr>\n",
       "    <tr>\n",
       "      <th>71</th>\n",
       "      <td>200</td>\n",
       "      <td>3</td>\n",
       "      <td>Folk</td>\n",
       "    </tr>\n",
       "    <tr>\n",
       "      <th>74</th>\n",
       "      <td>203</td>\n",
       "      <td>3</td>\n",
       "      <td>Folk</td>\n",
       "    </tr>\n",
       "    <tr>\n",
       "      <th>75</th>\n",
       "      <td>204</td>\n",
       "      <td>3</td>\n",
       "      <td>Folk</td>\n",
       "    </tr>\n",
       "  </tbody>\n",
       "</table>\n",
       "</div>"
      ],
      "text/plain": [
       "    track_id  parent_genre_id parent_genre_title\n",
       "0          2                0            Hip-Hop\n",
       "1          3                0            Hip-Hop\n",
       "2          5                0            Hip-Hop\n",
       "3         10                1                Pop\n",
       "9        134                0            Hip-Hop\n",
       "11       136                2               Rock\n",
       "14       139                3               Folk\n",
       "15       140                3               Folk\n",
       "16       141                3               Folk\n",
       "22       148                4       Experimental\n",
       "54       181                2               Rock\n",
       "55       182                2               Rock\n",
       "61       190                3               Folk\n",
       "64       193                3               Folk\n",
       "65       194                3               Folk\n",
       "68       197                3               Folk\n",
       "69       198                3               Folk\n",
       "71       200                3               Folk\n",
       "74       203                3               Folk\n",
       "75       204                3               Folk"
      ]
     },
     "execution_count": 73,
     "metadata": {},
     "output_type": "execute_result"
    }
   ],
   "source": [
    "print(f\"Unique values in current IDs: {tracks['parent_genre_id'].unique()}\")\n",
    "print(f\"Unique values in genre titles: {tracks['parent_genre_title'].unique()}\")\n",
    "\n",
    "# Let's just do it based on the titles list:\n",
    "for idx, title in enumerate(tracks['parent_genre_title'].unique()):\n",
    "    tracks.loc[tracks['parent_genre_title'] == title, 'parent_genre_id'] = idx\n",
    "\n",
    "tracks.head(20)"
   ]
  },
  {
   "cell_type": "markdown",
   "metadata": {},
   "source": [
    "We can now visualize how many tracks have each genre:"
   ]
  },
  {
   "cell_type": "code",
   "execution_count": 74,
   "metadata": {},
   "outputs": [
    {
     "data": {
      "image/png": "[encoded data removed]",
      "text/plain": [
       "<Figure size 640x480 with 1 Axes>"
      ]
     },
     "metadata": {},
     "output_type": "display_data"
    }
   ],
   "source": [
    "ax = tracks.parent_genre_title.value_counts().sort_values().plot(kind='barh')\n",
    "plt.title('Counts of Track Genres')\n",
    "plt.xlabel('Count')\n",
    "plt.ylabel('Genre Name')\n",
    "# Add value labels to the bars\n",
    "for p in ax.patches:\n",
    "    ax.annotate(str(p.get_width()), (p.get_width(), p.get_y() + p.get_height() / 2.),\n",
    "                ha='left', va='center', xytext=(5, 0), textcoords='offset points')\n",
    "plt.xlim(0, 7999)\n",
    "#plt.tight_layout()\n",
    "plt.savefig('./visualizations/genres_count.png')"
   ]
  },
  {
   "cell_type": "markdown",
   "metadata": {},
   "source": [
    "Awesome! Let's save our data to a CSV for future use."
   ]
  },
  {
   "cell_type": "code",
   "execution_count": 75,
   "metadata": {},
   "outputs": [],
   "source": [
    "tracks.to_csv('./data/processed_genres.csv')"
   ]
  },
  {
   "cell_type": "code",
   "execution_count": 102,
   "metadata": {},
   "outputs": [
    {
     "name": "stderr",
     "output_type": "stream",
     "text": [
      "0it [00:00, ?it/s]"
     ]
    },
    {
     "name": "stderr",
     "output_type": "stream",
     "text": [
      "3321it [00:24, 133.38it/s]\n"
     ]
    },
    {
     "ename": "KeyboardInterrupt",
     "evalue": "",
     "output_type": "error",
     "traceback": [
      "\u001b[1;31m---------------------------------------------------------------------------\u001b[0m",
      "\u001b[1;31mKeyboardInterrupt\u001b[0m                         Traceback (most recent call last)",
      "\u001b[1;32mc:\\Users\\Peter\\Documents\\genre_classifier\\genres_processing.ipynb Cell 21\u001b[0m line \u001b[0;36m8\n\u001b[0;32m      <a href='vscode-notebook-cell:/c%3A/Users/Peter/Documents/genre_classifier/genres_processing.ipynb#X16sZmlsZQ%3D%3D?line=5'>6</a>\u001b[0m rates \u001b[39m=\u001b[39m {}\n\u001b[0;32m      <a href='vscode-notebook-cell:/c%3A/Users/Peter/Documents/genre_classifier/genres_processing.ipynb#X16sZmlsZQ%3D%3D?line=6'>7</a>\u001b[0m \u001b[39mfor\u001b[39;00m idx, file \u001b[39min\u001b[39;00m tqdm(\u001b[39menumerate\u001b[39m(files)):\n\u001b[1;32m----> <a href='vscode-notebook-cell:/c%3A/Users/Peter/Documents/genre_classifier/genres_processing.ipynb#X16sZmlsZQ%3D%3D?line=7'>8</a>\u001b[0m     mp3 \u001b[39m=\u001b[39m load_mp3(file)\n\u001b[0;32m      <a href='vscode-notebook-cell:/c%3A/Users/Peter/Documents/genre_classifier/genres_processing.ipynb#X16sZmlsZQ%3D%3D?line=8'>9</a>\u001b[0m     rates[medium_track_ids[idx]] \u001b[39m=\u001b[39m mp3\u001b[39m.\u001b[39mrate\u001b[39m.\u001b[39mnumpy()\n",
      "\u001b[1;32mc:\\Users\\Peter\\Documents\\genre_classifier\\genres_processing.ipynb Cell 21\u001b[0m line \u001b[0;36m2\n\u001b[0;32m      <a href='vscode-notebook-cell:/c%3A/Users/Peter/Documents/genre_classifier/genres_processing.ipynb#X16sZmlsZQ%3D%3D?line=0'>1</a>\u001b[0m \u001b[39mdef\u001b[39;00m \u001b[39mload_mp3\u001b[39m(fpath):\n\u001b[1;32m----> <a href='vscode-notebook-cell:/c%3A/Users/Peter/Documents/genre_classifier/genres_processing.ipynb#X16sZmlsZQ%3D%3D?line=1'>2</a>\u001b[0m     audio \u001b[39m=\u001b[39m tfio\u001b[39m.\u001b[39;49maudio\u001b[39m.\u001b[39;49mAudioIOTensor(fpath)\n\u001b[0;32m      <a href='vscode-notebook-cell:/c%3A/Users/Peter/Documents/genre_classifier/genres_processing.ipynb#X16sZmlsZQ%3D%3D?line=3'>4</a>\u001b[0m     \u001b[39mreturn\u001b[39;00m audio\n",
      "File \u001b[1;32m~\\AppData\\Local\\Packages\\PythonSoftwareFoundation.Python.3.10_qbz5n2kfra8p0\\LocalCache\\local-packages\\Python310\\site-packages\\tensorflow_io\\python\\ops\\audio_ops.py:664\u001b[0m, in \u001b[0;36mAudioIOTensor.__init__\u001b[1;34m(self, filename, dtype)\u001b[0m\n\u001b[0;32m    662\u001b[0m \u001b[39mif\u001b[39;00m \u001b[39mnot\u001b[39;00m tf\u001b[39m.\u001b[39mexecuting_eagerly():\n\u001b[0;32m    663\u001b[0m     \u001b[39massert\u001b[39;00m dtype \u001b[39mis\u001b[39;00m \u001b[39mnot\u001b[39;00m \u001b[39mNone\u001b[39;00m, \u001b[39m\"\u001b[39m\u001b[39mdtype must be provided in graph mode\u001b[39m\u001b[39m\"\u001b[39m\n\u001b[1;32m--> 664\u001b[0m resource \u001b[39m=\u001b[39m core_ops\u001b[39m.\u001b[39;49mio_audio_readable_init(filename)\n\u001b[0;32m    665\u001b[0m \u001b[39mif\u001b[39;00m tf\u001b[39m.\u001b[39mexecuting_eagerly():\n\u001b[0;32m    666\u001b[0m     shape, dtype, rate \u001b[39m=\u001b[39m core_ops\u001b[39m.\u001b[39mio_audio_readable_spec(resource)\n",
      "File \u001b[1;32m<string>:2592\u001b[0m, in \u001b[0;36mio_audio_readable_init\u001b[1;34m(input, container, shared_name, name)\u001b[0m\n",
      "File \u001b[1;32m<string>:2654\u001b[0m, in \u001b[0;36mio_audio_readable_init_eager_fallback\u001b[1;34m(input, container, shared_name, name, ctx)\u001b[0m\n",
      "File \u001b[1;32m~\\AppData\\Local\\Packages\\PythonSoftwareFoundation.Python.3.10_qbz5n2kfra8p0\\LocalCache\\local-packages\\Python310\\site-packages\\tensorflow\\python\\eager\\execute.py:52\u001b[0m, in \u001b[0;36mquick_execute\u001b[1;34m(op_name, num_outputs, inputs, attrs, ctx, name)\u001b[0m\n\u001b[0;32m     50\u001b[0m \u001b[39mtry\u001b[39;00m:\n\u001b[0;32m     51\u001b[0m   ctx\u001b[39m.\u001b[39mensure_initialized()\n\u001b[1;32m---> 52\u001b[0m   tensors \u001b[39m=\u001b[39m pywrap_tfe\u001b[39m.\u001b[39;49mTFE_Py_Execute(ctx\u001b[39m.\u001b[39;49m_handle, device_name, op_name,\n\u001b[0;32m     53\u001b[0m                                       inputs, attrs, num_outputs)\n\u001b[0;32m     54\u001b[0m \u001b[39mexcept\u001b[39;00m core\u001b[39m.\u001b[39m_NotOkStatusException \u001b[39mas\u001b[39;00m e:\n\u001b[0;32m     55\u001b[0m   \u001b[39mif\u001b[39;00m name \u001b[39mis\u001b[39;00m \u001b[39mnot\u001b[39;00m \u001b[39mNone\u001b[39;00m:\n",
      "\u001b[1;31mKeyboardInterrupt\u001b[0m: "
     ]
    }
   ],
   "source": [
    "def load_mp3(fpath):\n",
    "    audio = tfio.audio.AudioIOTensor(fpath)\n",
    "\n",
    "    return audio\n",
    "\n",
    "rates = {}\n",
    "for idx, file in tqdm(enumerate(files)):\n",
    "    mp3 = load_mp3(file)\n",
    "    rates[medium_track_ids[idx]] = mp3.rate.numpy()"
   ]
  },
  {
   "cell_type": "code",
   "execution_count": null,
   "metadata": {},
   "outputs": [
    {
     "data": {
      "text/html": [
       "<div>\n",
       "<style scoped>\n",
       "    .dataframe tbody tr th:only-of-type {\n",
       "        vertical-align: middle;\n",
       "    }\n",
       "\n",
       "    .dataframe tbody tr th {\n",
       "        vertical-align: top;\n",
       "    }\n",
       "\n",
       "    .dataframe thead th {\n",
       "        text-align: right;\n",
       "    }\n",
       "</style>\n",
       "<table border=\"1\" class=\"dataframe\">\n",
       "  <thead>\n",
       "    <tr style=\"text-align: right;\">\n",
       "      <th></th>\n",
       "      <th>track_id</th>\n",
       "      <th>track_genres</th>\n",
       "      <th>parsed_genres</th>\n",
       "      <th>num_genres</th>\n",
       "    </tr>\n",
       "  </thead>\n",
       "  <tbody>\n",
       "    <tr>\n",
       "      <th>10097</th>\n",
       "      <td>16351</td>\n",
       "      <td>[{'genre_id': '8', 'genre_title': 'Old-Time / ...</td>\n",
       "      <td>[{'genre_id': '8', 'genre_title': 'Old-Time / ...</td>\n",
       "      <td>1</td>\n",
       "    </tr>\n",
       "    <tr>\n",
       "      <th>10098</th>\n",
       "      <td>16352</td>\n",
       "      <td>[{'genre_id': '8', 'genre_title': 'Old-Time / ...</td>\n",
       "      <td>[{'genre_id': '8', 'genre_title': 'Old-Time / ...</td>\n",
       "      <td>1</td>\n",
       "    </tr>\n",
       "    <tr>\n",
       "      <th>10099</th>\n",
       "      <td>16353</td>\n",
       "      <td>[{'genre_id': '8', 'genre_title': 'Old-Time / ...</td>\n",
       "      <td>[{'genre_id': '8', 'genre_title': 'Old-Time / ...</td>\n",
       "      <td>1</td>\n",
       "    </tr>\n",
       "    <tr>\n",
       "      <th>10133</th>\n",
       "      <td>16398</td>\n",
       "      <td>[{'genre_id': '8', 'genre_title': 'Old-Time / ...</td>\n",
       "      <td>[{'genre_id': '8', 'genre_title': 'Old-Time / ...</td>\n",
       "      <td>1</td>\n",
       "    </tr>\n",
       "    <tr>\n",
       "      <th>10134</th>\n",
       "      <td>16399</td>\n",
       "      <td>[{'genre_id': '8', 'genre_title': 'Old-Time / ...</td>\n",
       "      <td>[{'genre_id': '8', 'genre_title': 'Old-Time / ...</td>\n",
       "      <td>1</td>\n",
       "    </tr>\n",
       "    <tr>\n",
       "      <th>10135</th>\n",
       "      <td>16400</td>\n",
       "      <td>[{'genre_id': '8', 'genre_title': 'Old-Time / ...</td>\n",
       "      <td>[{'genre_id': '8', 'genre_title': 'Old-Time / ...</td>\n",
       "      <td>1</td>\n",
       "    </tr>\n",
       "    <tr>\n",
       "      <th>10136</th>\n",
       "      <td>16401</td>\n",
       "      <td>[{'genre_id': '8', 'genre_title': 'Old-Time / ...</td>\n",
       "      <td>[{'genre_id': '8', 'genre_title': 'Old-Time / ...</td>\n",
       "      <td>1</td>\n",
       "    </tr>\n",
       "    <tr>\n",
       "      <th>10137</th>\n",
       "      <td>16402</td>\n",
       "      <td>[{'genre_id': '8', 'genre_title': 'Old-Time / ...</td>\n",
       "      <td>[{'genre_id': '8', 'genre_title': 'Old-Time / ...</td>\n",
       "      <td>1</td>\n",
       "    </tr>\n",
       "    <tr>\n",
       "      <th>10138</th>\n",
       "      <td>16403</td>\n",
       "      <td>[{'genre_id': '8', 'genre_title': 'Old-Time / ...</td>\n",
       "      <td>[{'genre_id': '8', 'genre_title': 'Old-Time / ...</td>\n",
       "      <td>1</td>\n",
       "    </tr>\n",
       "    <tr>\n",
       "      <th>10139</th>\n",
       "      <td>16404</td>\n",
       "      <td>[{'genre_id': '8', 'genre_title': 'Old-Time / ...</td>\n",
       "      <td>[{'genre_id': '8', 'genre_title': 'Old-Time / ...</td>\n",
       "      <td>1</td>\n",
       "    </tr>\n",
       "    <tr>\n",
       "      <th>10140</th>\n",
       "      <td>16405</td>\n",
       "      <td>[{'genre_id': '8', 'genre_title': 'Old-Time / ...</td>\n",
       "      <td>[{'genre_id': '8', 'genre_title': 'Old-Time / ...</td>\n",
       "      <td>1</td>\n",
       "    </tr>\n",
       "    <tr>\n",
       "      <th>10141</th>\n",
       "      <td>16406</td>\n",
       "      <td>[{'genre_id': '8', 'genre_title': 'Old-Time / ...</td>\n",
       "      <td>[{'genre_id': '8', 'genre_title': 'Old-Time / ...</td>\n",
       "      <td>1</td>\n",
       "    </tr>\n",
       "    <tr>\n",
       "      <th>10144</th>\n",
       "      <td>16421</td>\n",
       "      <td>[{'genre_id': '8', 'genre_title': 'Old-Time / ...</td>\n",
       "      <td>[{'genre_id': '8', 'genre_title': 'Old-Time / ...</td>\n",
       "      <td>1</td>\n",
       "    </tr>\n",
       "    <tr>\n",
       "      <th>10145</th>\n",
       "      <td>16422</td>\n",
       "      <td>[{'genre_id': '8', 'genre_title': 'Old-Time / ...</td>\n",
       "      <td>[{'genre_id': '8', 'genre_title': 'Old-Time / ...</td>\n",
       "      <td>1</td>\n",
       "    </tr>\n",
       "    <tr>\n",
       "      <th>10146</th>\n",
       "      <td>16423</td>\n",
       "      <td>[{'genre_id': '8', 'genre_title': 'Old-Time / ...</td>\n",
       "      <td>[{'genre_id': '8', 'genre_title': 'Old-Time / ...</td>\n",
       "      <td>1</td>\n",
       "    </tr>\n",
       "    <tr>\n",
       "      <th>10147</th>\n",
       "      <td>16424</td>\n",
       "      <td>[{'genre_id': '8', 'genre_title': 'Old-Time / ...</td>\n",
       "      <td>[{'genre_id': '8', 'genre_title': 'Old-Time / ...</td>\n",
       "      <td>1</td>\n",
       "    </tr>\n",
       "    <tr>\n",
       "      <th>10148</th>\n",
       "      <td>16425</td>\n",
       "      <td>[{'genre_id': '8', 'genre_title': 'Old-Time / ...</td>\n",
       "      <td>[{'genre_id': '8', 'genre_title': 'Old-Time / ...</td>\n",
       "      <td>1</td>\n",
       "    </tr>\n",
       "    <tr>\n",
       "      <th>10149</th>\n",
       "      <td>16426</td>\n",
       "      <td>[{'genre_id': '8', 'genre_title': 'Old-Time / ...</td>\n",
       "      <td>[{'genre_id': '8', 'genre_title': 'Old-Time / ...</td>\n",
       "      <td>1</td>\n",
       "    </tr>\n",
       "    <tr>\n",
       "      <th>10150</th>\n",
       "      <td>16427</td>\n",
       "      <td>[{'genre_id': '8', 'genre_title': 'Old-Time / ...</td>\n",
       "      <td>[{'genre_id': '8', 'genre_title': 'Old-Time / ...</td>\n",
       "      <td>1</td>\n",
       "    </tr>\n",
       "    <tr>\n",
       "      <th>10151</th>\n",
       "      <td>16428</td>\n",
       "      <td>[{'genre_id': '8', 'genre_title': 'Old-Time / ...</td>\n",
       "      <td>[{'genre_id': '8', 'genre_title': 'Old-Time / ...</td>\n",
       "      <td>1</td>\n",
       "    </tr>\n",
       "    <tr>\n",
       "      <th>10152</th>\n",
       "      <td>16429</td>\n",
       "      <td>[{'genre_id': '8', 'genre_title': 'Old-Time / ...</td>\n",
       "      <td>[{'genre_id': '8', 'genre_title': 'Old-Time / ...</td>\n",
       "      <td>1</td>\n",
       "    </tr>\n",
       "    <tr>\n",
       "      <th>10153</th>\n",
       "      <td>16430</td>\n",
       "      <td>[{'genre_id': '8', 'genre_title': 'Old-Time / ...</td>\n",
       "      <td>[{'genre_id': '8', 'genre_title': 'Old-Time / ...</td>\n",
       "      <td>1</td>\n",
       "    </tr>\n",
       "    <tr>\n",
       "      <th>10154</th>\n",
       "      <td>16431</td>\n",
       "      <td>[{'genre_id': '8', 'genre_title': 'Old-Time / ...</td>\n",
       "      <td>[{'genre_id': '8', 'genre_title': 'Old-Time / ...</td>\n",
       "      <td>1</td>\n",
       "    </tr>\n",
       "    <tr>\n",
       "      <th>10155</th>\n",
       "      <td>16432</td>\n",
       "      <td>[{'genre_id': '8', 'genre_title': 'Old-Time / ...</td>\n",
       "      <td>[{'genre_id': '8', 'genre_title': 'Old-Time / ...</td>\n",
       "      <td>1</td>\n",
       "    </tr>\n",
       "    <tr>\n",
       "      <th>10979</th>\n",
       "      <td>17631</td>\n",
       "      <td>[{'genre_id': '2', 'genre_title': 'Internation...</td>\n",
       "      <td>[{'genre_id': '2', 'genre_title': 'Internation...</td>\n",
       "      <td>3</td>\n",
       "    </tr>\n",
       "    <tr>\n",
       "      <th>10980</th>\n",
       "      <td>17632</td>\n",
       "      <td>[{'genre_id': '2', 'genre_title': 'Internation...</td>\n",
       "      <td>[{'genre_id': '2', 'genre_title': 'Internation...</td>\n",
       "      <td>3</td>\n",
       "    </tr>\n",
       "    <tr>\n",
       "      <th>10981</th>\n",
       "      <td>17633</td>\n",
       "      <td>[{'genre_id': '2', 'genre_title': 'Internation...</td>\n",
       "      <td>[{'genre_id': '2', 'genre_title': 'Internation...</td>\n",
       "      <td>3</td>\n",
       "    </tr>\n",
       "    <tr>\n",
       "      <th>10982</th>\n",
       "      <td>17634</td>\n",
       "      <td>[{'genre_id': '2', 'genre_title': 'Internation...</td>\n",
       "      <td>[{'genre_id': '2', 'genre_title': 'Internation...</td>\n",
       "      <td>3</td>\n",
       "    </tr>\n",
       "    <tr>\n",
       "      <th>10983</th>\n",
       "      <td>17635</td>\n",
       "      <td>[{'genre_id': '2', 'genre_title': 'Internation...</td>\n",
       "      <td>[{'genre_id': '2', 'genre_title': 'Internation...</td>\n",
       "      <td>3</td>\n",
       "    </tr>\n",
       "    <tr>\n",
       "      <th>10984</th>\n",
       "      <td>17636</td>\n",
       "      <td>[{'genre_id': '2', 'genre_title': 'Internation...</td>\n",
       "      <td>[{'genre_id': '2', 'genre_title': 'Internation...</td>\n",
       "      <td>3</td>\n",
       "    </tr>\n",
       "    <tr>\n",
       "      <th>10985</th>\n",
       "      <td>17637</td>\n",
       "      <td>[{'genre_id': '2', 'genre_title': 'Internation...</td>\n",
       "      <td>[{'genre_id': '2', 'genre_title': 'Internation...</td>\n",
       "      <td>3</td>\n",
       "    </tr>\n",
       "    <tr>\n",
       "      <th>17400</th>\n",
       "      <td>26670</td>\n",
       "      <td>[{'genre_id': '1', 'genre_title': 'Avant-Garde...</td>\n",
       "      <td>[{'genre_id': '1', 'genre_title': 'Avant-Garde...</td>\n",
       "      <td>2</td>\n",
       "    </tr>\n",
       "    <tr>\n",
       "      <th>18430</th>\n",
       "      <td>28105</td>\n",
       "      <td>[{'genre_id': '5', 'genre_title': 'Classical',...</td>\n",
       "      <td>[{'genre_id': '5', 'genre_title': 'Classical',...</td>\n",
       "      <td>1</td>\n",
       "    </tr>\n",
       "    <tr>\n",
       "      <th>18442</th>\n",
       "      <td>28117</td>\n",
       "      <td>[{'genre_id': '5', 'genre_title': 'Classical',...</td>\n",
       "      <td>[{'genre_id': '5', 'genre_title': 'Classical',...</td>\n",
       "      <td>1</td>\n",
       "    </tr>\n",
       "    <tr>\n",
       "      <th>18445</th>\n",
       "      <td>28120</td>\n",
       "      <td>[{'genre_id': '5', 'genre_title': 'Classical',...</td>\n",
       "      <td>[{'genre_id': '5', 'genre_title': 'Classical',...</td>\n",
       "      <td>1</td>\n",
       "    </tr>\n",
       "    <tr>\n",
       "      <th>19382</th>\n",
       "      <td>29350</td>\n",
       "      <td>[{'genre_id': '46', 'genre_title': 'Latin Amer...</td>\n",
       "      <td>[{'genre_id': '46', 'genre_title': 'Latin Amer...</td>\n",
       "      <td>1</td>\n",
       "    </tr>\n",
       "    <tr>\n",
       "      <th>19383</th>\n",
       "      <td>29351</td>\n",
       "      <td>[{'genre_id': '46', 'genre_title': 'Latin Amer...</td>\n",
       "      <td>[{'genre_id': '46', 'genre_title': 'Latin Amer...</td>\n",
       "      <td>1</td>\n",
       "    </tr>\n",
       "    <tr>\n",
       "      <th>19387</th>\n",
       "      <td>29355</td>\n",
       "      <td>[{'genre_id': '46', 'genre_title': 'Latin Amer...</td>\n",
       "      <td>[{'genre_id': '46', 'genre_title': 'Latin Amer...</td>\n",
       "      <td>1</td>\n",
       "    </tr>\n",
       "    <tr>\n",
       "      <th>21184</th>\n",
       "      <td>31823</td>\n",
       "      <td>[{'genre_id': '1', 'genre_title': 'Avant-Garde...</td>\n",
       "      <td>[{'genre_id': '1', 'genre_title': 'Avant-Garde...</td>\n",
       "      <td>3</td>\n",
       "    </tr>\n",
       "    <tr>\n",
       "      <th>27705</th>\n",
       "      <td>40353</td>\n",
       "      <td>[{'genre_id': '90', 'genre_title': 'Sludge', '...</td>\n",
       "      <td>[{'genre_id': '90', 'genre_title': 'Sludge', '...</td>\n",
       "      <td>2</td>\n",
       "    </tr>\n",
       "    <tr>\n",
       "      <th>27706</th>\n",
       "      <td>40354</td>\n",
       "      <td>[{'genre_id': '90', 'genre_title': 'Sludge', '...</td>\n",
       "      <td>[{'genre_id': '90', 'genre_title': 'Sludge', '...</td>\n",
       "      <td>2</td>\n",
       "    </tr>\n",
       "    <tr>\n",
       "      <th>27707</th>\n",
       "      <td>40355</td>\n",
       "      <td>[{'genre_id': '90', 'genre_title': 'Sludge', '...</td>\n",
       "      <td>[{'genre_id': '90', 'genre_title': 'Sludge', '...</td>\n",
       "      <td>2</td>\n",
       "    </tr>\n",
       "    <tr>\n",
       "      <th>27708</th>\n",
       "      <td>40356</td>\n",
       "      <td>[{'genre_id': '90', 'genre_title': 'Sludge', '...</td>\n",
       "      <td>[{'genre_id': '90', 'genre_title': 'Sludge', '...</td>\n",
       "      <td>2</td>\n",
       "    </tr>\n",
       "    <tr>\n",
       "      <th>27710</th>\n",
       "      <td>40358</td>\n",
       "      <td>[{'genre_id': '90', 'genre_title': 'Sludge', '...</td>\n",
       "      <td>[{'genre_id': '90', 'genre_title': 'Sludge', '...</td>\n",
       "      <td>2</td>\n",
       "    </tr>\n",
       "    <tr>\n",
       "      <th>38135</th>\n",
       "      <td>54568</td>\n",
       "      <td>[{'genre_id': '46', 'genre_title': 'Latin Amer...</td>\n",
       "      <td>[{'genre_id': '46', 'genre_title': 'Latin Amer...</td>\n",
       "      <td>1</td>\n",
       "    </tr>\n",
       "    <tr>\n",
       "      <th>38143</th>\n",
       "      <td>54576</td>\n",
       "      <td>[{'genre_id': '46', 'genre_title': 'Latin Amer...</td>\n",
       "      <td>[{'genre_id': '46', 'genre_title': 'Latin Amer...</td>\n",
       "      <td>1</td>\n",
       "    </tr>\n",
       "    <tr>\n",
       "      <th>38145</th>\n",
       "      <td>54578</td>\n",
       "      <td>[{'genre_id': '46', 'genre_title': 'Latin Amer...</td>\n",
       "      <td>[{'genre_id': '46', 'genre_title': 'Latin Amer...</td>\n",
       "      <td>1</td>\n",
       "    </tr>\n",
       "    <tr>\n",
       "      <th>38882</th>\n",
       "      <td>55783</td>\n",
       "      <td>[{'genre_id': '240', 'genre_title': 'Chiptune'...</td>\n",
       "      <td>[{'genre_id': '240', 'genre_title': 'Chiptune'...</td>\n",
       "      <td>2</td>\n",
       "    </tr>\n",
       "    <tr>\n",
       "      <th>55829</th>\n",
       "      <td>79906</td>\n",
       "      <td>[{'genre_id': '5', 'genre_title': 'Classical',...</td>\n",
       "      <td>[{'genre_id': '5', 'genre_title': 'Classical',...</td>\n",
       "      <td>2</td>\n",
       "    </tr>\n",
       "    <tr>\n",
       "      <th>60478</th>\n",
       "      <td>85813</td>\n",
       "      <td>[{'genre_id': '25', 'genre_title': 'Punk', 'ge...</td>\n",
       "      <td>[{'genre_id': '25', 'genre_title': 'Punk', 'ge...</td>\n",
       "      <td>3</td>\n",
       "    </tr>\n",
       "    <tr>\n",
       "      <th>72082</th>\n",
       "      <td>106630</td>\n",
       "      <td>[{'genre_id': '15', 'genre_title': 'Electronic...</td>\n",
       "      <td>[{'genre_id': '15', 'genre_title': 'Electronic...</td>\n",
       "      <td>1</td>\n",
       "    </tr>\n",
       "    <tr>\n",
       "      <th>72087</th>\n",
       "      <td>106635</td>\n",
       "      <td>[{'genre_id': '15', 'genre_title': 'Electronic...</td>\n",
       "      <td>[{'genre_id': '15', 'genre_title': 'Electronic...</td>\n",
       "      <td>1</td>\n",
       "    </tr>\n",
       "    <tr>\n",
       "      <th>72089</th>\n",
       "      <td>106637</td>\n",
       "      <td>[{'genre_id': '15', 'genre_title': 'Electronic...</td>\n",
       "      <td>[{'genre_id': '15', 'genre_title': 'Electronic...</td>\n",
       "      <td>1</td>\n",
       "    </tr>\n",
       "    <tr>\n",
       "      <th>72091</th>\n",
       "      <td>106639</td>\n",
       "      <td>[{'genre_id': '15', 'genre_title': 'Electronic...</td>\n",
       "      <td>[{'genre_id': '15', 'genre_title': 'Electronic...</td>\n",
       "      <td>1</td>\n",
       "    </tr>\n",
       "    <tr>\n",
       "      <th>74591</th>\n",
       "      <td>109665</td>\n",
       "      <td>[{'genre_id': '21', 'genre_title': 'Hip-Hop', ...</td>\n",
       "      <td>[{'genre_id': '21', 'genre_title': 'Hip-Hop', ...</td>\n",
       "      <td>1</td>\n",
       "    </tr>\n",
       "  </tbody>\n",
       "</table>\n",
       "</div>"
      ],
      "text/plain": [
       "       track_id                                       track_genres  \\\n",
       "10097     16351  [{'genre_id': '8', 'genre_title': 'Old-Time / ...   \n",
       "10098     16352  [{'genre_id': '8', 'genre_title': 'Old-Time / ...   \n",
       "10099     16353  [{'genre_id': '8', 'genre_title': 'Old-Time / ...   \n",
       "10133     16398  [{'genre_id': '8', 'genre_title': 'Old-Time / ...   \n",
       "10134     16399  [{'genre_id': '8', 'genre_title': 'Old-Time / ...   \n",
       "10135     16400  [{'genre_id': '8', 'genre_title': 'Old-Time / ...   \n",
       "10136     16401  [{'genre_id': '8', 'genre_title': 'Old-Time / ...   \n",
       "10137     16402  [{'genre_id': '8', 'genre_title': 'Old-Time / ...   \n",
       "10138     16403  [{'genre_id': '8', 'genre_title': 'Old-Time / ...   \n",
       "10139     16404  [{'genre_id': '8', 'genre_title': 'Old-Time / ...   \n",
       "10140     16405  [{'genre_id': '8', 'genre_title': 'Old-Time / ...   \n",
       "10141     16406  [{'genre_id': '8', 'genre_title': 'Old-Time / ...   \n",
       "10144     16421  [{'genre_id': '8', 'genre_title': 'Old-Time / ...   \n",
       "10145     16422  [{'genre_id': '8', 'genre_title': 'Old-Time / ...   \n",
       "10146     16423  [{'genre_id': '8', 'genre_title': 'Old-Time / ...   \n",
       "10147     16424  [{'genre_id': '8', 'genre_title': 'Old-Time / ...   \n",
       "10148     16425  [{'genre_id': '8', 'genre_title': 'Old-Time / ...   \n",
       "10149     16426  [{'genre_id': '8', 'genre_title': 'Old-Time / ...   \n",
       "10150     16427  [{'genre_id': '8', 'genre_title': 'Old-Time / ...   \n",
       "10151     16428  [{'genre_id': '8', 'genre_title': 'Old-Time / ...   \n",
       "10152     16429  [{'genre_id': '8', 'genre_title': 'Old-Time / ...   \n",
       "10153     16430  [{'genre_id': '8', 'genre_title': 'Old-Time / ...   \n",
       "10154     16431  [{'genre_id': '8', 'genre_title': 'Old-Time / ...   \n",
       "10155     16432  [{'genre_id': '8', 'genre_title': 'Old-Time / ...   \n",
       "10979     17631  [{'genre_id': '2', 'genre_title': 'Internation...   \n",
       "10980     17632  [{'genre_id': '2', 'genre_title': 'Internation...   \n",
       "10981     17633  [{'genre_id': '2', 'genre_title': 'Internation...   \n",
       "10982     17634  [{'genre_id': '2', 'genre_title': 'Internation...   \n",
       "10983     17635  [{'genre_id': '2', 'genre_title': 'Internation...   \n",
       "10984     17636  [{'genre_id': '2', 'genre_title': 'Internation...   \n",
       "10985     17637  [{'genre_id': '2', 'genre_title': 'Internation...   \n",
       "17400     26670  [{'genre_id': '1', 'genre_title': 'Avant-Garde...   \n",
       "18430     28105  [{'genre_id': '5', 'genre_title': 'Classical',...   \n",
       "18442     28117  [{'genre_id': '5', 'genre_title': 'Classical',...   \n",
       "18445     28120  [{'genre_id': '5', 'genre_title': 'Classical',...   \n",
       "19382     29350  [{'genre_id': '46', 'genre_title': 'Latin Amer...   \n",
       "19383     29351  [{'genre_id': '46', 'genre_title': 'Latin Amer...   \n",
       "19387     29355  [{'genre_id': '46', 'genre_title': 'Latin Amer...   \n",
       "21184     31823  [{'genre_id': '1', 'genre_title': 'Avant-Garde...   \n",
       "27705     40353  [{'genre_id': '90', 'genre_title': 'Sludge', '...   \n",
       "27706     40354  [{'genre_id': '90', 'genre_title': 'Sludge', '...   \n",
       "27707     40355  [{'genre_id': '90', 'genre_title': 'Sludge', '...   \n",
       "27708     40356  [{'genre_id': '90', 'genre_title': 'Sludge', '...   \n",
       "27710     40358  [{'genre_id': '90', 'genre_title': 'Sludge', '...   \n",
       "38135     54568  [{'genre_id': '46', 'genre_title': 'Latin Amer...   \n",
       "38143     54576  [{'genre_id': '46', 'genre_title': 'Latin Amer...   \n",
       "38145     54578  [{'genre_id': '46', 'genre_title': 'Latin Amer...   \n",
       "38882     55783  [{'genre_id': '240', 'genre_title': 'Chiptune'...   \n",
       "55829     79906  [{'genre_id': '5', 'genre_title': 'Classical',...   \n",
       "60478     85813  [{'genre_id': '25', 'genre_title': 'Punk', 'ge...   \n",
       "72082    106630  [{'genre_id': '15', 'genre_title': 'Electronic...   \n",
       "72087    106635  [{'genre_id': '15', 'genre_title': 'Electronic...   \n",
       "72089    106637  [{'genre_id': '15', 'genre_title': 'Electronic...   \n",
       "72091    106639  [{'genre_id': '15', 'genre_title': 'Electronic...   \n",
       "74591    109665  [{'genre_id': '21', 'genre_title': 'Hip-Hop', ...   \n",
       "\n",
       "                                           parsed_genres  num_genres  \n",
       "10097  [{'genre_id': '8', 'genre_title': 'Old-Time / ...           1  \n",
       "10098  [{'genre_id': '8', 'genre_title': 'Old-Time / ...           1  \n",
       "10099  [{'genre_id': '8', 'genre_title': 'Old-Time / ...           1  \n",
       "10133  [{'genre_id': '8', 'genre_title': 'Old-Time / ...           1  \n",
       "10134  [{'genre_id': '8', 'genre_title': 'Old-Time / ...           1  \n",
       "10135  [{'genre_id': '8', 'genre_title': 'Old-Time / ...           1  \n",
       "10136  [{'genre_id': '8', 'genre_title': 'Old-Time / ...           1  \n",
       "10137  [{'genre_id': '8', 'genre_title': 'Old-Time / ...           1  \n",
       "10138  [{'genre_id': '8', 'genre_title': 'Old-Time / ...           1  \n",
       "10139  [{'genre_id': '8', 'genre_title': 'Old-Time / ...           1  \n",
       "10140  [{'genre_id': '8', 'genre_title': 'Old-Time / ...           1  \n",
       "10141  [{'genre_id': '8', 'genre_title': 'Old-Time / ...           1  \n",
       "10144  [{'genre_id': '8', 'genre_title': 'Old-Time / ...           1  \n",
       "10145  [{'genre_id': '8', 'genre_title': 'Old-Time / ...           1  \n",
       "10146  [{'genre_id': '8', 'genre_title': 'Old-Time / ...           1  \n",
       "10147  [{'genre_id': '8', 'genre_title': 'Old-Time / ...           1  \n",
       "10148  [{'genre_id': '8', 'genre_title': 'Old-Time / ...           1  \n",
       "10149  [{'genre_id': '8', 'genre_title': 'Old-Time / ...           1  \n",
       "10150  [{'genre_id': '8', 'genre_title': 'Old-Time / ...           1  \n",
       "10151  [{'genre_id': '8', 'genre_title': 'Old-Time / ...           1  \n",
       "10152  [{'genre_id': '8', 'genre_title': 'Old-Time / ...           1  \n",
       "10153  [{'genre_id': '8', 'genre_title': 'Old-Time / ...           1  \n",
       "10154  [{'genre_id': '8', 'genre_title': 'Old-Time / ...           1  \n",
       "10155  [{'genre_id': '8', 'genre_title': 'Old-Time / ...           1  \n",
       "10979  [{'genre_id': '2', 'genre_title': 'Internation...           3  \n",
       "10980  [{'genre_id': '2', 'genre_title': 'Internation...           3  \n",
       "10981  [{'genre_id': '2', 'genre_title': 'Internation...           3  \n",
       "10982  [{'genre_id': '2', 'genre_title': 'Internation...           3  \n",
       "10983  [{'genre_id': '2', 'genre_title': 'Internation...           3  \n",
       "10984  [{'genre_id': '2', 'genre_title': 'Internation...           3  \n",
       "10985  [{'genre_id': '2', 'genre_title': 'Internation...           3  \n",
       "17400  [{'genre_id': '1', 'genre_title': 'Avant-Garde...           2  \n",
       "18430  [{'genre_id': '5', 'genre_title': 'Classical',...           1  \n",
       "18442  [{'genre_id': '5', 'genre_title': 'Classical',...           1  \n",
       "18445  [{'genre_id': '5', 'genre_title': 'Classical',...           1  \n",
       "19382  [{'genre_id': '46', 'genre_title': 'Latin Amer...           1  \n",
       "19383  [{'genre_id': '46', 'genre_title': 'Latin Amer...           1  \n",
       "19387  [{'genre_id': '46', 'genre_title': 'Latin Amer...           1  \n",
       "21184  [{'genre_id': '1', 'genre_title': 'Avant-Garde...           3  \n",
       "27705  [{'genre_id': '90', 'genre_title': 'Sludge', '...           2  \n",
       "27706  [{'genre_id': '90', 'genre_title': 'Sludge', '...           2  \n",
       "27707  [{'genre_id': '90', 'genre_title': 'Sludge', '...           2  \n",
       "27708  [{'genre_id': '90', 'genre_title': 'Sludge', '...           2  \n",
       "27710  [{'genre_id': '90', 'genre_title': 'Sludge', '...           2  \n",
       "38135  [{'genre_id': '46', 'genre_title': 'Latin Amer...           1  \n",
       "38143  [{'genre_id': '46', 'genre_title': 'Latin Amer...           1  \n",
       "38145  [{'genre_id': '46', 'genre_title': 'Latin Amer...           1  \n",
       "38882  [{'genre_id': '240', 'genre_title': 'Chiptune'...           2  \n",
       "55829  [{'genre_id': '5', 'genre_title': 'Classical',...           2  \n",
       "60478  [{'genre_id': '25', 'genre_title': 'Punk', 'ge...           3  \n",
       "72082  [{'genre_id': '15', 'genre_title': 'Electronic...           1  \n",
       "72087  [{'genre_id': '15', 'genre_title': 'Electronic...           1  \n",
       "72089  [{'genre_id': '15', 'genre_title': 'Electronic...           1  \n",
       "72091  [{'genre_id': '15', 'genre_title': 'Electronic...           1  \n",
       "74591  [{'genre_id': '21', 'genre_title': 'Hip-Hop', ...           1  "
      ]
     },
     "execution_count": 9,
     "metadata": {},
     "output_type": "execute_result"
    }
   ],
   "source": [
    "bad_sample_rates = []\n",
    "\n",
    "for track in rates:\n",
    "    if rates[track] in [32000, 22050]:\n",
    "        bad_sample_rates.append(track)\n",
    "\n",
    "bad_sample_df = tracks[tracks['track_id'].isin(bad_sample_rates)]\n",
    "bad_sample_df"
   ]
  },
  {
   "cell_type": "code",
   "execution_count": null,
   "metadata": {},
   "outputs": [
    {
     "name": "stdout",
     "output_type": "stream",
     "text": [
      "[{'genre_id': '8', 'genre_title': 'Old-Time / Historic', 'genre_url': 'http://freemusicarchive.org/genre/Old-Time__Historic/'}]\n",
      "[{'genre_id': '8', 'genre_title': 'Old-Time / Historic', 'genre_url': 'http://freemusicarchive.org/genre/Old-Time__Historic/'}]\n",
      "[{'genre_id': '8', 'genre_title': 'Old-Time / Historic', 'genre_url': 'http://freemusicarchive.org/genre/Old-Time__Historic/'}]\n",
      "[{'genre_id': '8', 'genre_title': 'Old-Time / Historic', 'genre_url': 'http://freemusicarchive.org/genre/Old-Time__Historic/'}]\n",
      "[{'genre_id': '8', 'genre_title': 'Old-Time / Historic', 'genre_url': 'http://freemusicarchive.org/genre/Old-Time__Historic/'}]\n",
      "[{'genre_id': '8', 'genre_title': 'Old-Time / Historic', 'genre_url': 'http://freemusicarchive.org/genre/Old-Time__Historic/'}]\n",
      "[{'genre_id': '8', 'genre_title': 'Old-Time / Historic', 'genre_url': 'http://freemusicarchive.org/genre/Old-Time__Historic/'}]\n",
      "[{'genre_id': '8', 'genre_title': 'Old-Time / Historic', 'genre_url': 'http://freemusicarchive.org/genre/Old-Time__Historic/'}]\n",
      "[{'genre_id': '8', 'genre_title': 'Old-Time / Historic', 'genre_url': 'http://freemusicarchive.org/genre/Old-Time__Historic/'}]\n",
      "[{'genre_id': '8', 'genre_title': 'Old-Time / Historic', 'genre_url': 'http://freemusicarchive.org/genre/Old-Time__Historic/'}]\n",
      "[{'genre_id': '8', 'genre_title': 'Old-Time / Historic', 'genre_url': 'http://freemusicarchive.org/genre/Old-Time__Historic/'}]\n",
      "[{'genre_id': '8', 'genre_title': 'Old-Time / Historic', 'genre_url': 'http://freemusicarchive.org/genre/Old-Time__Historic/'}]\n",
      "[{'genre_id': '8', 'genre_title': 'Old-Time / Historic', 'genre_url': 'http://freemusicarchive.org/genre/Old-Time__Historic/'}]\n",
      "[{'genre_id': '8', 'genre_title': 'Old-Time / Historic', 'genre_url': 'http://freemusicarchive.org/genre/Old-Time__Historic/'}]\n",
      "[{'genre_id': '8', 'genre_title': 'Old-Time / Historic', 'genre_url': 'http://freemusicarchive.org/genre/Old-Time__Historic/'}]\n",
      "[{'genre_id': '8', 'genre_title': 'Old-Time / Historic', 'genre_url': 'http://freemusicarchive.org/genre/Old-Time__Historic/'}]\n",
      "[{'genre_id': '8', 'genre_title': 'Old-Time / Historic', 'genre_url': 'http://freemusicarchive.org/genre/Old-Time__Historic/'}]\n",
      "[{'genre_id': '8', 'genre_title': 'Old-Time / Historic', 'genre_url': 'http://freemusicarchive.org/genre/Old-Time__Historic/'}]\n",
      "[{'genre_id': '8', 'genre_title': 'Old-Time / Historic', 'genre_url': 'http://freemusicarchive.org/genre/Old-Time__Historic/'}]\n",
      "[{'genre_id': '8', 'genre_title': 'Old-Time / Historic', 'genre_url': 'http://freemusicarchive.org/genre/Old-Time__Historic/'}]\n",
      "[{'genre_id': '8', 'genre_title': 'Old-Time / Historic', 'genre_url': 'http://freemusicarchive.org/genre/Old-Time__Historic/'}]\n",
      "[{'genre_id': '8', 'genre_title': 'Old-Time / Historic', 'genre_url': 'http://freemusicarchive.org/genre/Old-Time__Historic/'}]\n",
      "[{'genre_id': '8', 'genre_title': 'Old-Time / Historic', 'genre_url': 'http://freemusicarchive.org/genre/Old-Time__Historic/'}]\n",
      "[{'genre_id': '8', 'genre_title': 'Old-Time / Historic', 'genre_url': 'http://freemusicarchive.org/genre/Old-Time__Historic/'}]\n",
      "[{'genre_id': '2', 'genre_title': 'International', 'genre_url': 'http://freemusicarchive.org/genre/International/'}, {'genre_id': '86', 'genre_title': 'Indian', 'genre_url': 'http://freemusicarchive.org/genre/Indian/'}, {'genre_id': '92', 'genre_title': 'African', 'genre_url': 'http://freemusicarchive.org/genre/African/'}]\n",
      "[{'genre_id': '2', 'genre_title': 'International', 'genre_url': 'http://freemusicarchive.org/genre/International/'}, {'genre_id': '86', 'genre_title': 'Indian', 'genre_url': 'http://freemusicarchive.org/genre/Indian/'}, {'genre_id': '92', 'genre_title': 'African', 'genre_url': 'http://freemusicarchive.org/genre/African/'}]\n",
      "[{'genre_id': '2', 'genre_title': 'International', 'genre_url': 'http://freemusicarchive.org/genre/International/'}, {'genre_id': '86', 'genre_title': 'Indian', 'genre_url': 'http://freemusicarchive.org/genre/Indian/'}, {'genre_id': '92', 'genre_title': 'African', 'genre_url': 'http://freemusicarchive.org/genre/African/'}]\n",
      "[{'genre_id': '2', 'genre_title': 'International', 'genre_url': 'http://freemusicarchive.org/genre/International/'}, {'genre_id': '86', 'genre_title': 'Indian', 'genre_url': 'http://freemusicarchive.org/genre/Indian/'}, {'genre_id': '92', 'genre_title': 'African', 'genre_url': 'http://freemusicarchive.org/genre/African/'}]\n",
      "[{'genre_id': '2', 'genre_title': 'International', 'genre_url': 'http://freemusicarchive.org/genre/International/'}, {'genre_id': '86', 'genre_title': 'Indian', 'genre_url': 'http://freemusicarchive.org/genre/Indian/'}, {'genre_id': '92', 'genre_title': 'African', 'genre_url': 'http://freemusicarchive.org/genre/African/'}]\n",
      "[{'genre_id': '2', 'genre_title': 'International', 'genre_url': 'http://freemusicarchive.org/genre/International/'}, {'genre_id': '86', 'genre_title': 'Indian', 'genre_url': 'http://freemusicarchive.org/genre/Indian/'}, {'genre_id': '92', 'genre_title': 'African', 'genre_url': 'http://freemusicarchive.org/genre/African/'}]\n",
      "[{'genre_id': '2', 'genre_title': 'International', 'genre_url': 'http://freemusicarchive.org/genre/International/'}, {'genre_id': '86', 'genre_title': 'Indian', 'genre_url': 'http://freemusicarchive.org/genre/Indian/'}, {'genre_id': '92', 'genre_title': 'African', 'genre_url': 'http://freemusicarchive.org/genre/African/'}]\n",
      "[{'genre_id': '1', 'genre_title': 'Avant-Garde', 'genre_url': 'http://freemusicarchive.org/genre/Avant-Garde/'}, {'genre_id': '38', 'genre_title': 'Experimental', 'genre_url': 'http://freemusicarchive.org/genre/Experimental/'}]\n",
      "[{'genre_id': '5', 'genre_title': 'Classical', 'genre_url': 'http://freemusicarchive.org/genre/Classical/'}]\n",
      "[{'genre_id': '5', 'genre_title': 'Classical', 'genre_url': 'http://freemusicarchive.org/genre/Classical/'}]\n",
      "[{'genre_id': '5', 'genre_title': 'Classical', 'genre_url': 'http://freemusicarchive.org/genre/Classical/'}]\n",
      "[{'genre_id': '46', 'genre_title': 'Latin America', 'genre_url': 'http://freemusicarchive.org/genre/Latin_America/'}]\n",
      "[{'genre_id': '46', 'genre_title': 'Latin America', 'genre_url': 'http://freemusicarchive.org/genre/Latin_America/'}]\n",
      "[{'genre_id': '46', 'genre_title': 'Latin America', 'genre_url': 'http://freemusicarchive.org/genre/Latin_America/'}]\n",
      "[{'genre_id': '1', 'genre_title': 'Avant-Garde', 'genre_url': 'http://freemusicarchive.org/genre/Avant-Garde/'}, {'genre_id': '38', 'genre_title': 'Experimental', 'genre_url': 'http://freemusicarchive.org/genre/Experimental/'}, {'genre_id': '250', 'genre_title': 'Improv', 'genre_url': 'http://freemusicarchive.org/genre/Improv/'}]\n",
      "[{'genre_id': '90', 'genre_title': 'Sludge', 'genre_url': 'http://freemusicarchive.org/genre/Sludge/'}, {'genre_id': '109', 'genre_title': 'Hardcore', 'genre_url': 'http://freemusicarchive.org/genre/Hardcore/'}]\n",
      "[{'genre_id': '90', 'genre_title': 'Sludge', 'genre_url': 'http://freemusicarchive.org/genre/Sludge/'}, {'genre_id': '109', 'genre_title': 'Hardcore', 'genre_url': 'http://freemusicarchive.org/genre/Hardcore/'}]\n",
      "[{'genre_id': '90', 'genre_title': 'Sludge', 'genre_url': 'http://freemusicarchive.org/genre/Sludge/'}, {'genre_id': '109', 'genre_title': 'Hardcore', 'genre_url': 'http://freemusicarchive.org/genre/Hardcore/'}]\n",
      "[{'genre_id': '90', 'genre_title': 'Sludge', 'genre_url': 'http://freemusicarchive.org/genre/Sludge/'}, {'genre_id': '109', 'genre_title': 'Hardcore', 'genre_url': 'http://freemusicarchive.org/genre/Hardcore/'}]\n",
      "[{'genre_id': '90', 'genre_title': 'Sludge', 'genre_url': 'http://freemusicarchive.org/genre/Sludge/'}, {'genre_id': '109', 'genre_title': 'Hardcore', 'genre_url': 'http://freemusicarchive.org/genre/Hardcore/'}]\n",
      "[{'genre_id': '46', 'genre_title': 'Latin America', 'genre_url': 'http://freemusicarchive.org/genre/Latin_America/'}]\n",
      "[{'genre_id': '46', 'genre_title': 'Latin America', 'genre_url': 'http://freemusicarchive.org/genre/Latin_America/'}]\n",
      "[{'genre_id': '46', 'genre_title': 'Latin America', 'genre_url': 'http://freemusicarchive.org/genre/Latin_America/'}]\n",
      "[{'genre_id': '240', 'genre_title': 'Chiptune', 'genre_url': 'http://freemusicarchive.org/genre/Chiptune/'}, {'genre_id': '297', 'genre_title': 'Chip Music', 'genre_url': 'http://freemusicarchive.org/genre/Chip_Music/'}]\n",
      "[{'genre_id': '5', 'genre_title': 'Classical', 'genre_url': 'http://freemusicarchive.org/genre/Classical/'}, {'genre_id': '187', 'genre_title': '20th Century Classical', 'genre_url': 'http://freemusicarchive.org/genre/20th_Century_Classical/'}]\n",
      "[{'genre_id': '25', 'genre_title': 'Punk', 'genre_url': 'http://freemusicarchive.org/genre/Punk/'}, {'genre_id': '64', 'genre_title': 'Electro-Punk', 'genre_url': 'http://freemusicarchive.org/genre/Electro-punk/'}, {'genre_id': '85', 'genre_title': 'Garage', 'genre_url': 'http://freemusicarchive.org/genre/Garage/'}]\n",
      "[{'genre_id': '15', 'genre_title': 'Electronic', 'genre_url': 'http://freemusicarchive.org/genre/Electronic/'}]\n",
      "[{'genre_id': '15', 'genre_title': 'Electronic', 'genre_url': 'http://freemusicarchive.org/genre/Electronic/'}]\n",
      "[{'genre_id': '15', 'genre_title': 'Electronic', 'genre_url': 'http://freemusicarchive.org/genre/Electronic/'}]\n",
      "[{'genre_id': '15', 'genre_title': 'Electronic', 'genre_url': 'http://freemusicarchive.org/genre/Electronic/'}]\n",
      "[{'genre_id': '21', 'genre_title': 'Hip-Hop', 'genre_url': 'http://freemusicarchive.org/genre/Hip-Hop/'}]\n"
     ]
    }
   ],
   "source": [
    "for i in bad_sample_df['parsed_genres']:\n",
    "    print(i)"
   ]
  }
 ],
 "metadata": {
  "kernelspec": {
   "display_name": "Python 3",
   "language": "python",
   "name": "python3"
  },
  "language_info": {
   "codemirror_mode": {
    "name": "ipython",
    "version": 3
   },
   "file_extension": ".py",
   "mimetype": "text/x-python",
   "name": "python",
   "nbconvert_exporter": "python",
   "pygments_lexer": "ipython3",
   "version": "3.10.11"
  }
 },
 "nbformat": 4,
 "nbformat_minor": 2
}
