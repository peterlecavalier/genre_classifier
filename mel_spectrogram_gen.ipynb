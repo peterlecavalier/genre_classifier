{
 "cells": [
  {
   "cell_type": "code",
   "execution_count": 1,
   "metadata": {},
   "outputs": [],
   "source": [
    "import numpy as np\n",
    "import pandas as pd\n",
    "from soundfile import read as sf_read\n",
    "import librosa\n",
    "from pathlib import Path\n",
    "import os\n",
    "from tqdm import tqdm"
   ]
  },
  {
   "cell_type": "markdown",
   "metadata": {},
   "source": [
    "First, define a function to make a mel spectrogram for us:"
   ]
  },
  {
   "cell_type": "code",
   "execution_count": 2,
   "metadata": {},
   "outputs": [],
   "source": [
    "def make_mel_spectrogram(fpath, n_fft=1024, hop_length=512):\n",
    "    fpath = './data/fma_medium' + fpath\n",
    "    # If we can't read it, skip and print the filename\n",
    "    try:\n",
    "        audio, _ = sf_read(fpath)\n",
    "    except:\n",
    "        print(f\"Unable to read: {fpath}\")\n",
    "        return -1\n",
    "    # Convert to one channel by averaging stereo channels\n",
    "    if audio.shape[-1] ==  2:\n",
    "        audio = np.mean(audio, axis=-1)\n",
    "    \n",
    "    if len(np.unique(audio)) == 1:\n",
    "        print(f\"No data: {fpath}\")\n",
    "        return -1\n",
    "\n",
    "    mel_spectrogram = librosa.feature.melspectrogram(y=audio, sr=44100, n_fft=n_fft, hop_length=hop_length)\n",
    "    mel_spectrogram = librosa.power_to_db(mel_spectrogram, ref=np.max)\n",
    "    \n",
    "    ##### Normalize the spectrogram\n",
    "    # Calculate min and max values across the tensor\n",
    "    min_values = np.min(mel_spectrogram)\n",
    "    max_values = np.max(mel_spectrogram)\n",
    "\n",
    "    # Min-max normalization\n",
    "    output = (mel_spectrogram - min_values) / (max_values - min_values)\n",
    "    #####\n",
    "\n",
    "    output = output.astype(np.float32)\n",
    "\n",
    "    return output"
   ]
  },
  {
   "cell_type": "markdown",
   "metadata": {},
   "source": [
    "Then, loop through all the files to generate spectrograms for them:"
   ]
  },
  {
   "cell_type": "code",
   "execution_count": 8,
   "metadata": {},
   "outputs": [
    {
     "name": "stderr",
     "output_type": "stream",
     "text": [
      "  0%|          | 0/24927 [00:00<?, ?it/s]"
     ]
    },
    {
     "name": "stderr",
     "output_type": "stream",
     "text": [
      " 28%|██▊       | 6990/24927 [00:18<01:00, 294.85it/s]"
     ]
    },
    {
     "name": "stdout",
     "output_type": "stream",
     "text": [
      "No data: ./data/fma_medium\\044\\044374.mp3\n"
     ]
    },
    {
     "name": "stderr",
     "output_type": "stream",
     "text": [
      " 63%|██████▎   | 15632/24927 [00:44<00:23, 390.89it/s]"
     ]
    },
    {
     "name": "stdout",
     "output_type": "stream",
     "text": [
      "Unable to read: ./data/fma_medium\\098\\098566.mp3\n",
      "Unable to read: ./data/fma_medium\\098\\098568.mp3\n"
     ]
    },
    {
     "name": "stderr",
     "output_type": "stream",
     "text": [
      " 67%|██████▋   | 16617/24927 [00:46<00:25, 326.88it/s]"
     ]
    },
    {
     "name": "stdout",
     "output_type": "stream",
     "text": [
      "No data: ./data/fma_medium\\107\\107535.mp3\n"
     ]
    },
    {
     "name": "stderr",
     "output_type": "stream",
     "text": [
      "100%|██████████| 24927/24927 [01:08<00:00, 363.56it/s]\n"
     ]
    }
   ],
   "source": [
    "# Make new folder for resampled tracks\n",
    "Path(\"./data/fma_medium/mel_spectrograms\").mkdir(parents=True, exist_ok=True)\n",
    "\n",
    "tracks = pd.read_csv('./data/processed_genres.csv')\n",
    "\n",
    "for track in tqdm(tracks['fpath']):\n",
    "    if not os.path.exists(\"./data/fma_medium/mel_spectrograms/\" + track.split('\\\\')[-1][:-4] + '.npy'):\n",
    "        spec = make_mel_spectrogram(track)\n",
    "        if spec == -1:\n",
    "            continue\n",
    "        np.save(\"./data/fma_medium/mel_spectrograms/\" + track.split('\\\\')[-1][:-4] + '.npy', spec)\n",
    "    tracks.loc[tracks['fpath'] == track, 'fpath'] = os.sep + 'mel_spectrograms' + os.sep + track.split('\\\\')[-1][:-4] + '.npy'"
   ]
  },
  {
   "cell_type": "markdown",
   "metadata": {},
   "source": [
    "Remove any bad apples from the dataframe"
   ]
  },
  {
   "cell_type": "code",
   "execution_count": 9,
   "metadata": {},
   "outputs": [],
   "source": [
    "tracks = tracks[tracks['fpath'].str.contains('mel_spectrograms')]"
   ]
  },
  {
   "cell_type": "markdown",
   "metadata": {},
   "source": [
    "Finally, save the new CSV with updated mel spectrogram file paths:"
   ]
  },
  {
   "cell_type": "code",
   "execution_count": 10,
   "metadata": {},
   "outputs": [],
   "source": [
    "tracks.to_csv('./data/processed_genres_mel.csv', index=False)"
   ]
  }
 ],
 "metadata": {
  "kernelspec": {
   "display_name": "Python 3",
   "language": "python",
   "name": "python3"
  },
  "language_info": {
   "codemirror_mode": {
    "name": "ipython",
    "version": 3
   },
   "file_extension": ".py",
   "mimetype": "text/x-python",
   "name": "python",
   "nbconvert_exporter": "python",
   "pygments_lexer": "ipython3",
   "version": "3.10.11"
  }
 },
 "nbformat": 4,
 "nbformat_minor": 2
}
