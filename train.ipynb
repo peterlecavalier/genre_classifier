{
 "cells": [
  {
   "cell_type": "code",
   "execution_count": 1,
   "metadata": {},
   "outputs": [],
   "source": [
    "from data_pipeline import DataGen\n",
    "import tensorflow as tf\n",
    "import pandas as pd\n",
    "import numpy as np\n",
    "from sklearn.utils import class_weight"
   ]
  },
  {
   "cell_type": "markdown",
   "metadata": {},
   "source": [
    "Set up the dataset from our generator:"
   ]
  },
  {
   "cell_type": "code",
   "execution_count": 2,
   "metadata": {},
   "outputs": [],
   "source": [
    "tracks = pd.read_csv('./data/processed_genres.csv')\n",
    "train_gen = DataGen(tracks, shuffle=True)\n",
    "output_signature=(\n",
    "  tf.TensorSpec(shape=(512, 512), dtype=tf.float32, name=None),\n",
    "  tf.TensorSpec(shape=(), dtype=tf.int32, name=None))\n",
    "batch_size = 16\n",
    "main_ds = tf.data.Dataset.from_generator(train_gen, output_signature=output_signature)\n",
    "\n",
    "data = main_ds.cache()\n",
    "data = data.shuffle(buffer_size=1000)\n",
    "data = data.batch(batch_size)\n",
    "data = data.prefetch(8)\n",
    "\n",
    "train = data.take(36)\n",
    "test = data.skip(36).take(15)"
   ]
  },
  {
   "cell_type": "markdown",
   "metadata": {},
   "source": [
    "Compute the class weights for balancing:"
   ]
  },
  {
   "cell_type": "code",
   "execution_count": 9,
   "metadata": {},
   "outputs": [
    {
     "data": {
      "text/plain": [
       "{0: 0.7104138166894665,\n",
       " 1: 1.3136066610455313,\n",
       " 2: 0.21967533840947548,\n",
       " 3: 1.0263092885375493,\n",
       " 4: 0.6930326957295374,\n",
       " 5: 4.05712890625,\n",
       " 6: 0.24705637488106566,\n",
       " 7: 1.550186567164179,\n",
       " 8: 10.116477272727273,\n",
       " 9: 21.05320945945946,\n",
       " 10: 13.202860169491526,\n",
       " 11: 8.75245786516854,\n",
       " 12: 2.533231707317073,\n",
       " 13: 3.205632716049383,\n",
       " 14: 1.1548832468495183,\n",
       " 15: 74.1875}"
      ]
     },
     "execution_count": 9,
     "metadata": {},
     "output_type": "execute_result"
    }
   ],
   "source": [
    "genres = np.array(tracks['parent_genre_id'])\n",
    "class_weights = class_weight.compute_class_weight(class_weight='balanced',\n",
    "                                                  classes=np.unique(genres),\n",
    "                                                  y=genres)\n",
    "\n",
    "class_weights = dict(enumerate(class_weights))\n",
    "\n",
    "class_weights"
   ]
  },
  {
   "cell_type": "markdown",
   "metadata": {},
   "source": [
    "Build and train the model:"
   ]
  },
  {
   "cell_type": "code",
   "execution_count": 10,
   "metadata": {},
   "outputs": [
    {
     "name": "stdout",
     "output_type": "stream",
     "text": [
      "Model: \"sequential_1\"\n",
      "_________________________________________________________________\n",
      " Layer (type)                Output Shape              Param #   \n",
      "=================================================================\n",
      " conv2d_2 (Conv2D)           (None, 497, 497, 16)      4112      \n",
      "                                                                 \n",
      " max_pooling2d_2 (MaxPooling  (None, 124, 124, 16)     0         \n",
      " 2D)                                                             \n",
      "                                                                 \n",
      " dropout_2 (Dropout)         (None, 124, 124, 16)      0         \n",
      "                                                                 \n",
      " conv2d_3 (Conv2D)           (None, 109, 109, 32)      131104    \n",
      "                                                                 \n",
      " max_pooling2d_3 (MaxPooling  (None, 27, 27, 32)       0         \n",
      " 2D)                                                             \n",
      "                                                                 \n",
      " dropout_3 (Dropout)         (None, 27, 27, 32)        0         \n",
      "                                                                 \n",
      " flatten_1 (Flatten)         (None, 23328)             0         \n",
      "                                                                 \n",
      " dense_2 (Dense)             (None, 32)                746528    \n",
      "                                                                 \n",
      " dense_3 (Dense)             (None, 16)                528       \n",
      "                                                                 \n",
      "=================================================================\n",
      "Total params: 882,272\n",
      "Trainable params: 882,272\n",
      "Non-trainable params: 0\n",
      "_________________________________________________________________\n",
      "Epoch 1/50\n",
      "     29/Unknown - 313s 9s/step - loss: 2.3144 - accuracy: 0.1034"
     ]
    }
   ],
   "source": [
    "model = tf.keras.models.Sequential([\n",
    "    tf.keras.layers.Conv2D(16, (16,16), input_shape=(512, 512, 1), activation=\"relu\"),\n",
    "    tf.keras.layers.MaxPooling2D((4, 4)),\n",
    "    tf.keras.layers.Dropout(0.2),\n",
    "    tf.keras.layers.Conv2D(32, (16, 16), activation=\"relu\"),\n",
    "    tf.keras.layers.MaxPooling2D((4, 4)),\n",
    "    tf.keras.layers.Dropout(0.2),\n",
    "    tf.keras.layers.Flatten(),\n",
    "    tf.keras.layers.Dense(32, activation=\"relu\"), \n",
    "    tf.keras.layers.Dense(16)\n",
    "])\n",
    "    \n",
    "model.summary()\n",
    "model.compile(loss=tf.keras.losses.SparseCategoricalCrossentropy(from_logits=True),\n",
    "              metrics=[\"accuracy\"], optimizer='adam')\n",
    "\n",
    "history = model.fit(x=train, epochs=50, validation_data=test, class_weight=class_weights)"
   ]
  }
 ],
 "metadata": {
  "kernelspec": {
   "display_name": "Python 3",
   "language": "python",
   "name": "python3"
  },
  "language_info": {
   "codemirror_mode": {
    "name": "ipython",
    "version": 3
   },
   "file_extension": ".py",
   "mimetype": "text/x-python",
   "name": "python",
   "nbconvert_exporter": "python",
   "pygments_lexer": "ipython3",
   "version": "3.10.11"
  }
 },
 "nbformat": 4,
 "nbformat_minor": 2
}
