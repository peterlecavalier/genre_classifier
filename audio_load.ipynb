{
 "cells": [
  {
   "cell_type": "markdown",
   "metadata": {},
   "source": [
    "This is an EDA notebook for analyzing the audio data"
   ]
  },
  {
   "cell_type": "code",
   "execution_count": 17,
   "metadata": {},
   "outputs": [],
   "source": [
    "# Import necessary packages\n",
    "\n",
    "import os\n",
    "import tensorflow as tf\n",
    "import tensorflow_io as tfio\n",
    "import matplotlib.pyplot as plt\n",
    "from glob import glob\n",
    "from tqdm import tqdm"
   ]
  },
  {
   "cell_type": "code",
   "execution_count": 18,
   "metadata": {},
   "outputs": [],
   "source": [
    "def load_mp3(fpath):\n",
    "    audio = tfio.audio.AudioIOTensor(fpath)\n",
    "\n",
    "    return audio\n",
    "\n",
    "    #print(audio)\n",
    "\n",
    "    # mp3 = tfio.audio.decode_mp3(byte_contents)\n",
    "\n",
    "    # return mp3"
   ]
  },
  {
   "cell_type": "code",
   "execution_count": 26,
   "metadata": {},
   "outputs": [
    {
     "name": "stderr",
     "output_type": "stream",
     "text": [
      "100%|██████████| 25000/25000 [00:11<00:00, 2151.69it/s]"
     ]
    },
    {
     "name": "stdout",
     "output_type": "stream",
     "text": [
      "{48000, 32000, 22050, 44100}\n"
     ]
    },
    {
     "name": "stderr",
     "output_type": "stream",
     "text": [
      "\n"
     ]
    }
   ],
   "source": [
    "# Get the sample rates of each mp3\n",
    "files = glob(\"./data/fma_medium/**/*.mp3\")\n",
    "rates = []\n",
    "for file in tqdm(files):\n",
    "    mp3 = load_mp3(file)\n",
    "    rates.append(mp3.rate.numpy())\n",
    "\n",
    "# This will give the unique sample rate values\n",
    "print(set(rates))"
   ]
  },
  {
   "cell_type": "code",
   "execution_count": 28,
   "metadata": {},
   "outputs": [
    {
     "name": "stdout",
     "output_type": "stream",
     "text": [
      "Count of sample rate 48000: 1090\n",
      "Count of sample rate 32000: 17\n",
      "Count of sample rate 22050: 38\n",
      "Count of sample rate 44100: 23855\n"
     ]
    }
   ],
   "source": [
    "for rate in set(rates):\n",
    "    print(f\"Count of sample rate {rate}: {rates.count(rate)}\")"
   ]
  },
  {
   "cell_type": "markdown",
   "metadata": {},
   "source": [
    "We can see from above that there are 4 different sample rates in our data:\n",
    "48000, 32000, 22050, and 44100.\n",
    "\n",
    "Since 32000 and 22050 only have 17 and 38 respectively, I'm comfortable with removing these.\n",
    "This allows me to avoid downsampling everything else for consistency (although this isn't strictly future-proof)\n",
    "\n",
    "TODO: Think over the above decision..."
   ]
  }
 ],
 "metadata": {
  "kernelspec": {
   "display_name": "Python 3",
   "language": "python",
   "name": "python3"
  },
  "language_info": {
   "codemirror_mode": {
    "name": "ipython",
    "version": 3
   },
   "file_extension": ".py",
   "mimetype": "text/x-python",
   "name": "python",
   "nbconvert_exporter": "python",
   "pygments_lexer": "ipython3",
   "version": "3.10.11"
  }
 },
 "nbformat": 4,
 "nbformat_minor": 2
}
