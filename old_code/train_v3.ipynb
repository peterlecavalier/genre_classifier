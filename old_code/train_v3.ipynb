{
 "cells": [
  {
   "cell_type": "code",
   "execution_count": 1,
   "metadata": {},
   "outputs": [],
   "source": [
    "from data_pipeline_v3 import DataGen\n",
    "import tensorflow as tf\n",
    "import pandas as pd\n",
    "import numpy as np\n",
    "from sklearn.utils import class_weight"
   ]
  },
  {
   "cell_type": "markdown",
   "metadata": {},
   "source": [
    "Set up the dataset from our generator:"
   ]
  },
  {
   "cell_type": "code",
   "execution_count": 2,
   "metadata": {},
   "outputs": [],
   "source": [
    "num_epochs = 50"
   ]
  },
  {
   "cell_type": "code",
   "execution_count": 3,
   "metadata": {},
   "outputs": [
    {
     "name": "stdout",
     "output_type": "stream",
     "text": [
      "WARNING:tensorflow:From C:\\Users\\Peter\\AppData\\Local\\Packages\\PythonSoftwareFoundation.Python.3.10_qbz5n2kfra8p0\\LocalCache\\local-packages\\Python310\\site-packages\\tensorflow\\python\\autograph\\pyct\\static_analysis\\liveness.py:83: Analyzer.lamba_check (from tensorflow.python.autograph.pyct.static_analysis.liveness) is deprecated and will be removed after 2023-09-23.\n",
      "Instructions for updating:\n",
      "Lambda fuctions will be no more assumed to be used in the statement where they are used, or at least in the same block. https://github.com/tensorflow/tensorflow/issues/56089\n"
     ]
    }
   ],
   "source": [
    "def _fixup_shape(x, y):\n",
    "  x.set_shape([None, 259, 128]) # n, h, w, c\n",
    "  y.set_shape([None]) # n, nb_classes\n",
    "  return x, y\n",
    "\n",
    "batch_size = 16\n",
    "tracks = pd.read_csv('./data/processed_genres_mel.csv')\n",
    "\n",
    "# Set up train/test split\n",
    "all_idxs = list(range(len(tracks)))\n",
    "np.random.shuffle(all_idxs)\n",
    "num_train = np.floor(len(all_idxs) * 0.8).astype(np.int32)\n",
    "train_idxs = all_idxs[:num_train]\n",
    "test_idxs = all_idxs[num_train:]\n",
    "\n",
    "# Set up generator processing function\n",
    "gen = DataGen(tracks, batch_size=batch_size)\n",
    "\n",
    "# Set up train data\n",
    "train_dataset = tf.data.Dataset.from_generator(lambda: train_idxs, tf.uint16)\n",
    "train_dataset = train_dataset.shuffle(buffer_size=len(train_idxs),\n",
    "                                      seed=0, reshuffle_each_iteration=True)\n",
    "train_dataset = train_dataset.map(lambda i: tf.py_function(func=gen.get_sample, \n",
    "                                                           inp=[i], \n",
    "                                                           Tout=[tf.float32,\n",
    "                                                                 tf.int32]\n",
    "                                                          ), \n",
    "                                                          num_parallel_calls=tf.data.AUTOTUNE)\n",
    "train_dataset = train_dataset.repeat(num_epochs)\n",
    "train_dataset = train_dataset.batch(batch_size).map(_fixup_shape)\n",
    "train_dataset = train_dataset.prefetch(tf.data.AUTOTUNE)\n",
    "\n",
    "# Set up test data\n",
    "test_dataset = tf.data.Dataset.from_generator(lambda: test_idxs, tf.uint16)\n",
    "test_dataset = test_dataset.shuffle(buffer_size=len(test_idxs),\n",
    "                                      seed=0, reshuffle_each_iteration=True)\n",
    "test_dataset = test_dataset.map(lambda i: tf.py_function(func=gen.get_sample, \n",
    "                                                           inp=[i], \n",
    "                                                           Tout=[tf.float32,\n",
    "                                                                 tf.int32]\n",
    "                                                          ), \n",
    "                                                          num_parallel_calls=tf.data.AUTOTUNE)\n",
    "test_dataset = test_dataset.repeat(num_epochs)\n",
    "test_dataset = test_dataset.batch(batch_size).map(_fixup_shape)\n",
    "test_dataset = test_dataset.prefetch(tf.data.AUTOTUNE)"
   ]
  },
  {
   "cell_type": "code",
   "execution_count": 4,
   "metadata": {},
   "outputs": [
    {
     "data": {
      "text/plain": [
       "(<tf.Tensor: shape=(16, 259, 128), dtype=float32, numpy=\n",
       " array([[[0.7137642 , 0.78672   , 0.8449787 , ..., 0.        ,\n",
       "          0.        , 0.        ],\n",
       "         [0.7178279 , 0.78846943, 0.84625506, ..., 0.        ,\n",
       "          0.        , 0.        ],\n",
       "         [0.68459123, 0.77611125, 0.83741474, ..., 0.        ,\n",
       "          0.        , 0.        ],\n",
       "         ...,\n",
       "         [0.7334004 , 0.80620414, 0.8644324 , ..., 0.        ,\n",
       "          0.        , 0.        ],\n",
       "         [0.7251082 , 0.8026834 , 0.86181706, ..., 0.        ,\n",
       "          0.        , 0.        ],\n",
       "         [0.7177766 , 0.8008223 , 0.8608847 , ..., 0.        ,\n",
       "          0.        , 0.        ]],\n",
       " \n",
       "        [[0.7382328 , 0.7213874 , 0.6793546 , ..., 0.        ,\n",
       "          0.        , 0.        ],\n",
       "         [0.7535432 , 0.74835074, 0.7509733 , ..., 0.        ,\n",
       "          0.        , 0.        ],\n",
       "         [0.73325455, 0.71427023, 0.65548503, ..., 0.        ,\n",
       "          0.        , 0.        ],\n",
       "         ...,\n",
       "         [0.83052325, 0.81807595, 0.79856503, ..., 0.03113976,\n",
       "          0.        , 0.        ],\n",
       "         [0.8299021 , 0.8178415 , 0.79985946, ..., 0.        ,\n",
       "          0.        , 0.        ],\n",
       "         [0.8346638 , 0.82898533, 0.8304523 , ..., 0.        ,\n",
       "          0.        , 0.        ]],\n",
       " \n",
       "        [[0.7087536 , 0.693465  , 0.6607287 , ..., 0.        ,\n",
       "          0.        , 0.        ],\n",
       "         [0.6020238 , 0.59143245, 0.57880783, ..., 0.        ,\n",
       "          0.        , 0.        ],\n",
       "         [0.6254379 , 0.6079969 , 0.56185526, ..., 0.        ,\n",
       "          0.        , 0.        ],\n",
       "         ...,\n",
       "         [0.71390146, 0.6972223 , 0.6562751 , ..., 0.        ,\n",
       "          0.        , 0.        ],\n",
       "         [0.665007  , 0.66031396, 0.6640883 , ..., 0.        ,\n",
       "          0.        , 0.        ],\n",
       "         [0.72019905, 0.7099842 , 0.69862974, ..., 0.        ,\n",
       "          0.        , 0.        ]],\n",
       " \n",
       "        ...,\n",
       " \n",
       "        [[0.35763884, 0.45143053, 0.5130309 , ..., 0.        ,\n",
       "          0.        , 0.        ],\n",
       "         [0.5078833 , 0.5411089 , 0.58623207, ..., 0.        ,\n",
       "          0.        , 0.        ],\n",
       "         [0.5003874 , 0.48946115, 0.47567356, ..., 0.        ,\n",
       "          0.        , 0.        ],\n",
       "         ...,\n",
       "         [0.49114975, 0.5714413 , 0.63104975, ..., 0.        ,\n",
       "          0.        , 0.        ],\n",
       "         [0.40097457, 0.56818104, 0.63468826, ..., 0.        ,\n",
       "          0.        , 0.        ],\n",
       "         [0.48529792, 0.5882111 , 0.6508724 , ..., 0.        ,\n",
       "          0.        , 0.        ]],\n",
       " \n",
       "        [[0.63361144, 0.6337376 , 0.64709044, ..., 0.        ,\n",
       "          0.        , 0.        ],\n",
       "         [0.6840672 , 0.6846223 , 0.6987145 , ..., 0.        ,\n",
       "          0.        , 0.        ],\n",
       "         [0.6627521 , 0.6519303 , 0.6385088 , ..., 0.        ,\n",
       "          0.        , 0.        ],\n",
       "         ...,\n",
       "         [0.8137733 , 0.8475342 , 0.8929376 , ..., 0.        ,\n",
       "          0.        , 0.        ],\n",
       "         [0.81176794, 0.81700486, 0.83825344, ..., 0.        ,\n",
       "          0.        , 0.        ],\n",
       "         [0.8576435 , 0.8553826 , 0.8643077 , ..., 0.        ,\n",
       "          0.        , 0.        ]],\n",
       " \n",
       "        [[0.83168375, 0.85603064, 0.89581144, ..., 0.        ,\n",
       "          0.        , 0.        ],\n",
       "         [0.8525987 , 0.87113404, 0.90653855, ..., 0.        ,\n",
       "          0.        , 0.        ],\n",
       "         [0.7927161 , 0.8356179 , 0.8852256 , ..., 0.        ,\n",
       "          0.        , 0.        ],\n",
       "         ...,\n",
       "         [0.6678485 , 0.64722395, 0.570072  , ..., 0.        ,\n",
       "          0.        , 0.        ],\n",
       "         [0.700773  , 0.6968578 , 0.70235866, ..., 0.        ,\n",
       "          0.        , 0.        ],\n",
       "         [0.7314638 , 0.72459996, 0.7230945 , ..., 0.        ,\n",
       "          0.        , 0.        ]]], dtype=float32)>,\n",
       " <tf.Tensor: shape=(16,), dtype=int32, numpy=array([14,  0,  6,  2,  0,  2,  0,  3,  2, 12,  3, 13,  2, 14,  6,  2])>)"
      ]
     },
     "execution_count": 4,
     "metadata": {},
     "output_type": "execute_result"
    }
   ],
   "source": [
    "next(iter(train_dataset))"
   ]
  },
  {
   "cell_type": "markdown",
   "metadata": {},
   "source": [
    "Compute the class weights for balancing:"
   ]
  },
  {
   "cell_type": "code",
   "execution_count": 5,
   "metadata": {},
   "outputs": [
    {
     "data": {
      "text/plain": [
       "{0: 0.7109481971702419,\n",
       " 1: 1.31339586846543,\n",
       " 2: 0.21964008742244784,\n",
       " 3: 1.0261445981554678,\n",
       " 4: 0.6932298620382733,\n",
       " 5: 4.056477864583333,\n",
       " 6: 0.24701673009831907,\n",
       " 7: 1.5499378109452737,\n",
       " 8: 10.114853896103897,\n",
       " 9: 21.04983108108108,\n",
       " 10: 13.200741525423728,\n",
       " 11: 8.751053370786517,\n",
       " 12: 2.5328252032520324,\n",
       " 13: 3.2051183127572016,\n",
       " 14: 1.1555545252225519,\n",
       " 15: 74.17559523809524}"
      ]
     },
     "execution_count": 5,
     "metadata": {},
     "output_type": "execute_result"
    }
   ],
   "source": [
    "genres = np.array(tracks['parent_genre_id'])\n",
    "class_weights = class_weight.compute_class_weight(class_weight='balanced',\n",
    "                                                  classes=np.unique(genres),\n",
    "                                                  y=genres)\n",
    "\n",
    "class_weights = dict(enumerate(class_weights))\n",
    "\n",
    "class_weights"
   ]
  },
  {
   "cell_type": "markdown",
   "metadata": {},
   "source": [
    "Build and train the model:"
   ]
  },
  {
   "cell_type": "code",
   "execution_count": 6,
   "metadata": {},
   "outputs": [
    {
     "name": "stdout",
     "output_type": "stream",
     "text": [
      "Model: \"sequential\"\n",
      "_________________________________________________________________\n",
      " Layer (type)                Output Shape              Param #   \n",
      "=================================================================\n",
      " bidirectional (Bidirectiona  (None, 518)              803936    \n",
      " l)                                                              \n",
      "                                                                 \n",
      " dropout (Dropout)           (None, 518)               0         \n",
      "                                                                 \n",
      " dense (Dense)               (None, 256)               132864    \n",
      "                                                                 \n",
      " dropout_1 (Dropout)         (None, 256)               0         \n",
      "                                                                 \n",
      " dense_1 (Dense)             (None, 128)               32896     \n",
      "                                                                 \n",
      " dropout_2 (Dropout)         (None, 128)               0         \n",
      "                                                                 \n",
      " dense_2 (Dense)             (None, 64)                8256      \n",
      "                                                                 \n",
      " dropout_3 (Dropout)         (None, 64)                0         \n",
      "                                                                 \n",
      " dense_3 (Dense)             (None, 32)                2080      \n",
      "                                                                 \n",
      " dense_4 (Dense)             (None, 16)                528       \n",
      "                                                                 \n",
      "=================================================================\n",
      "Total params: 980,560\n",
      "Trainable params: 980,560\n",
      "Non-trainable params: 0\n",
      "_________________________________________________________________\n",
      "Epoch 1/50\n",
      "  33/1246 [..............................] - ETA: 42:08 - loss: 3.5345 - accuracy: 0.0436"
     ]
    }
   ],
   "source": [
    "model = tf.keras.models.Sequential([\n",
    "    tf.keras.layers.Bidirectional(tf.keras.layers.LSTM(259, dropout=0.2, recurrent_dropout=0.2), input_shape=(259, 128)),\n",
    "    tf.keras.layers.Dropout(0.2),\n",
    "    tf.keras.layers.Dense(256, activation=\"relu\"),\n",
    "    tf.keras.layers.Dropout(0.2),\n",
    "    tf.keras.layers.Dense(128, activation=\"relu\"),\n",
    "    tf.keras.layers.Dropout(0.2),\n",
    "    tf.keras.layers.Dense(64, activation=\"relu\"),\n",
    "    tf.keras.layers.Dropout(0.2),\n",
    "    tf.keras.layers.Dense(32, activation=\"relu\"),  \n",
    "    tf.keras.layers.Dense(16)\n",
    "])\n",
    "    \n",
    "model.summary()\n",
    "model.compile(loss=tf.keras.losses.SparseCategoricalCrossentropy(from_logits=True),\n",
    "              metrics=[\"accuracy\"], optimizer='adam')\n",
    "\n",
    "history = model.fit(x=train_dataset, epochs=50,\n",
    "                    validation_data=test_dataset, class_weight=class_weights,\n",
    "                    steps_per_epoch=len(train_idxs) // batch_size)"
   ]
  }
 ],
 "metadata": {
  "kernelspec": {
   "display_name": "Python 3",
   "language": "python",
   "name": "python3"
  },
  "language_info": {
   "codemirror_mode": {
    "name": "ipython",
    "version": 3
   },
   "file_extension": ".py",
   "mimetype": "text/x-python",
   "name": "python",
   "nbconvert_exporter": "python",
   "pygments_lexer": "ipython3",
   "version": "3.10.11"
  }
 },
 "nbformat": 4,
 "nbformat_minor": 2
}
