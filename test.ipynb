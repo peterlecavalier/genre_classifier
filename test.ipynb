{
 "cells": [
  {
   "cell_type": "code",
   "execution_count": 2,
   "metadata": {},
   "outputs": [],
   "source": [
    "import pandas as pd\n",
    "import tensorflow_io as tfio\n",
    "from tqdm import tqdm"
   ]
  },
  {
   "cell_type": "code",
   "execution_count": 5,
   "metadata": {},
   "outputs": [
    {
     "name": "stderr",
     "output_type": "stream",
     "text": [
      "0it [00:00, ?it/s]"
     ]
    },
    {
     "name": "stderr",
     "output_type": "stream",
     "text": [
      "24945it [02:47, 149.07it/s]\n"
     ]
    }
   ],
   "source": [
    "tracks = pd.read_csv('./data/processed_genres.csv')\n",
    "shapes = []\n",
    "for idx, track in tqdm(tracks.iterrows()):    \n",
    "    fpath = './data/fma_medium' + track['fpath']\n",
    "    audio = tfio.audio.AudioIOTensor(fpath)\n",
    "    shape = audio.shape.numpy()[0]\n",
    "    shapes.append(shape)"
   ]
  },
  {
   "cell_type": "code",
   "execution_count": 8,
   "metadata": {},
   "outputs": [
    {
     "name": "stdout",
     "output_type": "stream",
     "text": [
      "{0, 1323119, 72047, 1322543, 1321967, 278255, 23663, 290927, 68591, 1206767}\n"
     ]
    }
   ],
   "source": [
    "print(set(shapes))"
   ]
  },
  {
   "cell_type": "code",
   "execution_count": 9,
   "metadata": {},
   "outputs": [
    {
     "name": "stdout",
     "output_type": "stream",
     "text": [
      "0: 15\n",
      "1323119: 10455\n",
      "72047: 1\n",
      "1322543: 1090\n",
      "1321967: 13379\n",
      "278255: 1\n",
      "23663: 1\n",
      "290927: 1\n",
      "68591: 1\n",
      "1206767: 1\n"
     ]
    }
   ],
   "source": [
    "for num in set(shapes):\n",
    "    print(f\"{num}: {shapes.count(num)}\")"
   ]
  },
  {
   "cell_type": "code",
   "execution_count": 14,
   "metadata": {},
   "outputs": [
    {
     "name": "stdout",
     "output_type": "stream",
     "text": [
      "\\001\\001486.mp3: Electronic\n",
      "\\005\\005574.mp3: Rock\n",
      "\\065\\065753.mp3: Electronic\n",
      "\\080\\080391.mp3: Instrumental\n",
      "\\098\\098558.mp3: Hip-Hop\n",
      "\\098\\098559.mp3: Hip-Hop\n",
      "\\098\\098560.mp3: Hip-Hop\n",
      "\\098\\098565.mp3: Hip-Hop\n",
      "\\098\\098567.mp3: Hip-Hop\n",
      "\\098\\098569.mp3: Hip-Hop\n",
      "\\098\\098571.mp3: Hip-Hop\n",
      "\\099\\099134.mp3: Electronic\n",
      "\\105\\105247.mp3: Rock\n",
      "\\108\\108925.mp3: Rock\n",
      "\\126\\126981.mp3: Folk\n",
      "\\127\\127336.mp3: Rock\n",
      "\\133\\133297.mp3: Experimental\n",
      "\\143\\143992.mp3: Rock\n"
     ]
    }
   ],
   "source": [
    "for idx, shape in enumerate(shapes):\n",
    "    if shape < 132300:\n",
    "        print(f\"{tracks.loc[idx, 'fpath']}: {tracks.loc[idx, 'parent_genre_title']}\")"
   ]
  }
 ],
 "metadata": {
  "kernelspec": {
   "display_name": "Python 3",
   "language": "python",
   "name": "python3"
  },
  "language_info": {
   "codemirror_mode": {
    "name": "ipython",
    "version": 3
   },
   "file_extension": ".py",
   "mimetype": "text/x-python",
   "name": "python",
   "nbconvert_exporter": "python",
   "pygments_lexer": "ipython3",
   "version": "3.10.11"
  }
 },
 "nbformat": 4,
 "nbformat_minor": 2
}
