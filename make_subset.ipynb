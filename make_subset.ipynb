{
 "cells": [
  {
   "cell_type": "code",
   "execution_count": 9,
   "metadata": {},
   "outputs": [],
   "source": [
    "import os\n",
    "import pandas as pd\n",
    "from pathlib import Path\n",
    "import shutil\n",
    "from tqdm import tqdm"
   ]
  },
  {
   "cell_type": "code",
   "execution_count": 10,
   "metadata": {},
   "outputs": [],
   "source": [
    "Path('../genre_classifier_subset/data').mkdir(parents=True, exist_ok=True)\n",
    "\n",
    "tracks = pd.read_csv('./data/processed_genres_mel.csv')\n",
    "tracks_subset = tracks.sample(n=1000)\n",
    "\n",
    "tracks_subset.to_csv('../genre_classifier_subset/data/processed_genres_mel.csv', index=False)"
   ]
  },
  {
   "cell_type": "code",
   "execution_count": 11,
   "metadata": {},
   "outputs": [
    {
     "name": "stderr",
     "output_type": "stream",
     "text": [
      "100%|██████████| 1000/1000 [00:20<00:00, 48.38it/s]\n"
     ]
    }
   ],
   "source": [
    "Path('../genre_classifier_subset/data/fma_medium/mel_spectrograms').mkdir(parents=True, exist_ok=True)\n",
    "\n",
    "for fpath in tqdm(tracks_subset['fpath']):\n",
    "    old_fpath = './data/fma_medium' + fpath\n",
    "    new_fpath = '../genre_classifier_subset/data/fma_medium' + fpath\n",
    "    shutil.copyfile(old_fpath, new_fpath)"
   ]
  }
 ],
 "metadata": {
  "kernelspec": {
   "display_name": "Python 3",
   "language": "python",
   "name": "python3"
  },
  "language_info": {
   "codemirror_mode": {
    "name": "ipython",
    "version": 3
   },
   "file_extension": ".py",
   "mimetype": "text/x-python",
   "name": "python",
   "nbconvert_exporter": "python",
   "pygments_lexer": "ipython3",
   "version": "3.10.11"
  }
 },
 "nbformat": 4,
 "nbformat_minor": 2
}
